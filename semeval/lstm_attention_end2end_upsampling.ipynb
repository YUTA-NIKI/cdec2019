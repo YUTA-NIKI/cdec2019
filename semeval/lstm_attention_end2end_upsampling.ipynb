{
 "cells": [
  {
   "cell_type": "markdown",
   "metadata": {},
   "source": [
    "# Setting"
   ]
  },
  {
   "cell_type": "code",
   "execution_count": 1,
   "metadata": {},
   "outputs": [],
   "source": [
    "import os\n",
    "\n",
    "import numpy as np\n",
    "import pandas as pd\n",
    "import matplotlib.pyplot as plt\n",
    "%matplotlib inline\n",
    "\n",
    "from tqdm import tqdm\n",
    "\n",
    "from sklearn.model_selection import train_test_split\n",
    "from sklearn.metrics import confusion_matrix, roc_auc_score\n",
    "\n",
    "def confusion2score(confusion):\n",
    "    tp, fn, fp, tn = confusion.ravel()\n",
    "    acc = (tp + tn) / (tp + fn + fp + tn)\n",
    "    pre = tp / (tp + fp)\n",
    "    rec = tp / (tp + fn)\n",
    "    f1  = (2 * tp) / (2*tp + fp + fn)\n",
    "    return (acc, pre, rec, f1)\n",
    "\n",
    "import spacy\n",
    "from bs4 import BeautifulSoup\n",
    "\n",
    "import torch\n",
    "from torch.autograd import Variable\n",
    "import torch.nn as nn\n",
    "import torch.nn.functional as F\n",
    "import torch.optim as optim\n",
    "from torch.utils.data import Dataset, TensorDataset, DataLoader"
   ]
  },
  {
   "cell_type": "code",
   "execution_count": 2,
   "metadata": {},
   "outputs": [
    {
     "name": "stdout",
     "output_type": "stream",
     "text": [
      "Pytorch version:  1.1.0\n",
      "Currently selected device:  0\n",
      "# GPUs available:  1\n",
      "cuda:0\n"
     ]
    }
   ],
   "source": [
    "print('Pytorch version: ', torch.__version__)\n",
    "print('Currently selected device: ', torch.cuda.current_device())\n",
    "print('# GPUs available: ', torch.cuda.device_count())\n",
    "device = torch.device(\"cuda:0\" if torch.cuda.is_available() else \"cpu\")\n",
    "# device = torch.device('cpu') # デバッグ用\n",
    "print(device)"
   ]
  },
  {
   "cell_type": "markdown",
   "metadata": {},
   "source": [
    "## Loading Data"
   ]
  },
  {
   "cell_type": "code",
   "execution_count": 3,
   "metadata": {},
   "outputs": [],
   "source": [
    "train_df = pd.read_csv('/home/b2018yniki/data/semeval2010task8/train_original.tsv', sep='\\t')\n",
    "train_df = train_df.assign(causal_flag = [0 if 'Cause-Effect' in relation else 1 for relation in train_df.relation.values]).drop(['relation', 'comment'], axis=1)\n",
    "train_df.body = [text.replace('\"', '') for text in train_df.body.values]\n",
    "test_df = pd.read_csv('/home/b2018yniki/data/semeval2010task8/test_original.tsv', sep='\\t')\n",
    "test_df = test_df.assign(causal_flag = [0 if 'Cause-Effect' in relation else 1 for relation in test_df.relation.values]).drop(['relation', 'comment'], axis=1)\n",
    "test_df.body = [text.replace('\"', '') for text in test_df.body.values]"
   ]
  },
  {
   "cell_type": "markdown",
   "metadata": {},
   "source": [
    "# Preprocessing"
   ]
  },
  {
   "cell_type": "markdown",
   "metadata": {},
   "source": [
    "## Tokenizer"
   ]
  },
  {
   "cell_type": "code",
   "execution_count": 4,
   "metadata": {},
   "outputs": [],
   "source": [
    "spacy_en = spacy.load('en')\n",
    "def tokenizer(text):\n",
    "    soup = BeautifulSoup(text)\n",
    "    clean_txt = soup.get_text()\n",
    "    words = []\n",
    "    for tok in spacy_en.tokenizer(clean_txt):\n",
    "        if tok.text not in \"[],.();:<>{}|*-~\":\n",
    "            words.append(tok.lemma_)\n",
    "    return words"
   ]
  },
  {
   "cell_type": "code",
   "execution_count": 5,
   "metadata": {},
   "outputs": [
    {
     "name": "stdout",
     "output_type": "stream",
     "text": [
      "vocabulaly size: 16619\n"
     ]
    }
   ],
   "source": [
    "vocab = []\n",
    "for text in train_df.body.values:\n",
    "    vocab.extend(tokenizer(text))\n",
    "vocab = list(set(vocab))\n",
    "print('vocabulaly size: {}'.format(len(vocab)))\n",
    "vocab_idx = dict(zip(vocab, range(len(vocab))))\n",
    "del vocab"
   ]
  },
  {
   "cell_type": "code",
   "execution_count": 6,
   "metadata": {},
   "outputs": [],
   "source": [
    "def df2indexseq(df, vocab_idx):\n",
    "    data = []\n",
    "    for text in df.values:\n",
    "        words = tokenizer(text)\n",
    "        data.append([vocab_idx[word]+1 for word in words if word in vocab_idx.keys()])\n",
    "    return data\n",
    "\n",
    "def padding(data):\n",
    "    # npに変換し、0埋めを行う\n",
    "    max_length = max([len(d) for d in data])\n",
    "    padded_data = np.zeros((len(data), max_length))  # 0で埋める\n",
    "    for i, d1 in enumerate(data):\n",
    "        for j, d2 in enumerate(d1):\n",
    "            padded_data[i][j] = d2\n",
    "    return padded_data\n",
    "\n",
    "class MyDataset(torch.utils.data.Dataset):\n",
    "    def __init__(self, data, tags):\n",
    "        super(MyDataset, self).__init__()\n",
    "        assert len(data) == len(tags)\n",
    "        self.data = data\n",
    "        self.tags = tags\n",
    "        \n",
    "    def __len__(self):\n",
    "        return len(self.tags)\n",
    "    \n",
    "    def __getitem__(self, index):\n",
    "        return self.data[index], self.tags[index]"
   ]
  },
  {
   "cell_type": "markdown",
   "metadata": {},
   "source": [
    "# Model"
   ]
  },
  {
   "cell_type": "markdown",
   "metadata": {},
   "source": [
    "## LSTM with self-attention"
   ]
  },
  {
   "cell_type": "code",
   "execution_count": 7,
   "metadata": {},
   "outputs": [],
   "source": [
    "class ATT(nn.Module):\n",
    "    def __init__(self, hidden_dim):\n",
    "        super(ATT, self).__init__()\n",
    "        self.hidden_dim = hidden_dim\n",
    "        self.fc = nn.Linear(hidden_dim, 1)\n",
    "    def forward(self, inputs):\n",
    "        b_size = inputs.size(0)\n",
    "        inputs = inputs.contiguous().view(-1, self.hidden_dim)   # B,S,H*2 -> B*S,H*2\n",
    "        att = self.fc(torch.tanh(inputs))  # B*S,H*2 -> B*S,1\n",
    "        return F.softmax(att.view(b_size, -1), dim=1).unsqueeze(2) # (b*s, 1) -> (b, s, 1)\n",
    "\n",
    "class LSTM(nn.Module):\n",
    "    def __init__(self, batch_size, vocab_size, emb_dim, hidden_dim, dropout_rate=0.0, activate='tanh', bidirectional=False):\n",
    "        super(LSTM, self).__init__()\n",
    "        \n",
    "        self.vocab_size = vocab_size\n",
    "        self.emb_dim    = emb_dim\n",
    "        self.hidden_dim = hidden_dim\n",
    "        self.batch_size = batch_size\n",
    "        self.bidirectional = bidirectional\n",
    "        self.activate   = activate\n",
    "        \n",
    "        self.emb  = nn.Embedding(self.vocab_size, self.emb_dim, padding_idx=0)\n",
    "        self.lstm = nn.LSTM(self.emb_dim, self.hidden_dim, batch_first=True, bidirectional=self.bidirectional)\n",
    "        self.att = ATT(hidden_dim * 2)\n",
    "        \n",
    "        self.fc0 = nn.Linear(hidden_dim * 2, 100)\n",
    "        self.fc1 = nn.Linear(100, 2)\n",
    "        self.do  = nn.Dropout(dropout_rate)\n",
    "        \n",
    "        self.hidden = self.init_hidden()\n",
    "\n",
    "    def forward(self, x):\n",
    "\n",
    "        x = self.emb(x)\n",
    "        lstm_out, self.hidden = self.lstm(x, self.hidden)\n",
    "        \n",
    "        att = self.att(lstm_out)\n",
    "        feats = (lstm_out * att).sum(dim=1) # (b, s, h) -> (b, h)\n",
    "        \n",
    "        y = self.fc0(feats)\n",
    "        y = self.do(y)\n",
    "        if self.activate == 'tanh':\n",
    "            y = self.fc1(torch.tanh(y))\n",
    "        elif self.activate == 'relu':\n",
    "            y = self.fc1(torch.relu(y))\n",
    "        tag_scores = F.log_softmax(y)\n",
    "        return tag_scores, att\n",
    "\n",
    "    def init_hidden(self):\n",
    "        # The axes semantics are (num_layers, minibatch_size, hidden_dim)\n",
    "        num = 2 if self.bidirectional else 1    # bidirectionalのとき2\n",
    "        h0 = torch.zeros(num, self.batch_size, self.hidden_dim).to(device)\n",
    "        c0 = torch.zeros(num, self.batch_size, self.hidden_dim).to(device)\n",
    "        return (h0, c0)"
   ]
  },
  {
   "cell_type": "markdown",
   "metadata": {},
   "source": [
    "## Plot loss and acc"
   ]
  },
  {
   "cell_type": "code",
   "execution_count": 8,
   "metadata": {},
   "outputs": [],
   "source": [
    "def training_plot(epoch_num, train_loss_list, train_acc_list, valid_loss_list, valid_acc_list):\n",
    "    plt.figure()\n",
    "    plt.plot(range(epoch_num), train_loss_list, color='blue', linestyle='-', label='train_loss')\n",
    "    plt.plot(range(epoch_num), valid_loss_list, color='green', linestyle='--', label='val_loss')\n",
    "    plt.legend()\n",
    "    plt.xlabel('epoch')\n",
    "    plt.ylabel('loss')\n",
    "    plt.title('Training and validation loss')\n",
    "    plt.grid()\n",
    "    plt.show()\n",
    "\n",
    "    plt.figure()\n",
    "    plt.plot(range(epoch_num), train_acc_list, color='blue', linestyle='-', label='train_acc')\n",
    "    plt.plot(range(epoch_num), valid_acc_list, color='green', linestyle='--', label='val_acc')\n",
    "    plt.legend()\n",
    "    plt.xlabel('epoch')\n",
    "    plt.ylabel('acc')\n",
    "    plt.title('Training and validation accuracy')\n",
    "    plt.grid()\n",
    "    plt.show()"
   ]
  },
  {
   "cell_type": "markdown",
   "metadata": {},
   "source": [
    "## Train and Valid"
   ]
  },
  {
   "cell_type": "code",
   "execution_count": 9,
   "metadata": {},
   "outputs": [],
   "source": [
    "def training(net, train_loader, valid_loader, epoch_num, y_valid):\n",
    "    train_loss_list = []\n",
    "    train_acc_list  = []\n",
    "    valid_loss_list = []\n",
    "    valid_acc_list  = []\n",
    "\n",
    "    for epoch in range(epoch_num):\n",
    "\n",
    "        train_loss = 0.0\n",
    "        train_acc  = 0.0\n",
    "        valid_loss = 0.0\n",
    "        valid_acc  = 0.0\n",
    "\n",
    "        # train====================\n",
    "        net.train()\n",
    "        for xx, yy in train_loader:\n",
    "            net.batch_size = len(yy)\n",
    "            net.hidden = net.init_hidden()\n",
    "\n",
    "            optimizer.zero_grad()    # 勾配の初期化\n",
    "\n",
    "            output, att = net(xx)\n",
    "            loss   = criterion(output, yy)\n",
    "\n",
    "            train_loss += loss.item()\n",
    "            train_acc += (output.max(1)[1] == yy).sum().item()\n",
    "\n",
    "            loss.backward(retain_graph=True)     # 逆伝播の計算\n",
    "            optimizer.step()    # 勾配の更新\n",
    "            \n",
    "        avg_train_loss = train_loss / len(train_loader.dataset)\n",
    "        avg_train_acc  = train_acc  / len(train_loader.dataset)\n",
    "\n",
    "        # eval========================\n",
    "        net.eval()\n",
    "        y_pred = np.zeros((1,2))\n",
    "        with torch.no_grad():\n",
    "            for xx, yy in valid_loader:\n",
    "                net.batch_size = len(yy)\n",
    "                net.hidden = net.init_hidden()\n",
    "\n",
    "                output, att = net(xx)\n",
    "                loss   = criterion(output, yy)\n",
    "\n",
    "                valid_loss += loss.item()\n",
    "                valid_acc  += (output.max(1)[1] == yy).sum().item()\n",
    "                y_pred = np.concatenate([y_pred, output.to('cpu').numpy()], axis=0)\n",
    "                \n",
    "        avg_valid_loss = valid_loss / len(valid_loader.dataset)\n",
    "        avg_valid_acc  = valid_acc  / len(valid_loader.dataset)\n",
    "        \n",
    "        if epoch in [49, 99, 199, 299]:\n",
    "            confusion = confusion_matrix(y_valid, np.argmax(y_pred[1:,], axis=1).tolist())\n",
    "            scores = confusion2score(confusion)\n",
    "            print(\"At {} epoch, validation scores are...\".format(epoch+1))\n",
    "            print('Acc: {}, Precision: {}, Recall: {}, F1: {}'.format(avg_valid_acc, scores[1], scores[2], scores[3]))\n",
    "            print('-----------')\n",
    "\n",
    "        train_loss_list.append(avg_train_loss)\n",
    "        train_acc_list.append(avg_train_acc)\n",
    "        valid_loss_list.append(avg_valid_loss)\n",
    "        valid_acc_list.append(avg_valid_acc)\n",
    "        \n",
    "    training_plot(epoch_num, train_loss_list, train_acc_list, valid_loss_list, valid_acc_list)"
   ]
  },
  {
   "cell_type": "markdown",
   "metadata": {},
   "source": [
    "## Test"
   ]
  },
  {
   "cell_type": "code",
   "execution_count": 10,
   "metadata": {},
   "outputs": [],
   "source": [
    "def test(net, test_loader, y_test):\n",
    "    net.eval()\n",
    "    y_pred = np.zeros((1,2))\n",
    "    with torch.no_grad():\n",
    "        for xx, yy in test_loader:\n",
    "            net.batch_size = len(yy)\n",
    "            net.hidden = net.init_hidden()\n",
    "\n",
    "            output, att = net(xx)\n",
    "            y_pred = np.concatenate([y_pred, output.to('cpu').numpy()], axis=0)\n",
    "\n",
    "    confusion = confusion_matrix(y_test, np.argmax(y_pred[1:,], axis=1).tolist())\n",
    "    auc = roc_auc_score(y_test, np.argmax(y_pred[1:,], axis=1).tolist())\n",
    "    scores = confusion2score(confusion)\n",
    "    return [scores[0], scores[1], scores[2], scores[3]], confusion, auc"
   ]
  },
  {
   "cell_type": "markdown",
   "metadata": {},
   "source": [
    "# Experiment"
   ]
  },
  {
   "cell_type": "code",
   "execution_count": 11,
   "metadata": {},
   "outputs": [],
   "source": [
    "X_train = torch.LongTensor(padding(df2indexseq(train_df.body, vocab_idx))).to(device)\n",
    "y_train = torch.LongTensor(train_df.causal_flag.values).to(device)\n",
    "X_test  = torch.LongTensor(padding(df2indexseq(test_df.body, vocab_idx))).to(device)\n",
    "y_test  = torch.LongTensor(test_df.causal_flag.values).to(device)\n",
    "\n",
    "train_ds = MyDataset(X_train, y_train)\n",
    "test_ds  = MyDataset(X_test, y_test)"
   ]
  },
  {
   "cell_type": "code",
   "execution_count": 12,
   "metadata": {},
   "outputs": [
    {
     "name": "stdout",
     "output_type": "stream",
     "text": [
      "LSTM(\n",
      "  (emb): Embedding(16620, 200, padding_idx=0)\n",
      "  (lstm): LSTM(200, 100, batch_first=True, bidirectional=True)\n",
      "  (att): ATT(\n",
      "    (fc): Linear(in_features=200, out_features=1, bias=True)\n",
      "  )\n",
      "  (fc0): Linear(in_features=200, out_features=100, bias=True)\n",
      "  (fc1): Linear(in_features=100, out_features=2, bias=True)\n",
      "  (do): Dropout(p=0.0)\n",
      ")\n"
     ]
    }
   ],
   "source": [
    "np.random.seed(2019)\n",
    "np.random.RandomState(2019)\n",
    "torch.manual_seed(2019)\n",
    "\n",
    "epoch_num  = 300     # エポック数\n",
    "batch_size = 64      # バッチサイズ\n",
    "vocab_size = len(vocab_idx)+1 # 語彙数\n",
    "emb_dim    = 200     # 分散表現の次元数\n",
    "hidden_dim = 100     # 隠れ層の次元数\n",
    "drop_rate  = 0.0     # Dropout率\n",
    "actiate    = 'relu'  # 活性化関数\n",
    "\n",
    "learningrate = 0.01  # 学習率\n",
    "weight_decay = 1e-3  # l2正則化\n",
    "\n",
    "# dataloader(注意：validloader, testloaderのshuffleはFalse)\n",
    "train_loader = DataLoader(train_ds, batch_size=batch_size, shuffle=True, num_workers=0)\n",
    "# valid_loader = DataLoader(valid_ds, batch_size=batch_size, shuffle=False, num_workers=2)\n",
    "test_loader  = DataLoader(test_ds, batch_size=batch_size, shuffle=False, num_workers=0)\n",
    "\n",
    "net = LSTM(batch_size=batch_size, vocab_size=vocab_size, emb_dim=emb_dim, hidden_dim=hidden_dim, dropout_rate=drop_rate, activate=actiate, bidirectional=True).to(device)\n",
    "\n",
    "# criterion = nn.CrossEntropyLoss()\n",
    "criterion = nn.NLLLoss()\n",
    "# optimizer = optim.Adam(net.parameters(), lr=learningrate, weight_decay=weight_decay)\n",
    "optimizer = optim.SGD(net.parameters(), lr=learningrate, weight_decay=weight_decay)\n",
    "\n",
    "print(net)"
   ]
  },
  {
   "cell_type": "code",
   "execution_count": 13,
   "metadata": {},
   "outputs": [
    {
     "name": "stderr",
     "output_type": "stream",
     "text": [
      "/home/b2018yniki/.pyenv/versions/3.7.1/lib/python3.7/site-packages/ipykernel_launcher.py:47: UserWarning: Implicit dimension choice for log_softmax has been deprecated. Change the call to include dim=X as an argument.\n",
      "/home/b2018yniki/.pyenv/versions/3.7.1/lib/python3.7/site-packages/ipykernel_launcher.py:16: RuntimeWarning: invalid value encountered in long_scalars\n",
      "  app.launch_new_instance()\n"
     ]
    },
    {
     "name": "stdout",
     "output_type": "stream",
     "text": [
      "At 50 epoch, validation scores are...\n",
      "Acc: 0.8792786161207213, Precision: nan, Recall: 0.0, F1: 0.0\n",
      "-----------\n",
      "At 100 epoch, validation scores are...\n",
      "Acc: 0.9466323150533676, Precision: 0.9216589861751152, Recall: 0.6097560975609756, F1: 0.7339449541284404\n",
      "-----------\n",
      "At 200 epoch, validation scores are...\n",
      "Acc: 0.9495767390504233, Precision: 0.805111821086262, Recall: 0.7682926829268293, F1: 0.7862714508580343\n",
      "-----------\n",
      "At 300 epoch, validation scores are...\n",
      "Acc: 0.9521531100478469, Precision: 0.801829268292683, Recall: 0.801829268292683, F1: 0.801829268292683\n",
      "-----------\n"
     ]
    },
    {
     "data": {
      "image/png": "[encoded data removed]",
      "text/plain": [
       "<Figure size 432x288 with 1 Axes>"
      ]
     },
     "metadata": {
      "needs_background": "light"
     },
     "output_type": "display_data"
    },
    {
     "data": {
      "image/png": "[encoded data removed]",
      "text/plain": [
       "<Figure size 432x288 with 1 Axes>"
      ]
     },
     "metadata": {
      "needs_background": "light"
     },
     "output_type": "display_data"
    }
   ],
   "source": [
    "training(net, train_loader, test_loader, epoch_num, y_test.to('cpu').numpy())"
   ]
  },
  {
   "cell_type": "code",
   "execution_count": 14,
   "metadata": {},
   "outputs": [
    {
     "name": "stderr",
     "output_type": "stream",
     "text": [
      "/home/b2018yniki/.pyenv/versions/3.7.1/lib/python3.7/site-packages/ipykernel_launcher.py:47: UserWarning: Implicit dimension choice for log_softmax has been deprecated. Change the call to include dim=X as an argument.\n"
     ]
    },
    {
     "name": "stdout",
     "output_type": "stream",
     "text": [
      "Accuracy: 0.9521531100478469, Precision: 0.801829268292683, Recall: 0.801829268292683, F1: 0.801829268292683\n",
      "auc:  0.8873106157285935\n"
     ]
    },
    {
     "data": {
      "text/plain": [
       "array([[ 263,   65],\n",
       "       [  65, 2324]])"
      ]
     },
     "execution_count": 14,
     "metadata": {},
     "output_type": "execute_result"
    }
   ],
   "source": [
    "result, confusion, auc = test(net, test_loader, y_test.to('cpu').numpy())\n",
    "print('Accuracy: {}, Precision: {}, Recall: {}, F1: {}'.format(result[0], result[1], result[2], result[3]))\n",
    "print('auc: ', auc)\n",
    "confusion"
   ]
  },
  {
   "cell_type": "markdown",
   "metadata": {},
   "source": [
    "## UpSampling"
   ]
  },
  {
   "cell_type": "code",
   "execution_count": 11,
   "metadata": {},
   "outputs": [
    {
     "name": "stdout",
     "output_type": "stream",
     "text": [
      "1003\n",
      "6997\n"
     ]
    }
   ],
   "source": [
    "print(len(train_df[train_df.causal_flag==0]))\n",
    "print(len(train_df[train_df.causal_flag==1]))"
   ]
  },
  {
   "cell_type": "code",
   "execution_count": 12,
   "metadata": {},
   "outputs": [],
   "source": [
    "posi_df = train_df[train_df.causal_flag==0]\n",
    "nega_df = train_df[train_df.causal_flag==1]\n",
    "train_df = pd.concat([posi_df, posi_df, posi_df, posi_df, posi_df, posi_df, nega_df])\n",
    "\n",
    "X_train = torch.LongTensor(padding(df2indexseq(train_df.body, vocab_idx))).to(device)\n",
    "y_train = torch.LongTensor(train_df.causal_flag.values).to(device)\n",
    "X_test  = torch.LongTensor(padding(df2indexseq(test_df.body, vocab_idx))).to(device)\n",
    "y_test  = torch.LongTensor(test_df.causal_flag.values).to(device)\n",
    "\n",
    "train_ds = MyDataset(X_train, y_train)\n",
    "test_ds  = MyDataset(X_test, y_test)"
   ]
  },
  {
   "cell_type": "code",
   "execution_count": 13,
   "metadata": {},
   "outputs": [
    {
     "name": "stdout",
     "output_type": "stream",
     "text": [
      "13015\n",
      "6997\n"
     ]
    }
   ],
   "source": [
    "print(len(y_train))\n",
    "print(len(y_train[y_train == 1]))"
   ]
  },
  {
   "cell_type": "code",
   "execution_count": 14,
   "metadata": {},
   "outputs": [
    {
     "name": "stdout",
     "output_type": "stream",
     "text": [
      "LSTM(\n",
      "  (emb): Embedding(16620, 200, padding_idx=0)\n",
      "  (lstm): LSTM(200, 200, batch_first=True, bidirectional=True)\n",
      "  (att): ATT(\n",
      "    (fc): Linear(in_features=400, out_features=1, bias=True)\n",
      "  )\n",
      "  (fc0): Linear(in_features=400, out_features=100, bias=True)\n",
      "  (fc1): Linear(in_features=100, out_features=2, bias=True)\n",
      "  (do): Dropout(p=0.0)\n",
      ")\n"
     ]
    }
   ],
   "source": [
    "np.random.seed(2019)\n",
    "np.random.RandomState(2019)\n",
    "torch.manual_seed(2019)\n",
    "\n",
    "epoch_num  = 200     # エポック数\n",
    "batch_size = 64      # バッチサイズ\n",
    "vocab_size = len(vocab_idx)+1 # 語彙数\n",
    "emb_dim    = 200     # 分散表現の次元数\n",
    "hidden_dim = 200     # 隠れ層の次元数\n",
    "drop_rate  = 0.0     # Dropout率\n",
    "actiate    = 'relu'  # 活性化関数\n",
    "\n",
    "learningrate = 0.01  # 学習率\n",
    "weight_decay = 1e-3  # l2正則化\n",
    "\n",
    "# dataloader(注意：validloader, testloaderのshuffleはFalse)\n",
    "train_loader = DataLoader(train_ds, batch_size=batch_size, shuffle=True, num_workers=0)\n",
    "# valid_loader = DataLoader(valid_ds, batch_size=batch_size, shuffle=False, num_workers=2)\n",
    "test_loader  = DataLoader(test_ds, batch_size=batch_size, shuffle=False, num_workers=0)\n",
    "\n",
    "net = LSTM(batch_size=batch_size, vocab_size=vocab_size, emb_dim=emb_dim, hidden_dim=hidden_dim, dropout_rate=drop_rate, activate=actiate, bidirectional=True).to(device)\n",
    "\n",
    "# criterion = nn.CrossEntropyLoss()\n",
    "criterion = nn.NLLLoss()\n",
    "# optimizer = optim.Adam(net.parameters(), lr=learningrate, weight_decay=weight_decay)\n",
    "optimizer = optim.SGD(net.parameters(), lr=learningrate, weight_decay=weight_decay)\n",
    "\n",
    "print(net)"
   ]
  },
  {
   "cell_type": "code",
   "execution_count": 15,
   "metadata": {},
   "outputs": [
    {
     "name": "stderr",
     "output_type": "stream",
     "text": [
      "/home/b2018yniki/.pyenv/versions/3.7.1/lib/python3.7/site-packages/ipykernel_launcher.py:47: UserWarning: Implicit dimension choice for log_softmax has been deprecated. Change the call to include dim=X as an argument.\n"
     ]
    },
    {
     "name": "stdout",
     "output_type": "stream",
     "text": [
      "At 50 epoch, validation scores are...\n",
      "Acc: 0.8785425101214575, Precision: 0.4981949458483754, Recall: 0.8414634146341463, F1: 0.6258503401360545\n",
      "-----------\n",
      "At 100 epoch, validation scores are...\n",
      "Acc: 0.9293338240706662, Precision: 0.6626794258373205, Recall: 0.8445121951219512, F1: 0.7426273458445041\n",
      "-----------\n",
      "At 200 epoch, validation scores are...\n",
      "Acc: 0.9355907250644093, Precision: 0.6987012987012987, Recall: 0.8201219512195121, F1: 0.7545582047685835\n",
      "-----------\n"
     ]
    },
    {
     "data": {
      "image/png": "[encoded data removed]",
      "text/plain": [
       "<Figure size 432x288 with 1 Axes>"
      ]
     },
     "metadata": {
      "needs_background": "light"
     },
     "output_type": "display_data"
    },
    {
     "data": {
      "image/png": "[encoded data removed]",
      "text/plain": [
       "<Figure size 432x288 with 1 Axes>"
      ]
     },
     "metadata": {
      "needs_background": "light"
     },
     "output_type": "display_data"
    }
   ],
   "source": [
    "training(net, train_loader, test_loader, epoch_num, y_test.to('cpu').numpy())"
   ]
  },
  {
   "cell_type": "code",
   "execution_count": 16,
   "metadata": {},
   "outputs": [
    {
     "name": "stderr",
     "output_type": "stream",
     "text": [
      "/home/b2018yniki/.pyenv/versions/3.7.1/lib/python3.7/site-packages/ipykernel_launcher.py:47: UserWarning: Implicit dimension choice for log_softmax has been deprecated. Change the call to include dim=X as an argument.\n"
     ]
    },
    {
     "name": "stdout",
     "output_type": "stream",
     "text": [
      "Accuracy: 0.9355907250644093, Precision: 0.6987012987012987, Recall: 0.8201219512195121, F1: 0.7545582047685835\n",
      "auc:  0.8857830350488519\n"
     ]
    },
    {
     "data": {
      "text/plain": [
       "array([[ 269,   59],\n",
       "       [ 116, 2273]])"
      ]
     },
     "execution_count": 16,
     "metadata": {},
     "output_type": "execute_result"
    }
   ],
   "source": [
    "result, confusion, auc = test(net, test_loader, y_test.to('cpu').numpy())\n",
    "print('Accuracy: {}, Precision: {}, Recall: {}, F1: {}'.format(result[0], result[1], result[2], result[3]))\n",
    "print('auc: ', auc)\n",
    "confusion"
   ]
  },
  {
   "cell_type": "code",
   "execution_count": 21,
   "metadata": {},
   "outputs": [
    {
     "name": "stderr",
     "output_type": "stream",
     "text": [
      "/home/b2018yniki/.pyenv/versions/3.7.1/lib/python3.7/site-packages/ipykernel_launcher.py:47: UserWarning: Implicit dimension choice for log_softmax has been deprecated. Change the call to include dim=X as an argument.\n"
     ]
    },
    {
     "name": "stdout",
     "output_type": "stream",
     "text": [
      "Accuracy: 0.9252852410747148, Precision: 0.6470588235294118, Recall: 0.8384146341463414, F1: 0.7304116865869854\n",
      "auc:  0.8878134284168291\n"
     ]
    },
    {
     "data": {
      "text/plain": [
       "array([[ 275,   53],\n",
       "       [ 150, 2239]])"
      ]
     },
     "execution_count": 21,
     "metadata": {},
     "output_type": "execute_result"
    }
   ],
   "source": [
    "### upsampling7倍のとき ###\n",
    "# result, confusion, auc = test(net, test_loader, y_test.to('cpu').numpy())\n",
    "# print('Accuracy: {}, Precision: {}, Recall: {}, F1: {}'.format(result[0], result[1], result[2], result[3]))\n",
    "# print('auc: ', auc)\n",
    "# confusion"
   ]
  },
  {
   "cell_type": "code",
   "execution_count": null,
   "metadata": {},
   "outputs": [],
   "source": []
  }
 ],
 "metadata": {
  "kernelspec": {
   "display_name": "Python 3",
   "language": "python",
   "name": "python3"
  },
  "language_info": {
   "codemirror_mode": {
    "name": "ipython",
    "version": 3
   },
   "file_extension": ".py",
   "mimetype": "text/x-python",
   "name": "python",
   "nbconvert_exporter": "python",
   "pygments_lexer": "ipython3",
   "version": "3.7.1"
  }
 },
 "nbformat": 4,
 "nbformat_minor": 2
}
