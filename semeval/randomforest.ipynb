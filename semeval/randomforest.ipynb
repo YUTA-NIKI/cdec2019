{
 "cells": [
  {
   "cell_type": "markdown",
   "metadata": {},
   "source": [
    "# Settings"
   ]
  },
  {
   "cell_type": "code",
   "execution_count": 1,
   "metadata": {},
   "outputs": [],
   "source": [
    "import os\n",
    "import numpy as np\n",
    "import pandas as pd\n",
    "\n",
    "import matplotlib\n",
    "import matplotlib.pyplot as plt\n",
    "import seaborn as sns\n",
    "\n",
    "import optuna\n",
    "\n",
    "from sklearn.model_selection import train_test_split\n",
    "from sklearn.feature_extraction.text import CountVectorizer\n",
    "from sklearn.metrics import confusion_matrix, roc_auc_score\n",
    "from sklearn.ensemble import RandomForestClassifier\n",
    "\n",
    "def confusion2score(confusion):\n",
    "    tp, fn, fp, tn = confusion.ravel()\n",
    "    if tp == None:\n",
    "        tp = 0\n",
    "    if fn == None:\n",
    "        fn = 0\n",
    "    if fp == None:\n",
    "        fp = 0\n",
    "    if tn == None:\n",
    "        tn = 0\n",
    "    acc = (tp + tn) / (tp + fn + fp + tn)\n",
    "    if (tp+fp) == 0:\n",
    "        pre=0\n",
    "    else:\n",
    "        pre = tp / (tp + fp)\n",
    "    if (tp+fn) == 0:\n",
    "        rec=0\n",
    "    else:\n",
    "        rec = tp / (tp + fn)\n",
    "    if (2*tp+fp+fn) == 0:\n",
    "        f1=0\n",
    "    else:\n",
    "        f1  = (2 * tp) / (2*tp + fp + fn)\n",
    "    return (acc, pre, rec, f1)\n",
    "\n",
    "import spacy\n",
    "from bs4 import BeautifulSoup\n",
    "\n",
    "spacy_en = spacy.load('en')\n",
    "def tokenizer(text):\n",
    "    soup = BeautifulSoup(text)\n",
    "    clean_txt = soup.get_text()\n",
    "    words = []\n",
    "    for tok in spacy_en.tokenizer(clean_txt):\n",
    "        if tok.text not in \"[],.();:<>{}|*-~\":\n",
    "            words.append(tok.lemma_)\n",
    "    return \" \".join(words)"
   ]
  },
  {
   "cell_type": "markdown",
   "metadata": {},
   "source": [
    "# Random Forest"
   ]
  },
  {
   "cell_type": "markdown",
   "metadata": {},
   "source": [
    "## without feature engineering"
   ]
  },
  {
   "cell_type": "code",
   "execution_count": 2,
   "metadata": {},
   "outputs": [
    {
     "name": "stdout",
     "output_type": "stream",
     "text": [
      "Number of features: 2794\n",
      "X_train shape:  (8000, 2794)\n",
      "X_test shape:  (2717, 2794)\n",
      "Confusion Matrix: \n",
      "[[  13  315]\n",
      " [   1 2388]]\n",
      "scores:  (0.8836952521163047, 0.9285714285714286, 0.039634146341463415, 0.07602339181286549)\n",
      "AUC:  0.5196077805796895\n"
     ]
    }
   ],
   "source": [
    "train_df = pd.read_csv('/home/b2018yniki/data/semeval2010task8/train_original.tsv', sep='\\t')\n",
    "train_df = train_df.assign(causal_flag = [0 if 'Cause-Effect' in relation else 1 for relation in train_df.relation.values]).drop(['relation', 'comment'], axis=1)\n",
    "train_df.body = [text.replace('\"', '') for text in train_df.body.values]\n",
    "test_df = pd.read_csv('/home/b2018yniki/data/semeval2010task8/test_original.tsv', sep='\\t')\n",
    "test_df = test_df.assign(causal_flag = [0 if 'Cause-Effect' in relation else 1 for relation in test_df.relation.values]).drop(['relation', 'comment'], axis=1)\n",
    "test_df.body = [text.replace('\"', '') for text in test_df.body.values]\n",
    "\n",
    "X_train = [tokenizer(text) for text in train_df.body.values]\n",
    "X_test  = [tokenizer(text) for text in test_df.body.values]\n",
    "y_train = train_df.causal_flag.values\n",
    "y_test  = test_df.causal_flag.values\n",
    "del train_df, test_df\n",
    "\n",
    "vect = CountVectorizer(min_df=10, ngram_range=(1,3))\n",
    "vect.fit(X_train)\n",
    "X_train = vect.transform(X_train)\n",
    "X_test  = vect.transform(X_test)\n",
    "\n",
    "feature_names = vect.get_feature_names()\n",
    "print(\"Number of features: {}\".format(len(feature_names)))\n",
    "X_train = pd.DataFrame(X_train.toarray(), columns=feature_names)\n",
    "X_test  = pd.DataFrame(X_test.toarray(), columns=feature_names)\n",
    "\n",
    "print('X_train shape: ', X_train.shape)\n",
    "print('X_test shape: ', X_test.shape)\n",
    "\n",
    "rf_model = RandomForestClassifier(n_estimators=100, max_depth=5, random_state=2019)\n",
    "rf_model.fit(X_train, y_train)\n",
    "y_pred = rf_model.predict(X_test)\n",
    "\n",
    "confusion = confusion_matrix(y_test, y_pred)\n",
    "scores    = confusion2score(confusion)\n",
    "auc       = roc_auc_score(y_test, y_pred)\n",
    "print('Confusion Matrix: ')\n",
    "print(confusion)\n",
    "print('scores: ', scores)\n",
    "print('AUC: ', auc)"
   ]
  },
  {
   "cell_type": "code",
   "execution_count": 3,
   "metadata": {},
   "outputs": [
    {
     "data": {
      "text/plain": [
       "(0.9366948840633051,\n",
       " 0.7910447761194029,\n",
       " 0.6463414634146342,\n",
       " 0.7114093959731543)"
      ]
     },
     "execution_count": 3,
     "metadata": {},
     "output_type": "execute_result"
    }
   ],
   "source": [
    "def create_model_pred(train_df, test_df, n_gram, min_df, n_estimators, max_depth):\n",
    "    X_train = [tokenizer(text) for text in train_df.body.values]\n",
    "    X_test  = [tokenizer(text) for text in test_df.body.values]\n",
    "    y_train = train_df.causal_flag.values\n",
    "    y_test  = test_df.causal_flag.values\n",
    "    \n",
    "    vect = CountVectorizer(min_df=min_df, ngram_range=(1,n_gram))\n",
    "    vect.fit(X_train)\n",
    "    X_train = vect.transform(X_train)\n",
    "    X_test  = vect.transform(X_test)\n",
    "    \n",
    "    rf_model = RandomForestClassifier(n_estimators=n_estimators, max_depth=max_depth, random_state=2019)\n",
    "    rf_model.fit(X_train, y_train)\n",
    "    y_pred = rf_model.predict(X_test)\n",
    "    \n",
    "    confusion = confusion_matrix(y_test, y_pred)\n",
    "    scores    = confusion2score(confusion)\n",
    "    return scores\n",
    "\n",
    "train_df = pd.read_csv('/home/b2018yniki/data/semeval2010task8/train_original.tsv', sep='\\t')\n",
    "train_df = train_df.assign(causal_flag = [0 if 'Cause-Effect' in relation else 1 for relation in train_df.relation.values]).drop(['relation', 'comment'], axis=1)\n",
    "train_df.body = [text.replace('\"', '') for text in train_df.body.values]\n",
    "test_df = pd.read_csv('/home/b2018yniki/data/semeval2010task8/test_original.tsv', sep='\\t')\n",
    "test_df = test_df.assign(causal_flag = [0 if 'Cause-Effect' in relation else 1 for relation in test_df.relation.values]).drop(['relation', 'comment'], axis=1)\n",
    "test_df.body = [text.replace('\"', '') for text in test_df.body.values]\n",
    "\n",
    "posi_df = train_df[train_df.causal_flag==0]\n",
    "nega_df = train_df[train_df.causal_flag==1]\n",
    "train_df = pd.concat([posi_df, posi_df, posi_df, posi_df, posi_df, posi_df, posi_df, nega_df])\n",
    "del posi_df, nega_df\n",
    "\n",
    "create_model_pred(train_df, test_df, n_gram=3, min_df=10, n_estimators=100, max_depth=5)"
   ]
  },
  {
   "cell_type": "markdown",
   "metadata": {},
   "source": [
    "## with feature engineering"
   ]
  },
  {
   "cell_type": "markdown",
   "metadata": {},
   "source": [
    "### without oversampling"
   ]
  },
  {
   "cell_type": "code",
   "execution_count": 4,
   "metadata": {},
   "outputs": [
    {
     "name": "stdout",
     "output_type": "stream",
     "text": [
      "Number of features: 2794\n",
      "X_train shape:  (8000, 2794)\n",
      "X_test shape:  (2717, 2794)\n",
      "# of use columns:  646\n",
      "Confusion Matrix: \n",
      "[[  89  239]\n",
      " [   4 2385]]\n",
      "scores:  (0.9105631210894369, 0.956989247311828, 0.27134146341463417, 0.42280285035629456)\n",
      "AUC:  0.634833561343148\n"
     ]
    }
   ],
   "source": [
    "train_df = pd.read_csv('/home/b2018yniki/data/semeval2010task8/train_original.tsv', sep='\\t')\n",
    "train_df = train_df.assign(causal_flag = [0 if 'Cause-Effect' in relation else 1 for relation in train_df.relation.values]).drop(['relation', 'comment'], axis=1)\n",
    "train_df.body = [text.replace('\"', '') for text in train_df.body.values]\n",
    "test_df = pd.read_csv('/home/b2018yniki/data/semeval2010task8/test_original.tsv', sep='\\t')\n",
    "test_df = test_df.assign(causal_flag = [0 if 'Cause-Effect' in relation else 1 for relation in test_df.relation.values]).drop(['relation', 'comment'], axis=1)\n",
    "test_df.body = [text.replace('\"', '') for text in test_df.body.values]\n",
    "\n",
    "X_train = [tokenizer(text) for text in train_df.body.values]\n",
    "X_test  = [tokenizer(text) for text in test_df.body.values]\n",
    "y_train = train_df.causal_flag.values\n",
    "y_test  = test_df.causal_flag.values\n",
    "del train_df, test_df\n",
    "\n",
    "vect = CountVectorizer(min_df=10, ngram_range=(1,3))\n",
    "vect.fit(X_train)\n",
    "X_train = vect.transform(X_train)\n",
    "X_test  = vect.transform(X_test)\n",
    "\n",
    "feature_names = vect.get_feature_names()\n",
    "print(\"Number of features: {}\".format(len(feature_names)))\n",
    "X_train = pd.DataFrame(X_train.toarray(), columns=feature_names)\n",
    "X_test  = pd.DataFrame(X_test.toarray(), columns=feature_names)\n",
    "\n",
    "print('X_train shape: ', X_train.shape)\n",
    "print('X_test shape: ', X_test.shape)\n",
    "\n",
    "rf_model = RandomForestClassifier(n_estimators=100, max_depth=5, random_state=2019)\n",
    "rf_model.fit(X_train, y_train)\n",
    "\n",
    "fi_df = pd.DataFrame(rf_model.feature_importances_, index=feature_names)\n",
    "use_cols = fi_df[fi_df[0] > 0.0].index.values\n",
    "\n",
    "print('# of use columns: ', len(use_cols))\n",
    "X_train = X_train[use_cols]\n",
    "X_test  = X_test[use_cols]\n",
    "\n",
    "rf_model = RandomForestClassifier(n_estimators=100, max_depth=5, random_state=2019)\n",
    "rf_model.fit(X_train, y_train)\n",
    "y_pred = rf_model.predict(X_test)\n",
    "\n",
    "confusion = confusion_matrix(y_test, y_pred)\n",
    "scores    = confusion2score(confusion)\n",
    "auc       = roc_auc_score(y_test, y_pred)\n",
    "print('Confusion Matrix: ')\n",
    "print(confusion)\n",
    "print('scores: ', scores)\n",
    "print('AUC: ', auc)"
   ]
  },
  {
   "cell_type": "markdown",
   "metadata": {},
   "source": [
    "### with oversampling"
   ]
  },
  {
   "cell_type": "code",
   "execution_count": 5,
   "metadata": {},
   "outputs": [
    {
     "name": "stdout",
     "output_type": "stream",
     "text": [
      "Number of features: 6407\n",
      "X_train shape:  (14018, 6407)\n",
      "X_test shape:  (2717, 6407)\n",
      "Confusion Matrix: \n",
      "[[ 212  116]\n",
      " [  56 2333]]\n",
      "scores:  (0.9366948840633051, 0.7910447761194029, 0.6463414634146342, 0.7114093959731543)\n",
      "AUC:  0.8114503466089494\n"
     ]
    }
   ],
   "source": [
    "train_df = pd.read_csv('/home/b2018yniki/data/semeval2010task8/train_original.tsv', sep='\\t')\n",
    "train_df = train_df.assign(causal_flag = [0 if 'Cause-Effect' in relation else 1 for relation in train_df.relation.values]).drop(['relation', 'comment'], axis=1)\n",
    "train_df.body = [text.replace('\"', '') for text in train_df.body.values]\n",
    "test_df = pd.read_csv('/home/b2018yniki/data/semeval2010task8/test_original.tsv', sep='\\t')\n",
    "test_df = test_df.assign(causal_flag = [0 if 'Cause-Effect' in relation else 1 for relation in test_df.relation.values]).drop(['relation', 'comment'], axis=1)\n",
    "test_df.body = [text.replace('\"', '') for text in test_df.body.values]\n",
    "\n",
    "posi_df = train_df[train_df.causal_flag==0]\n",
    "nega_df = train_df[train_df.causal_flag==1]\n",
    "\n",
    "train_df = pd.concat([posi_df, posi_df, posi_df, posi_df, posi_df, posi_df, posi_df, nega_df])\n",
    "del posi_df, nega_df\n",
    "\n",
    "X_train = [tokenizer(text) for text in train_df.body.values]\n",
    "X_test  = [tokenizer(text) for text in test_df.body.values]\n",
    "y_train = train_df.causal_flag.values\n",
    "y_test  = test_df.causal_flag.values\n",
    "del train_df, test_df\n",
    "\n",
    "vect = CountVectorizer(min_df=10, ngram_range=(1,3))\n",
    "vect.fit(X_train)\n",
    "X_train = vect.transform(X_train)\n",
    "X_test  = vect.transform(X_test)\n",
    "\n",
    "feature_names = vect.get_feature_names()\n",
    "print(\"Number of features: {}\".format(len(feature_names)))\n",
    "X_train = pd.DataFrame(X_train.toarray(), columns=feature_names)\n",
    "X_test  = pd.DataFrame(X_test.toarray(), columns=feature_names)\n",
    "\n",
    "print('X_train shape: ', X_train.shape)\n",
    "print('X_test shape: ', X_test.shape)\n",
    "\n",
    "rf_model = RandomForestClassifier(n_estimators=100, max_depth=5, random_state=2019)\n",
    "rf_model.fit(X_train, y_train)\n",
    "y_pred = rf_model.predict(X_test)\n",
    "\n",
    "confusion = confusion_matrix(y_test, y_pred)\n",
    "scores    = confusion2score(confusion)\n",
    "auc       = roc_auc_score(y_test, y_pred)\n",
    "print('Confusion Matrix: ')\n",
    "print(confusion)\n",
    "print('scores: ', scores)\n",
    "print('AUC: ', auc)"
   ]
  },
  {
   "cell_type": "code",
   "execution_count": 6,
   "metadata": {},
   "outputs": [
    {
     "name": "stdout",
     "output_type": "stream",
     "text": [
      "Number of features: 6407\n",
      "X_train shape:  (14018, 6407)\n",
      "X_test shape:  (2717, 6407)\n",
      "# of use columns:  740\n",
      "Confusion Matrix: \n",
      "[[ 241   87]\n",
      " [  35 2354]]\n",
      "scores:  (0.9550975340449025, 0.8731884057971014, 0.7347560975609756, 0.7980132450331126)\n",
      "AUC:  0.8600528080940081\n"
     ]
    }
   ],
   "source": [
    "train_df = pd.read_csv('/home/b2018yniki/data/semeval2010task8/train_original.tsv', sep='\\t')\n",
    "train_df = train_df.assign(causal_flag = [0 if 'Cause-Effect' in relation else 1 for relation in train_df.relation.values]).drop(['relation', 'comment'], axis=1)\n",
    "train_df.body = [text.replace('\"', '') for text in train_df.body.values]\n",
    "test_df = pd.read_csv('/home/b2018yniki/data/semeval2010task8/test_original.tsv', sep='\\t')\n",
    "test_df = test_df.assign(causal_flag = [0 if 'Cause-Effect' in relation else 1 for relation in test_df.relation.values]).drop(['relation', 'comment'], axis=1)\n",
    "test_df.body = [text.replace('\"', '') for text in test_df.body.values]\n",
    "\n",
    "posi_df = train_df[train_df.causal_flag==0]\n",
    "nega_df = train_df[train_df.causal_flag==1]\n",
    "train_df = pd.concat([posi_df, posi_df, posi_df, posi_df, posi_df, posi_df, posi_df, nega_df])\n",
    "del posi_df, nega_df\n",
    "\n",
    "X_train = [tokenizer(text) for text in train_df.body.values]\n",
    "X_test  = [tokenizer(text) for text in test_df.body.values]\n",
    "y_train = train_df.causal_flag.values\n",
    "y_test  = test_df.causal_flag.values\n",
    "del train_df, test_df\n",
    "\n",
    "vect = CountVectorizer(min_df=10, ngram_range=(1,3))\n",
    "vect.fit(X_train)\n",
    "X_train = vect.transform(X_train)\n",
    "X_test  = vect.transform(X_test)\n",
    "\n",
    "feature_names = vect.get_feature_names()\n",
    "print(\"Number of features: {}\".format(len(feature_names)))\n",
    "X_train = pd.DataFrame(X_train.toarray(), columns=feature_names)\n",
    "X_test  = pd.DataFrame(X_test.toarray(), columns=feature_names)\n",
    "\n",
    "print('X_train shape: ', X_train.shape)\n",
    "print('X_test shape: ', X_test.shape)\n",
    "\n",
    "rf_model = RandomForestClassifier(n_estimators=100, max_depth=5, random_state=2019)\n",
    "rf_model.fit(X_train, y_train)\n",
    "\n",
    "fi_df = pd.DataFrame(rf_model.feature_importances_, index=feature_names)\n",
    "use_cols = fi_df[fi_df[0] > 0.0].index.values\n",
    "\n",
    "print('# of use columns: ', len(use_cols))\n",
    "X_train = X_train[use_cols]\n",
    "X_test  = X_test[use_cols]\n",
    "\n",
    "rf_model = RandomForestClassifier(n_estimators=100, max_depth=5, random_state=2019)\n",
    "rf_model.fit(X_train, y_train)\n",
    "y_pred = rf_model.predict(X_test)\n",
    "\n",
    "confusion = confusion_matrix(y_test, y_pred)\n",
    "scores    = confusion2score(confusion)\n",
    "auc       = roc_auc_score(y_test, y_pred)\n",
    "print('Confusion Matrix: ')\n",
    "print(confusion)\n",
    "print('scores: ', scores)\n",
    "print('AUC: ', auc)"
   ]
  },
  {
   "cell_type": "code",
   "execution_count": 7,
   "metadata": {},
   "outputs": [
    {
     "data": {
      "text/plain": [
       "(0.9550975340449025,\n",
       " 0.8731884057971014,\n",
       " 0.7347560975609756,\n",
       " 0.7980132450331126)"
      ]
     },
     "execution_count": 7,
     "metadata": {},
     "output_type": "execute_result"
    }
   ],
   "source": [
    "def create_model_pred2(train_df, test_df, n_gram, min_df, n_estimators, max_depth, feat_eng=False):\n",
    "    X_train = [tokenizer(text) for text in train_df.body.values]\n",
    "    X_test  = [tokenizer(text) for text in test_df.body.values]\n",
    "    y_train = train_df.causal_flag.values\n",
    "    y_test  = test_df.causal_flag.values\n",
    "    \n",
    "    vect = CountVectorizer(min_df=min_df, ngram_range=(1,n_gram))\n",
    "    vect.fit(X_train)\n",
    "    X_train = vect.transform(X_train)\n",
    "    X_test  = vect.transform(X_test)\n",
    "    \n",
    "    rf_model = RandomForestClassifier(n_estimators=n_estimators, max_depth=max_depth, random_state=2019)\n",
    "    rf_model.fit(X_train, y_train)\n",
    "    if feat_eng:\n",
    "        feature_names = vect.get_feature_names()\n",
    "        X_train = pd.DataFrame(X_train.toarray(), columns=feature_names)\n",
    "        X_test  = pd.DataFrame(X_test.toarray(), columns=feature_names)\n",
    "        fi_df = pd.DataFrame(rf_model.feature_importances_, index=feature_names)\n",
    "        use_cols = fi_df[fi_df[0] > 0.0].index.values\n",
    "        X_train = X_train[use_cols]\n",
    "        X_test  = X_test[use_cols]\n",
    "        rf_model = RandomForestClassifier(n_estimators=n_estimators, max_depth=max_depth, random_state=2019)\n",
    "        rf_model.fit(X_train, y_train)\n",
    "    y_pred = rf_model.predict(X_test)\n",
    "    \n",
    "    confusion = confusion_matrix(y_test, y_pred)\n",
    "    scores    = confusion2score(confusion)\n",
    "    return scores\n",
    "\n",
    "train_df = pd.read_csv('/home/b2018yniki/data/semeval2010task8/train_original.tsv', sep='\\t')\n",
    "train_df = train_df.assign(causal_flag = [0 if 'Cause-Effect' in relation else 1 for relation in train_df.relation.values]).drop(['relation', 'comment'], axis=1)\n",
    "train_df.body = [text.replace('\"', '') for text in train_df.body.values]\n",
    "test_df = pd.read_csv('/home/b2018yniki/data/semeval2010task8/test_original.tsv', sep='\\t')\n",
    "test_df = test_df.assign(causal_flag = [0 if 'Cause-Effect' in relation else 1 for relation in test_df.relation.values]).drop(['relation', 'comment'], axis=1)\n",
    "test_df.body = [text.replace('\"', '') for text in test_df.body.values]\n",
    "\n",
    "posi_df = train_df[train_df.causal_flag==0]\n",
    "nega_df = train_df[train_df.causal_flag==1]\n",
    "train_df = pd.concat([posi_df, posi_df, posi_df, posi_df, posi_df, posi_df, posi_df, nega_df])\n",
    "del posi_df, nega_df\n",
    "\n",
    "create_model_pred(train_df, test_df, n_gram=3, min_df=10, n_estimators=100, max_depth=5, feat_eng=True)"
   ]
  },
  {
   "cell_type": "markdown",
   "metadata": {},
   "source": [
    "# Hyperparameter Search by Optuna"
   ]
  },
  {
   "cell_type": "markdown",
   "metadata": {},
   "source": [
    "## without feature engineering"
   ]
  },
  {
   "cell_type": "markdown",
   "metadata": {},
   "source": [
    "### without oversampling"
   ]
  },
  {
   "cell_type": "code",
   "execution_count": 4,
   "metadata": {},
   "outputs": [
    {
     "name": "stderr",
     "output_type": "stream",
     "text": [
      "[I 2019-08-04 12:35:43,244] Finished trial#0 resulted in value: 0.5158371040723981. Current best value is 0.5158371040723981 with parameters: {'n_gram': 3, 'min_df': 20.0, 'n_estimators': 1000.0, 'max_depth': 8}.\n",
      "[I 2019-08-04 12:35:48,112] Finished trial#1 resulted in value: 0.9017341040462428. Current best value is 0.5158371040723981 with parameters: {'n_gram': 3, 'min_df': 20.0, 'n_estimators': 1000.0, 'max_depth': 8}.\n",
      "[I 2019-08-04 12:35:52,697] Finished trial#2 resulted in value: 0.6274509803921569. Current best value is 0.5158371040723981 with parameters: {'n_gram': 3, 'min_df': 20.0, 'n_estimators': 1000.0, 'max_depth': 8}.\n",
      "[I 2019-08-04 12:35:57,118] Finished trial#3 resulted in value: 0.6836734693877551. Current best value is 0.5158371040723981 with parameters: {'n_gram': 3, 'min_df': 20.0, 'n_estimators': 1000.0, 'max_depth': 8}.\n",
      "[I 2019-08-04 12:36:00,888] Finished trial#4 resulted in value: 0.543778801843318. Current best value is 0.5158371040723981 with parameters: {'n_gram': 3, 'min_df': 20.0, 'n_estimators': 1000.0, 'max_depth': 8}.\n",
      "[I 2019-08-04 12:36:04,969] Finished trial#5 resulted in value: 0.6019184652278178. Current best value is 0.5158371040723981 with parameters: {'n_gram': 3, 'min_df': 20.0, 'n_estimators': 1000.0, 'max_depth': 8}.\n",
      "[I 2019-08-04 12:36:10,568] Finished trial#6 resulted in value: 0.6444444444444444. Current best value is 0.5158371040723981 with parameters: {'n_gram': 3, 'min_df': 20.0, 'n_estimators': 1000.0, 'max_depth': 8}.\n",
      "[I 2019-08-04 12:36:14,673] Finished trial#7 resulted in value: 0.6077481840193705. Current best value is 0.5158371040723981 with parameters: {'n_gram': 3, 'min_df': 20.0, 'n_estimators': 1000.0, 'max_depth': 8}.\n",
      "[I 2019-08-04 12:36:18,383] Finished trial#8 resulted in value: 0.993920972644377. Current best value is 0.5158371040723981 with parameters: {'n_gram': 3, 'min_df': 20.0, 'n_estimators': 1000.0, 'max_depth': 8}.\n",
      "[I 2019-08-04 12:36:23,517] Finished trial#9 resulted in value: 0.7553191489361702. Current best value is 0.5158371040723981 with parameters: {'n_gram': 3, 'min_df': 20.0, 'n_estimators': 1000.0, 'max_depth': 8}.\n",
      "[I 2019-08-04 12:36:28,144] Finished trial#10 resulted in value: 1.0. Current best value is 0.5158371040723981 with parameters: {'n_gram': 3, 'min_df': 20.0, 'n_estimators': 1000.0, 'max_depth': 8}.\n",
      "[I 2019-08-04 12:36:33,691] Finished trial#11 resulted in value: 0.8853868194842407. Current best value is 0.5158371040723981 with parameters: {'n_gram': 3, 'min_df': 20.0, 'n_estimators': 1000.0, 'max_depth': 8}.\n",
      "[I 2019-08-04 12:36:38,492] Finished trial#12 resulted in value: 1.0. Current best value is 0.5158371040723981 with parameters: {'n_gram': 3, 'min_df': 20.0, 'n_estimators': 1000.0, 'max_depth': 8}.\n",
      "[I 2019-08-04 12:36:43,834] Finished trial#13 resulted in value: 0.736842105263158. Current best value is 0.5158371040723981 with parameters: {'n_gram': 3, 'min_df': 20.0, 'n_estimators': 1000.0, 'max_depth': 8}.\n",
      "[I 2019-08-04 12:36:49,300] Finished trial#14 resulted in value: 0.9759036144578314. Current best value is 0.5158371040723981 with parameters: {'n_gram': 3, 'min_df': 20.0, 'n_estimators': 1000.0, 'max_depth': 8}.\n",
      "[I 2019-08-04 12:36:53,492] Finished trial#15 resulted in value: 0.9879154078549849. Current best value is 0.5158371040723981 with parameters: {'n_gram': 3, 'min_df': 20.0, 'n_estimators': 1000.0, 'max_depth': 8}.\n",
      "[I 2019-08-04 12:36:57,694] Finished trial#16 resulted in value: 1.0. Current best value is 0.5158371040723981 with parameters: {'n_gram': 3, 'min_df': 20.0, 'n_estimators': 1000.0, 'max_depth': 8}.\n",
      "[I 2019-08-04 12:37:01,969] Finished trial#17 resulted in value: 0.8962536023054755. Current best value is 0.5158371040723981 with parameters: {'n_gram': 3, 'min_df': 20.0, 'n_estimators': 1000.0, 'max_depth': 8}.\n",
      "[I 2019-08-04 12:37:05,751] Finished trial#18 resulted in value: 0.9700598802395209. Current best value is 0.5158371040723981 with parameters: {'n_gram': 3, 'min_df': 20.0, 'n_estimators': 1000.0, 'max_depth': 8}.\n",
      "[I 2019-08-04 12:37:10,220] Finished trial#19 resulted in value: 0.9183673469387755. Current best value is 0.5158371040723981 with parameters: {'n_gram': 3, 'min_df': 20.0, 'n_estimators': 1000.0, 'max_depth': 8}.\n",
      "[I 2019-08-04 12:37:13,986] Finished trial#20 resulted in value: 0.9296187683284457. Current best value is 0.5158371040723981 with parameters: {'n_gram': 3, 'min_df': 20.0, 'n_estimators': 1000.0, 'max_depth': 8}.\n",
      "[I 2019-08-04 12:37:18,486] Finished trial#21 resulted in value: 0.7789757412398922. Current best value is 0.5158371040723981 with parameters: {'n_gram': 3, 'min_df': 20.0, 'n_estimators': 1000.0, 'max_depth': 8}.\n",
      "[I 2019-08-04 12:37:21,952] Finished trial#22 resulted in value: 1.0. Current best value is 0.5158371040723981 with parameters: {'n_gram': 3, 'min_df': 20.0, 'n_estimators': 1000.0, 'max_depth': 8}.\n",
      "[I 2019-08-04 12:37:26,849] Finished trial#23 resulted in value: 0.6633165829145728. Current best value is 0.5158371040723981 with parameters: {'n_gram': 3, 'min_df': 20.0, 'n_estimators': 1000.0, 'max_depth': 8}.\n",
      "[I 2019-08-04 12:37:31,411] Finished trial#24 resulted in value: 0.993920972644377. Current best value is 0.5158371040723981 with parameters: {'n_gram': 3, 'min_df': 20.0, 'n_estimators': 1000.0, 'max_depth': 8}.\n",
      "[I 2019-08-04 12:37:35,500] Finished trial#25 resulted in value: 0.864406779661017. Current best value is 0.5158371040723981 with parameters: {'n_gram': 3, 'min_df': 20.0, 'n_estimators': 1000.0, 'max_depth': 8}.\n",
      "[I 2019-08-04 12:37:40,407] Finished trial#26 resulted in value: 0.9352941176470588. Current best value is 0.5158371040723981 with parameters: {'n_gram': 3, 'min_df': 20.0, 'n_estimators': 1000.0, 'max_depth': 8}.\n",
      "[I 2019-08-04 12:37:44,533] Finished trial#27 resulted in value: 1.0. Current best value is 0.5158371040723981 with parameters: {'n_gram': 3, 'min_df': 20.0, 'n_estimators': 1000.0, 'max_depth': 8}.\n",
      "[I 2019-08-04 12:37:49,367] Finished trial#28 resulted in value: 0.9700598802395209. Current best value is 0.5158371040723981 with parameters: {'n_gram': 3, 'min_df': 20.0, 'n_estimators': 1000.0, 'max_depth': 8}.\n",
      "[I 2019-08-04 12:37:55,307] Finished trial#29 resulted in value: 0.8908045977011494. Current best value is 0.5158371040723981 with parameters: {'n_gram': 3, 'min_df': 20.0, 'n_estimators': 1000.0, 'max_depth': 8}.\n",
      "[I 2019-08-04 12:38:00,230] Finished trial#30 resulted in value: 0.6633165829145728. Current best value is 0.5158371040723981 with parameters: {'n_gram': 3, 'min_df': 20.0, 'n_estimators': 1000.0, 'max_depth': 8}.\n",
      "[I 2019-08-04 12:38:04,122] Finished trial#31 resulted in value: 1.0. Current best value is 0.5158371040723981 with parameters: {'n_gram': 3, 'min_df': 20.0, 'n_estimators': 1000.0, 'max_depth': 8}.\n",
      "[I 2019-08-04 12:38:08,801] Finished trial#32 resulted in value: 0.7010309278350515. Current best value is 0.5158371040723981 with parameters: {'n_gram': 3, 'min_df': 20.0, 'n_estimators': 1000.0, 'max_depth': 8}.\n",
      "[I 2019-08-04 12:38:13,081] Finished trial#33 resulted in value: 0.864406779661017. Current best value is 0.5158371040723981 with parameters: {'n_gram': 3, 'min_df': 20.0, 'n_estimators': 1000.0, 'max_depth': 8}.\n",
      "[I 2019-08-04 12:38:19,138] Finished trial#34 resulted in value: 0.6624685138539043. Current best value is 0.5158371040723981 with parameters: {'n_gram': 3, 'min_df': 20.0, 'n_estimators': 1000.0, 'max_depth': 8}.\n",
      "[I 2019-08-04 12:38:23,544] Finished trial#35 resulted in value: 1.0. Current best value is 0.5158371040723981 with parameters: {'n_gram': 3, 'min_df': 20.0, 'n_estimators': 1000.0, 'max_depth': 8}.\n",
      "[I 2019-08-04 12:38:27,442] Finished trial#36 resulted in value: 0.9700598802395209. Current best value is 0.5158371040723981 with parameters: {'n_gram': 3, 'min_df': 20.0, 'n_estimators': 1000.0, 'max_depth': 8}.\n",
      "[I 2019-08-04 12:38:32,201] Finished trial#37 resulted in value: 0.6274509803921569. Current best value is 0.5158371040723981 with parameters: {'n_gram': 3, 'min_df': 20.0, 'n_estimators': 1000.0, 'max_depth': 8}.\n",
      "[I 2019-08-04 12:38:36,440] Finished trial#38 resulted in value: 0.9467455621301775. Current best value is 0.5158371040723981 with parameters: {'n_gram': 3, 'min_df': 20.0, 'n_estimators': 1000.0, 'max_depth': 8}.\n",
      "[I 2019-08-04 12:38:42,334] Finished trial#39 resulted in value: 0.7322834645669292. Current best value is 0.5158371040723981 with parameters: {'n_gram': 3, 'min_df': 20.0, 'n_estimators': 1000.0, 'max_depth': 8}.\n",
      "[I 2019-08-04 12:38:48,238] Finished trial#40 resulted in value: 0.7553191489361702. Current best value is 0.5158371040723981 with parameters: {'n_gram': 3, 'min_df': 20.0, 'n_estimators': 1000.0, 'max_depth': 8}.\n",
      "[I 2019-08-04 12:38:52,557] Finished trial#41 resulted in value: 0.993920972644377. Current best value is 0.5158371040723981 with parameters: {'n_gram': 3, 'min_df': 20.0, 'n_estimators': 1000.0, 'max_depth': 8}.\n",
      "[I 2019-08-04 12:38:56,847] Finished trial#42 resulted in value: 1.0. Current best value is 0.5158371040723981 with parameters: {'n_gram': 3, 'min_df': 20.0, 'n_estimators': 1000.0, 'max_depth': 8}.\n",
      "[I 2019-08-04 12:39:02,763] Finished trial#43 resulted in value: 0.7553191489361702. Current best value is 0.5158371040723981 with parameters: {'n_gram': 3, 'min_df': 20.0, 'n_estimators': 1000.0, 'max_depth': 8}.\n",
      "[I 2019-08-04 12:39:07,471] Finished trial#44 resulted in value: 1.0. Current best value is 0.5158371040723981 with parameters: {'n_gram': 3, 'min_df': 20.0, 'n_estimators': 1000.0, 'max_depth': 8}.\n",
      "[I 2019-08-04 12:39:11,957] Finished trial#45 resulted in value: 0.8082191780821918. Current best value is 0.5158371040723981 with parameters: {'n_gram': 3, 'min_df': 20.0, 'n_estimators': 1000.0, 'max_depth': 8}.\n",
      "[I 2019-08-04 12:39:16,666] Finished trial#46 resulted in value: 0.8962536023054755. Current best value is 0.5158371040723981 with parameters: {'n_gram': 3, 'min_df': 20.0, 'n_estimators': 1000.0, 'max_depth': 8}.\n",
      "[I 2019-08-04 12:39:21,697] Finished trial#47 resulted in value: 1.0. Current best value is 0.5158371040723981 with parameters: {'n_gram': 3, 'min_df': 20.0, 'n_estimators': 1000.0, 'max_depth': 8}.\n",
      "[I 2019-08-04 12:39:27,138] Finished trial#48 resulted in value: 0.6377171215880894. Current best value is 0.5158371040723981 with parameters: {'n_gram': 3, 'min_df': 20.0, 'n_estimators': 1000.0, 'max_depth': 8}.\n",
      "[I 2019-08-04 12:39:31,855] Finished trial#49 resulted in value: 0.9467455621301775. Current best value is 0.5158371040723981 with parameters: {'n_gram': 3, 'min_df': 20.0, 'n_estimators': 1000.0, 'max_depth': 8}.\n",
      "[I 2019-08-04 12:39:37,179] Finished trial#50 resulted in value: 0.7553191489361702. Current best value is 0.5158371040723981 with parameters: {'n_gram': 3, 'min_df': 20.0, 'n_estimators': 1000.0, 'max_depth': 8}.\n",
      "[I 2019-08-04 12:39:41,843] Finished trial#51 resulted in value: 0.4988814317673378. Current best value is 0.4988814317673378 with parameters: {'n_gram': 4, 'min_df': 20.0, 'n_estimators': 100.0, 'max_depth': 9}.\n",
      "[I 2019-08-04 12:39:47,369] Finished trial#52 resulted in value: 0.7054263565891472. Current best value is 0.4988814317673378 with parameters: {'n_gram': 4, 'min_df': 20.0, 'n_estimators': 100.0, 'max_depth': 9}.\n",
      "[I 2019-08-04 12:39:52,963] Finished trial#53 resulted in value: 0.5227272727272727. Current best value is 0.4988814317673378 with parameters: {'n_gram': 4, 'min_df': 20.0, 'n_estimators': 100.0, 'max_depth': 9}.\n",
      "[I 2019-08-04 12:39:57,757] Finished trial#54 resulted in value: 0.5509259259259259. Current best value is 0.4988814317673378 with parameters: {'n_gram': 4, 'min_df': 20.0, 'n_estimators': 100.0, 'max_depth': 9}.\n",
      "[I 2019-08-04 12:40:04,174] Finished trial#55 resulted in value: 0.5022421524663677. Current best value is 0.4988814317673378 with parameters: {'n_gram': 4, 'min_df': 20.0, 'n_estimators': 100.0, 'max_depth': 9}.\n",
      "[I 2019-08-04 12:40:10,787] Finished trial#56 resulted in value: 0.5022421524663677. Current best value is 0.4988814317673378 with parameters: {'n_gram': 4, 'min_df': 20.0, 'n_estimators': 100.0, 'max_depth': 9}.\n",
      "[I 2019-08-04 12:40:16,364] Finished trial#57 resulted in value: 0.5056179775280899. Current best value is 0.4988814317673378 with parameters: {'n_gram': 4, 'min_df': 20.0, 'n_estimators': 100.0, 'max_depth': 9}.\n",
      "[I 2019-08-04 12:40:22,187] Finished trial#58 resulted in value: 0.5402298850574713. Current best value is 0.4988814317673378 with parameters: {'n_gram': 4, 'min_df': 20.0, 'n_estimators': 100.0, 'max_depth': 9}.\n",
      "[I 2019-08-04 12:40:28,710] Finished trial#59 resulted in value: 0.5022421524663677. Current best value is 0.4988814317673378 with parameters: {'n_gram': 4, 'min_df': 20.0, 'n_estimators': 100.0, 'max_depth': 9}.\n",
      "[I 2019-08-04 12:40:34,927] Finished trial#60 resulted in value: 0.5331807780320366. Current best value is 0.4988814317673378 with parameters: {'n_gram': 4, 'min_df': 20.0, 'n_estimators': 100.0, 'max_depth': 9}.\n",
      "[I 2019-08-04 12:40:41,890] Finished trial#61 resulted in value: 0.4823008849557522. Current best value is 0.4823008849557522 with parameters: {'n_gram': 5, 'min_df': 20.0, 'n_estimators': 1000.0, 'max_depth': 9}.\n",
      "[I 2019-08-04 12:40:46,888] Finished trial#62 resulted in value: 0.4823008849557522. Current best value is 0.4823008849557522 with parameters: {'n_gram': 5, 'min_df': 20.0, 'n_estimators': 1000.0, 'max_depth': 9}.\n",
      "[I 2019-08-04 12:40:52,452] Finished trial#63 resulted in value: 0.4823008849557522. Current best value is 0.4823008849557522 with parameters: {'n_gram': 5, 'min_df': 20.0, 'n_estimators': 1000.0, 'max_depth': 9}.\n",
      "[I 2019-08-04 12:40:58,957] Finished trial#64 resulted in value: 0.6708860759493671. Current best value is 0.4823008849557522 with parameters: {'n_gram': 5, 'min_df': 20.0, 'n_estimators': 1000.0, 'max_depth': 9}.\n",
      "[I 2019-08-04 12:41:04,767] Finished trial#65 resulted in value: 0.4823008849557522. Current best value is 0.4823008849557522 with parameters: {'n_gram': 5, 'min_df': 20.0, 'n_estimators': 1000.0, 'max_depth': 9}.\n",
      "[I 2019-08-04 12:41:10,585] Finished trial#66 resulted in value: 0.4823008849557522. Current best value is 0.4823008849557522 with parameters: {'n_gram': 5, 'min_df': 20.0, 'n_estimators': 1000.0, 'max_depth': 9}.\n",
      "[I 2019-08-04 12:41:16,203] Finished trial#67 resulted in value: 0.4823008849557522. Current best value is 0.4823008849557522 with parameters: {'n_gram': 5, 'min_df': 20.0, 'n_estimators': 1000.0, 'max_depth': 9}.\n",
      "[I 2019-08-04 12:41:21,751] Finished trial#68 resulted in value: 0.4823008849557522. Current best value is 0.4823008849557522 with parameters: {'n_gram': 5, 'min_df': 20.0, 'n_estimators': 1000.0, 'max_depth': 9}.\n",
      "[I 2019-08-04 12:41:27,442] Finished trial#69 resulted in value: 0.4823008849557522. Current best value is 0.4823008849557522 with parameters: {'n_gram': 5, 'min_df': 20.0, 'n_estimators': 1000.0, 'max_depth': 9}.\n",
      "[I 2019-08-04 12:41:33,115] Finished trial#70 resulted in value: 0.4823008849557522. Current best value is 0.4823008849557522 with parameters: {'n_gram': 5, 'min_df': 20.0, 'n_estimators': 1000.0, 'max_depth': 9}.\n",
      "[I 2019-08-04 12:41:38,887] Finished trial#71 resulted in value: 0.4769230769230769. Current best value is 0.4769230769230769 with parameters: {'n_gram': 3, 'min_df': 20.0, 'n_estimators': 700.0, 'max_depth': 10}.\n",
      "[I 2019-08-04 12:41:44,688] Finished trial#72 resulted in value: 0.4769230769230769. Current best value is 0.4769230769230769 with parameters: {'n_gram': 3, 'min_df': 20.0, 'n_estimators': 700.0, 'max_depth': 10}.\n",
      "[I 2019-08-04 12:41:50,771] Finished trial#73 resulted in value: 0.4769230769230769. Current best value is 0.4769230769230769 with parameters: {'n_gram': 3, 'min_df': 20.0, 'n_estimators': 700.0, 'max_depth': 10}.\n",
      "[I 2019-08-04 12:41:56,510] Finished trial#74 resulted in value: 0.48558758314855877. Current best value is 0.4769230769230769 with parameters: {'n_gram': 3, 'min_df': 20.0, 'n_estimators': 700.0, 'max_depth': 10}.\n",
      "[I 2019-08-04 12:42:02,998] Finished trial#75 resulted in value: 0.48888888888888893. Current best value is 0.4769230769230769 with parameters: {'n_gram': 3, 'min_df': 20.0, 'n_estimators': 700.0, 'max_depth': 10}.\n",
      "[I 2019-08-04 12:42:09,413] Finished trial#76 resulted in value: 0.48888888888888893. Current best value is 0.4769230769230769 with parameters: {'n_gram': 3, 'min_df': 20.0, 'n_estimators': 700.0, 'max_depth': 10}.\n",
      "[I 2019-08-04 12:42:15,274] Finished trial#77 resulted in value: 0.4769230769230769. Current best value is 0.4769230769230769 with parameters: {'n_gram': 3, 'min_df': 20.0, 'n_estimators': 700.0, 'max_depth': 10}.\n",
      "[I 2019-08-04 12:42:21,144] Finished trial#78 resulted in value: 0.4769230769230769. Current best value is 0.4769230769230769 with parameters: {'n_gram': 3, 'min_df': 20.0, 'n_estimators': 700.0, 'max_depth': 10}.\n",
      "[I 2019-08-04 12:42:27,328] Finished trial#79 resulted in value: 0.47161572052401746. Current best value is 0.47161572052401746 with parameters: {'n_gram': 2, 'min_df': 20.0, 'n_estimators': 1000.0, 'max_depth': 10}.\n",
      "[I 2019-08-04 12:42:33,278] Finished trial#80 resulted in value: 0.4966592427616926. Current best value is 0.47161572052401746 with parameters: {'n_gram': 2, 'min_df': 20.0, 'n_estimators': 1000.0, 'max_depth': 10}.\n",
      "[I 2019-08-04 12:42:39,366] Finished trial#81 resulted in value: 0.47161572052401746. Current best value is 0.47161572052401746 with parameters: {'n_gram': 2, 'min_df': 20.0, 'n_estimators': 1000.0, 'max_depth': 10}.\n",
      "[I 2019-08-04 12:42:44,974] Finished trial#82 resulted in value: 0.9352941176470588. Current best value is 0.47161572052401746 with parameters: {'n_gram': 2, 'min_df': 20.0, 'n_estimators': 1000.0, 'max_depth': 10}.\n",
      "[I 2019-08-04 12:42:50,917] Finished trial#83 resulted in value: 0.4966592427616926. Current best value is 0.47161572052401746 with parameters: {'n_gram': 2, 'min_df': 20.0, 'n_estimators': 1000.0, 'max_depth': 10}.\n",
      "[I 2019-08-04 12:42:56,997] Finished trial#84 resulted in value: 0.47161572052401746. Current best value is 0.47161572052401746 with parameters: {'n_gram': 2, 'min_df': 20.0, 'n_estimators': 1000.0, 'max_depth': 10}.\n",
      "[I 2019-08-04 12:43:02,182] Finished trial#85 resulted in value: 1.0. Current best value is 0.47161572052401746 with parameters: {'n_gram': 2, 'min_df': 20.0, 'n_estimators': 1000.0, 'max_depth': 10}.\n",
      "[I 2019-08-04 12:43:08,352] Finished trial#86 resulted in value: 0.47161572052401746. Current best value is 0.47161572052401746 with parameters: {'n_gram': 2, 'min_df': 20.0, 'n_estimators': 1000.0, 'max_depth': 10}.\n",
      "[I 2019-08-04 12:43:14,121] Finished trial#87 resulted in value: 0.8384401114206128. Current best value is 0.47161572052401746 with parameters: {'n_gram': 2, 'min_df': 20.0, 'n_estimators': 1000.0, 'max_depth': 10}.\n",
      "[I 2019-08-04 12:43:20,158] Finished trial#88 resulted in value: 0.4966592427616926. Current best value is 0.47161572052401746 with parameters: {'n_gram': 2, 'min_df': 20.0, 'n_estimators': 1000.0, 'max_depth': 10}.\n",
      "[I 2019-08-04 12:43:25,767] Finished trial#89 resulted in value: 0.9352941176470588. Current best value is 0.47161572052401746 with parameters: {'n_gram': 2, 'min_df': 20.0, 'n_estimators': 1000.0, 'max_depth': 10}.\n",
      "[I 2019-08-04 12:43:31,877] Finished trial#90 resulted in value: 0.47161572052401746. Current best value is 0.47161572052401746 with parameters: {'n_gram': 2, 'min_df': 20.0, 'n_estimators': 1000.0, 'max_depth': 10}.\n",
      "[I 2019-08-04 12:43:37,833] Finished trial#91 resulted in value: 0.4966592427616926. Current best value is 0.47161572052401746 with parameters: {'n_gram': 2, 'min_df': 20.0, 'n_estimators': 1000.0, 'max_depth': 10}.\n",
      "[I 2019-08-04 12:43:43,089] Finished trial#92 resulted in value: 1.0. Current best value is 0.47161572052401746 with parameters: {'n_gram': 2, 'min_df': 20.0, 'n_estimators': 1000.0, 'max_depth': 10}.\n",
      "[I 2019-08-04 12:43:48,887] Finished trial#93 resulted in value: 0.5654205607476636. Current best value is 0.47161572052401746 with parameters: {'n_gram': 2, 'min_df': 20.0, 'n_estimators': 1000.0, 'max_depth': 10}.\n",
      "[I 2019-08-04 12:43:54,950] Finished trial#94 resulted in value: 0.47161572052401746. Current best value is 0.47161572052401746 with parameters: {'n_gram': 2, 'min_df': 20.0, 'n_estimators': 1000.0, 'max_depth': 10}.\n",
      "[I 2019-08-04 12:44:00,398] Finished trial#95 resulted in value: 0.9467455621301775. Current best value is 0.47161572052401746 with parameters: {'n_gram': 2, 'min_df': 20.0, 'n_estimators': 1000.0, 'max_depth': 10}.\n",
      "[I 2019-08-04 12:44:05,988] Finished trial#96 resulted in value: 0.9352941176470588. Current best value is 0.47161572052401746 with parameters: {'n_gram': 2, 'min_df': 20.0, 'n_estimators': 1000.0, 'max_depth': 10}.\n",
      "[I 2019-08-04 12:44:12,093] Finished trial#97 resulted in value: 0.47161572052401746. Current best value is 0.47161572052401746 with parameters: {'n_gram': 2, 'min_df': 20.0, 'n_estimators': 1000.0, 'max_depth': 10}.\n",
      "[I 2019-08-04 12:44:18,156] Finished trial#98 resulted in value: 0.47161572052401746. Current best value is 0.47161572052401746 with parameters: {'n_gram': 2, 'min_df': 20.0, 'n_estimators': 1000.0, 'max_depth': 10}.\n",
      "[I 2019-08-04 12:44:23,747] Finished trial#99 resulted in value: 0.9352941176470588. Current best value is 0.47161572052401746 with parameters: {'n_gram': 2, 'min_df': 20.0, 'n_estimators': 1000.0, 'max_depth': 10}.\n"
     ]
    }
   ],
   "source": [
    "train_df = pd.read_csv('/home/b2018yniki/data/semeval2010task8/train_original.tsv', sep='\\t')\n",
    "train_df = train_df.assign(causal_flag = [0 if 'Cause-Effect' in relation else 1 for relation in train_df.relation.values]).drop(['relation', 'comment'], axis=1)\n",
    "train_df.body = [text.replace('\"', '') for text in train_df.body.values]\n",
    "test_df = pd.read_csv('/home/b2018yniki/data/semeval2010task8/test_original.tsv', sep='\\t')\n",
    "test_df = test_df.assign(causal_flag = [0 if 'Cause-Effect' in relation else 1 for relation in test_df.relation.values]).drop(['relation', 'comment'], axis=1)\n",
    "test_df.body = [text.replace('\"', '') for text in test_df.body.values]\n",
    "\n",
    "def objective(trial):\n",
    "    n_gram       = trial.suggest_int('n_gram', 1, 5)\n",
    "    min_df       = int(trial.suggest_discrete_uniform('min_df', 5, 20, 5))\n",
    "    n_estimators = int(trial.suggest_discrete_uniform('n_estimators', 100, 1000, 300))\n",
    "    max_depth    = trial.suggest_int('max_depth', 5, 10)\n",
    "    \n",
    "    scores = create_model_pred(train_df, test_df, n_gram, min_df, n_estimators, max_depth)\n",
    "    \n",
    "    return 1 - scores[3]\n",
    "\n",
    "study = optuna.create_study()\n",
    "study.optimize(objective, n_trials=100)"
   ]
  },
  {
   "cell_type": "code",
   "execution_count": 5,
   "metadata": {},
   "outputs": [
    {
     "name": "stdout",
     "output_type": "stream",
     "text": [
      "best parameters:  {'n_gram': 2, 'min_df': 20.0, 'n_estimators': 1000.0, 'max_depth': 10}\n",
      "best f1 score: 0.5283842794759825\n"
     ]
    }
   ],
   "source": [
    "print('best parameters: ', study.best_params)\n",
    "print('best f1 score: {}'.format(1-study.best_value))"
   ]
  },
  {
   "cell_type": "code",
   "execution_count": 6,
   "metadata": {},
   "outputs": [
    {
     "name": "stdout",
     "output_type": "stream",
     "text": [
      "Number of features: 1156\n",
      "X_train shape:  (8000, 1156)\n",
      "X_test shape:  (2717, 1156)\n",
      "Confusion Matrix: \n",
      "[[ 121  207]\n",
      " [   9 2380]]\n",
      "scores:  (0.9205005520794994, 0.9307692307692308, 0.36890243902439024, 0.5283842794759825)\n",
      "AUC:  0.6825675861928147\n"
     ]
    }
   ],
   "source": [
    "train_df = pd.read_csv('/home/b2018yniki/data/semeval2010task8/train_original.tsv', sep='\\t')\n",
    "train_df = train_df.assign(causal_flag = [0 if 'Cause-Effect' in relation else 1 for relation in train_df.relation.values]).drop(['relation', 'comment'], axis=1)\n",
    "train_df.body = [text.replace('\"', '') for text in train_df.body.values]\n",
    "test_df = pd.read_csv('/home/b2018yniki/data/semeval2010task8/test_original.tsv', sep='\\t')\n",
    "test_df = test_df.assign(causal_flag = [0 if 'Cause-Effect' in relation else 1 for relation in test_df.relation.values]).drop(['relation', 'comment'], axis=1)\n",
    "test_df.body = [text.replace('\"', '') for text in test_df.body.values]\n",
    "\n",
    "X_train = [tokenizer(text) for text in train_df.body.values]\n",
    "X_test  = [tokenizer(text) for text in test_df.body.values]\n",
    "y_train = train_df.causal_flag.values\n",
    "y_test  = test_df.causal_flag.values\n",
    "\n",
    "vect = CountVectorizer(min_df=20, ngram_range=(1,2))\n",
    "vect.fit(X_train)\n",
    "X_train = vect.transform(X_train)\n",
    "X_test  = vect.transform(X_test)\n",
    "\n",
    "feature_names = vect.get_feature_names()\n",
    "print(\"Number of features: {}\".format(len(feature_names)))\n",
    "X_train = pd.DataFrame(X_train.toarray(), columns=feature_names)\n",
    "X_test  = pd.DataFrame(X_test.toarray(), columns=feature_names)\n",
    "\n",
    "print('X_train shape: ', X_train.shape)\n",
    "print('X_test shape: ', X_test.shape)\n",
    "\n",
    "rf_model = RandomForestClassifier(n_estimators=1000, max_depth=10, random_state=2019)\n",
    "rf_model.fit(X_train, y_train)\n",
    "y_pred = rf_model.predict(X_test)\n",
    "\n",
    "confusion = confusion_matrix(y_test, y_pred)\n",
    "scores    = confusion2score(confusion)\n",
    "auc       = roc_auc_score(y_test, y_pred)\n",
    "print('Confusion Matrix: ')\n",
    "print(confusion)\n",
    "print('scores: ', scores)\n",
    "print('AUC: ', auc)"
   ]
  },
  {
   "cell_type": "code",
   "execution_count": 8,
   "metadata": {},
   "outputs": [
    {
     "name": "stderr",
     "output_type": "stream",
     "text": [
      "findfont: Font family ['TakaoPGothic'] not found. Falling back to DejaVu Sans.\n"
     ]
    },
    {
     "data": {
      "image/png": "[encoded data removed]",
      "text/plain": [
       "<Figure size 432x288 with 1 Axes>"
      ]
     },
     "metadata": {
      "needs_background": "light"
     },
     "output_type": "display_data"
    }
   ],
   "source": [
    "fi_df = pd.DataFrame(rf_model.feature_importances_, index=feature_names).sort_values(0, ascending=False)\n",
    "\n",
    "plt.figure()\n",
    "sns.barplot(x=fi_df.head(10)[0].values,y=fi_df.head(10).index.values, data=fi_df.head(10))\n",
    "plt.show()"
   ]
  },
  {
   "cell_type": "markdown",
   "metadata": {},
   "source": [
    "### with oversampling"
   ]
  },
  {
   "cell_type": "code",
   "execution_count": 9,
   "metadata": {},
   "outputs": [
    {
     "name": "stderr",
     "output_type": "stream",
     "text": [
      "[I 2019-08-04 12:47:39,983] Finished trial#0 resulted in value: 0.25. Current best value is 0.25 with parameters: {'n_gram': 2, 'min_df': 20.0, 'n_estimators': 400.0, 'max_depth': 5}.\n",
      "[I 2019-08-04 12:47:49,358] Finished trial#1 resulted in value: 0.24918032786885247. Current best value is 0.24918032786885247 with parameters: {'n_gram': 5, 'min_df': 15.0, 'n_estimators': 1000.0, 'max_depth': 6}.\n",
      "[I 2019-08-04 12:47:56,140] Finished trial#2 resulted in value: 0.25037037037037035. Current best value is 0.24918032786885247 with parameters: {'n_gram': 5, 'min_df': 15.0, 'n_estimators': 1000.0, 'max_depth': 6}.\n",
      "[I 2019-08-04 12:48:02,725] Finished trial#3 resulted in value: 0.2831737346101231. Current best value is 0.24918032786885247 with parameters: {'n_gram': 5, 'min_df': 15.0, 'n_estimators': 1000.0, 'max_depth': 6}.\n",
      "[I 2019-08-04 12:48:09,332] Finished trial#4 resulted in value: 0.25. Current best value is 0.24918032786885247 with parameters: {'n_gram': 5, 'min_df': 15.0, 'n_estimators': 1000.0, 'max_depth': 6}.\n",
      "[I 2019-08-04 12:48:16,985] Finished trial#5 resulted in value: 0.24035608308605338. Current best value is 0.24035608308605338 with parameters: {'n_gram': 2, 'min_df': 20.0, 'n_estimators': 700.0, 'max_depth': 9}.\n",
      "[I 2019-08-04 12:48:26,401] Finished trial#6 resulted in value: 0.21535893155258767. Current best value is 0.21535893155258767 with parameters: {'n_gram': 4, 'min_df': 5.0, 'n_estimators': 1000.0, 'max_depth': 8}.\n",
      "[I 2019-08-04 12:48:34,486] Finished trial#7 resulted in value: 0.25617283950617287. Current best value is 0.21535893155258767 with parameters: {'n_gram': 4, 'min_df': 5.0, 'n_estimators': 1000.0, 'max_depth': 8}.\n",
      "[I 2019-08-04 12:48:41,090] Finished trial#8 resulted in value: 0.20259319286871957. Current best value is 0.20259319286871957 with parameters: {'n_gram': 3, 'min_df': 15.0, 'n_estimators': 100.0, 'max_depth': 8}.\n",
      "[I 2019-08-04 12:48:47,151] Finished trial#9 resulted in value: 0.2555391432791728. Current best value is 0.20259319286871957 with parameters: {'n_gram': 3, 'min_df': 15.0, 'n_estimators': 100.0, 'max_depth': 8}.\n",
      "[I 2019-08-04 12:48:54,129] Finished trial#10 resulted in value: 0.2955974842767296. Current best value is 0.20259319286871957 with parameters: {'n_gram': 3, 'min_df': 15.0, 'n_estimators': 100.0, 'max_depth': 8}.\n",
      "[I 2019-08-04 12:49:00,755] Finished trial#11 resulted in value: 0.1869918699186992. Current best value is 0.1869918699186992 with parameters: {'n_gram': 3, 'min_df': 15.0, 'n_estimators': 100.0, 'max_depth': 10}.\n",
      "[I 2019-08-04 12:49:08,454] Finished trial#12 resulted in value: 0.20344827586206893. Current best value is 0.1869918699186992 with parameters: {'n_gram': 3, 'min_df': 15.0, 'n_estimators': 100.0, 'max_depth': 10}.\n",
      "[I 2019-08-04 12:49:15,066] Finished trial#13 resulted in value: 0.27569331158238175. Current best value is 0.1869918699186992 with parameters: {'n_gram': 3, 'min_df': 15.0, 'n_estimators': 100.0, 'max_depth': 10}.\n",
      "[I 2019-08-04 12:49:20,674] Finished trial#14 resulted in value: 0.32561132561132566. Current best value is 0.1869918699186992 with parameters: {'n_gram': 3, 'min_df': 15.0, 'n_estimators': 100.0, 'max_depth': 10}.\n",
      "[I 2019-08-04 12:49:28,041] Finished trial#15 resulted in value: 0.29635499207606975. Current best value is 0.1869918699186992 with parameters: {'n_gram': 3, 'min_df': 15.0, 'n_estimators': 100.0, 'max_depth': 10}.\n",
      "[I 2019-08-04 12:49:35,075] Finished trial#16 resulted in value: 0.20268006700167507. Current best value is 0.1869918699186992 with parameters: {'n_gram': 3, 'min_df': 15.0, 'n_estimators': 100.0, 'max_depth': 10}.\n",
      "[I 2019-08-04 12:49:41,497] Finished trial#17 resulted in value: 0.20259319286871957. Current best value is 0.1869918699186992 with parameters: {'n_gram': 3, 'min_df': 15.0, 'n_estimators': 100.0, 'max_depth': 10}.\n",
      "[I 2019-08-04 12:49:47,967] Finished trial#18 resulted in value: 0.19936204146730463. Current best value is 0.1869918699186992 with parameters: {'n_gram': 3, 'min_df': 15.0, 'n_estimators': 100.0, 'max_depth': 10}.\n",
      "[I 2019-08-04 12:49:55,718] Finished trial#19 resulted in value: 0.24632952691680265. Current best value is 0.1869918699186992 with parameters: {'n_gram': 3, 'min_df': 15.0, 'n_estimators': 100.0, 'max_depth': 10}.\n",
      "[I 2019-08-04 12:50:02,308] Finished trial#20 resulted in value: 0.1869918699186992. Current best value is 0.1869918699186992 with parameters: {'n_gram': 3, 'min_df': 15.0, 'n_estimators': 100.0, 'max_depth': 10}.\n",
      "[I 2019-08-04 12:50:09,781] Finished trial#21 resulted in value: 0.21850079744816586. Current best value is 0.1869918699186992 with parameters: {'n_gram': 3, 'min_df': 15.0, 'n_estimators': 100.0, 'max_depth': 10}.\n",
      "[I 2019-08-04 12:50:17,470] Finished trial#22 resulted in value: 0.1974317817014446. Current best value is 0.1869918699186992 with parameters: {'n_gram': 3, 'min_df': 15.0, 'n_estimators': 100.0, 'max_depth': 10}.\n",
      "[I 2019-08-04 12:50:24,830] Finished trial#23 resulted in value: 0.2435530085959885. Current best value is 0.1869918699186992 with parameters: {'n_gram': 3, 'min_df': 15.0, 'n_estimators': 100.0, 'max_depth': 10}.\n",
      "[I 2019-08-04 12:50:32,433] Finished trial#24 resulted in value: 0.2796208530805687. Current best value is 0.1869918699186992 with parameters: {'n_gram': 3, 'min_df': 15.0, 'n_estimators': 100.0, 'max_depth': 10}.\n",
      "[I 2019-08-04 12:50:38,466] Finished trial#25 resulted in value: 0.2441860465116279. Current best value is 0.1869918699186992 with parameters: {'n_gram': 3, 'min_df': 15.0, 'n_estimators': 100.0, 'max_depth': 10}.\n",
      "[I 2019-08-04 12:50:45,708] Finished trial#26 resulted in value: 0.2245557350565428. Current best value is 0.1869918699186992 with parameters: {'n_gram': 3, 'min_df': 15.0, 'n_estimators': 100.0, 'max_depth': 10}.\n",
      "[I 2019-08-04 12:50:52,064] Finished trial#27 resulted in value: 0.24892086330935248. Current best value is 0.1869918699186992 with parameters: {'n_gram': 3, 'min_df': 15.0, 'n_estimators': 100.0, 'max_depth': 10}.\n",
      "[I 2019-08-04 12:51:00,113] Finished trial#28 resulted in value: 0.24632952691680265. Current best value is 0.1869918699186992 with parameters: {'n_gram': 3, 'min_df': 15.0, 'n_estimators': 100.0, 'max_depth': 10}.\n",
      "[I 2019-08-04 12:51:07,338] Finished trial#29 resulted in value: 0.23809523809523814. Current best value is 0.1869918699186992 with parameters: {'n_gram': 3, 'min_df': 15.0, 'n_estimators': 100.0, 'max_depth': 10}.\n",
      "[I 2019-08-04 12:51:14,617] Finished trial#30 resulted in value: 0.23424878836833607. Current best value is 0.1869918699186992 with parameters: {'n_gram': 3, 'min_df': 15.0, 'n_estimators': 100.0, 'max_depth': 10}.\n",
      "[I 2019-08-04 12:51:23,075] Finished trial#31 resulted in value: 0.17781402936378465. Current best value is 0.17781402936378465 with parameters: {'n_gram': 5, 'min_df': 15.0, 'n_estimators': 400.0, 'max_depth': 10}.\n",
      "[I 2019-08-04 12:51:32,884] Finished trial#32 resulted in value: 0.2019543973941368. Current best value is 0.17781402936378465 with parameters: {'n_gram': 5, 'min_df': 15.0, 'n_estimators': 400.0, 'max_depth': 10}.\n",
      "[I 2019-08-04 12:51:41,605] Finished trial#33 resulted in value: 0.20983606557377055. Current best value is 0.17781402936378465 with parameters: {'n_gram': 5, 'min_df': 15.0, 'n_estimators': 400.0, 'max_depth': 10}.\n",
      "[I 2019-08-04 12:51:48,959] Finished trial#34 resulted in value: 0.2435530085959885. Current best value is 0.17781402936378465 with parameters: {'n_gram': 5, 'min_df': 15.0, 'n_estimators': 400.0, 'max_depth': 10}.\n",
      "[I 2019-08-04 12:51:57,360] Finished trial#35 resulted in value: 0.1810766721044046. Current best value is 0.17781402936378465 with parameters: {'n_gram': 5, 'min_df': 15.0, 'n_estimators': 400.0, 'max_depth': 10}.\n",
      "[I 2019-08-04 12:52:06,234] Finished trial#36 resulted in value: 0.20458265139116205. Current best value is 0.17781402936378465 with parameters: {'n_gram': 5, 'min_df': 15.0, 'n_estimators': 400.0, 'max_depth': 10}.\n",
      "[I 2019-08-04 12:52:16,350] Finished trial#37 resulted in value: 0.2019543973941368. Current best value is 0.17781402936378465 with parameters: {'n_gram': 5, 'min_df': 15.0, 'n_estimators': 400.0, 'max_depth': 10}.\n",
      "[I 2019-08-04 12:52:25,631] Finished trial#38 resulted in value: 0.20458265139116205. Current best value is 0.17781402936378465 with parameters: {'n_gram': 5, 'min_df': 15.0, 'n_estimators': 400.0, 'max_depth': 10}.\n",
      "[I 2019-08-04 12:52:33,716] Finished trial#39 resulted in value: 0.24632952691680265. Current best value is 0.17781402936378465 with parameters: {'n_gram': 5, 'min_df': 15.0, 'n_estimators': 400.0, 'max_depth': 10}.\n",
      "[I 2019-08-04 12:52:42,688] Finished trial#40 resulted in value: 0.20458265139116205. Current best value is 0.17781402936378465 with parameters: {'n_gram': 5, 'min_df': 15.0, 'n_estimators': 400.0, 'max_depth': 10}.\n",
      "[I 2019-08-04 12:52:50,835] Finished trial#41 resulted in value: 0.2679127725856698. Current best value is 0.17781402936378465 with parameters: {'n_gram': 5, 'min_df': 15.0, 'n_estimators': 400.0, 'max_depth': 10}.\n",
      "[I 2019-08-04 12:53:00,262] Finished trial#42 resulted in value: 0.24918032786885247. Current best value is 0.17781402936378465 with parameters: {'n_gram': 5, 'min_df': 15.0, 'n_estimators': 400.0, 'max_depth': 10}.\n",
      "[I 2019-08-04 12:53:08,118] Finished trial#43 resulted in value: 0.24632952691680265. Current best value is 0.17781402936378465 with parameters: {'n_gram': 5, 'min_df': 15.0, 'n_estimators': 400.0, 'max_depth': 10}.\n",
      "[I 2019-08-04 12:53:16,321] Finished trial#44 resulted in value: 0.2176759410801964. Current best value is 0.17781402936378465 with parameters: {'n_gram': 5, 'min_df': 15.0, 'n_estimators': 400.0, 'max_depth': 10}.\n",
      "[I 2019-08-04 12:53:24,297] Finished trial#45 resulted in value: 0.24473257698541329. Current best value is 0.17781402936378465 with parameters: {'n_gram': 5, 'min_df': 15.0, 'n_estimators': 400.0, 'max_depth': 10}.\n",
      "[I 2019-08-04 12:53:33,362] Finished trial#46 resulted in value: 0.20458265139116205. Current best value is 0.17781402936378465 with parameters: {'n_gram': 5, 'min_df': 15.0, 'n_estimators': 400.0, 'max_depth': 10}.\n",
      "[I 2019-08-04 12:53:42,813] Finished trial#47 resulted in value: 0.20447284345047922. Current best value is 0.17781402936378465 with parameters: {'n_gram': 5, 'min_df': 15.0, 'n_estimators': 400.0, 'max_depth': 10}.\n",
      "[I 2019-08-04 12:53:52,135] Finished trial#48 resulted in value: 0.1810766721044046. Current best value is 0.17781402936378465 with parameters: {'n_gram': 5, 'min_df': 15.0, 'n_estimators': 400.0, 'max_depth': 10}.\n",
      "[I 2019-08-04 12:54:01,677] Finished trial#49 resulted in value: 0.19480519480519476. Current best value is 0.17781402936378465 with parameters: {'n_gram': 5, 'min_df': 15.0, 'n_estimators': 400.0, 'max_depth': 10}.\n",
      "[I 2019-08-04 12:54:09,817] Finished trial#50 resulted in value: 0.2176759410801964. Current best value is 0.17781402936378465 with parameters: {'n_gram': 5, 'min_df': 15.0, 'n_estimators': 400.0, 'max_depth': 10}.\n",
      "[I 2019-08-04 12:54:17,622] Finished trial#51 resulted in value: 0.24632952691680265. Current best value is 0.17781402936378465 with parameters: {'n_gram': 5, 'min_df': 15.0, 'n_estimators': 400.0, 'max_depth': 10}.\n",
      "[I 2019-08-04 12:54:27,181] Finished trial#52 resulted in value: 0.19480519480519476. Current best value is 0.17781402936378465 with parameters: {'n_gram': 5, 'min_df': 15.0, 'n_estimators': 400.0, 'max_depth': 10}.\n",
      "[I 2019-08-04 12:54:36,237] Finished trial#53 resulted in value: 0.20458265139116205. Current best value is 0.17781402936378465 with parameters: {'n_gram': 5, 'min_df': 15.0, 'n_estimators': 400.0, 'max_depth': 10}.\n",
      "[I 2019-08-04 12:54:44,955] Finished trial#54 resulted in value: 0.20853858784893264. Current best value is 0.17781402936378465 with parameters: {'n_gram': 5, 'min_df': 15.0, 'n_estimators': 400.0, 'max_depth': 10}.\n",
      "[I 2019-08-04 12:54:51,859] Finished trial#55 resulted in value: 0.21385542168674698. Current best value is 0.17781402936378465 with parameters: {'n_gram': 5, 'min_df': 15.0, 'n_estimators': 400.0, 'max_depth': 10}.\n",
      "[I 2019-08-04 12:54:59,243] Finished trial#56 resulted in value: 0.23424878836833607. Current best value is 0.17781402936378465 with parameters: {'n_gram': 5, 'min_df': 15.0, 'n_estimators': 400.0, 'max_depth': 10}.\n",
      "[I 2019-08-04 12:55:06,612] Finished trial#57 resulted in value: 0.2435530085959885. Current best value is 0.17781402936378465 with parameters: {'n_gram': 5, 'min_df': 15.0, 'n_estimators': 400.0, 'max_depth': 10}.\n",
      "[I 2019-08-04 12:55:14,368] Finished trial#58 resulted in value: 0.24632952691680265. Current best value is 0.17781402936378465 with parameters: {'n_gram': 5, 'min_df': 15.0, 'n_estimators': 400.0, 'max_depth': 10}.\n",
      "[I 2019-08-04 12:55:22,459] Finished trial#59 resulted in value: 0.2718600953895072. Current best value is 0.17781402936378465 with parameters: {'n_gram': 5, 'min_df': 15.0, 'n_estimators': 400.0, 'max_depth': 10}.\n",
      "[I 2019-08-04 12:55:29,470] Finished trial#60 resulted in value: 0.2987421383647799. Current best value is 0.17781402936378465 with parameters: {'n_gram': 5, 'min_df': 15.0, 'n_estimators': 400.0, 'max_depth': 10}.\n",
      "[I 2019-08-04 12:55:39,512] Finished trial#61 resulted in value: 0.19480519480519476. Current best value is 0.17781402936378465 with parameters: {'n_gram': 5, 'min_df': 15.0, 'n_estimators': 400.0, 'max_depth': 10}.\n",
      "[I 2019-08-04 12:55:47,682] Finished trial#62 resulted in value: 0.2072968490878938. Current best value is 0.17781402936378465 with parameters: {'n_gram': 5, 'min_df': 15.0, 'n_estimators': 400.0, 'max_depth': 10}.\n",
      "[I 2019-08-04 12:55:55,868] Finished trial#63 resulted in value: 0.21069182389937102. Current best value is 0.17781402936378465 with parameters: {'n_gram': 5, 'min_df': 15.0, 'n_estimators': 400.0, 'max_depth': 10}.\n",
      "[I 2019-08-04 12:56:02,646] Finished trial#64 resulted in value: 0.25394548063127687. Current best value is 0.17781402936378465 with parameters: {'n_gram': 5, 'min_df': 15.0, 'n_estimators': 400.0, 'max_depth': 10}.\n",
      "[I 2019-08-04 12:56:11,849] Finished trial#65 resulted in value: 0.1810766721044046. Current best value is 0.17781402936378465 with parameters: {'n_gram': 5, 'min_df': 15.0, 'n_estimators': 400.0, 'max_depth': 10}.\n",
      "[I 2019-08-04 12:56:21,925] Finished trial#66 resulted in value: 0.19480519480519476. Current best value is 0.17781402936378465 with parameters: {'n_gram': 5, 'min_df': 15.0, 'n_estimators': 400.0, 'max_depth': 10}.\n",
      "[I 2019-08-04 12:56:31,206] Finished trial#67 resulted in value: 0.1810766721044046. Current best value is 0.17781402936378465 with parameters: {'n_gram': 5, 'min_df': 15.0, 'n_estimators': 400.0, 'max_depth': 10}.\n",
      "[I 2019-08-04 12:56:39,866] Finished trial#68 resulted in value: 0.2006420545746388. Current best value is 0.17781402936378465 with parameters: {'n_gram': 5, 'min_df': 15.0, 'n_estimators': 400.0, 'max_depth': 10}.\n",
      "[I 2019-08-04 12:56:49,155] Finished trial#69 resulted in value: 0.1810766721044046. Current best value is 0.17781402936378465 with parameters: {'n_gram': 5, 'min_df': 15.0, 'n_estimators': 400.0, 'max_depth': 10}.\n",
      "[I 2019-08-04 12:56:59,390] Finished trial#70 resulted in value: 0.19480519480519476. Current best value is 0.17781402936378465 with parameters: {'n_gram': 5, 'min_df': 15.0, 'n_estimators': 400.0, 'max_depth': 10}.\n",
      "[I 2019-08-04 12:57:07,225] Finished trial#71 resulted in value: 0.24632952691680265. Current best value is 0.17781402936378465 with parameters: {'n_gram': 5, 'min_df': 15.0, 'n_estimators': 400.0, 'max_depth': 10}.\n",
      "[I 2019-08-04 12:57:15,663] Finished trial#72 resulted in value: 0.1810766721044046. Current best value is 0.17781402936378465 with parameters: {'n_gram': 5, 'min_df': 15.0, 'n_estimators': 400.0, 'max_depth': 10}.\n",
      "[I 2019-08-04 12:57:24,854] Finished trial#73 resulted in value: 0.1810766721044046. Current best value is 0.17781402936378465 with parameters: {'n_gram': 5, 'min_df': 15.0, 'n_estimators': 400.0, 'max_depth': 10}.\n",
      "[I 2019-08-04 12:57:32,636] Finished trial#74 resulted in value: 0.26465927099841524. Current best value is 0.17781402936378465 with parameters: {'n_gram': 5, 'min_df': 15.0, 'n_estimators': 400.0, 'max_depth': 10}.\n",
      "[I 2019-08-04 12:57:41,763] Finished trial#75 resulted in value: 0.18433931484502442. Current best value is 0.17781402936378465 with parameters: {'n_gram': 5, 'min_df': 15.0, 'n_estimators': 400.0, 'max_depth': 10}.\n",
      "[I 2019-08-04 12:57:50,556] Finished trial#76 resulted in value: 0.200652528548124. Current best value is 0.17781402936378465 with parameters: {'n_gram': 5, 'min_df': 15.0, 'n_estimators': 400.0, 'max_depth': 10}.\n",
      "[I 2019-08-04 12:57:58,981] Finished trial#77 resulted in value: 0.1810766721044046. Current best value is 0.17781402936378465 with parameters: {'n_gram': 5, 'min_df': 15.0, 'n_estimators': 400.0, 'max_depth': 10}.\n",
      "[I 2019-08-04 12:58:07,510] Finished trial#78 resulted in value: 0.17781402936378465. Current best value is 0.17781402936378465 with parameters: {'n_gram': 5, 'min_df': 15.0, 'n_estimators': 400.0, 'max_depth': 10}.\n",
      "[I 2019-08-04 12:58:14,638] Finished trial#79 resulted in value: 0.2987421383647799. Current best value is 0.17781402936378465 with parameters: {'n_gram': 5, 'min_df': 15.0, 'n_estimators': 400.0, 'max_depth': 10}.\n",
      "[I 2019-08-04 12:58:23,969] Finished trial#80 resulted in value: 0.1810766721044046. Current best value is 0.17781402936378465 with parameters: {'n_gram': 5, 'min_df': 15.0, 'n_estimators': 400.0, 'max_depth': 10}.\n",
      "[I 2019-08-04 12:58:30,924] Finished trial#81 resulted in value: 0.21503759398496236. Current best value is 0.17781402936378465 with parameters: {'n_gram': 5, 'min_df': 15.0, 'n_estimators': 400.0, 'max_depth': 10}.\n",
      "[I 2019-08-04 12:58:39,679] Finished trial#82 resulted in value: 0.2676056338028169. Current best value is 0.17781402936378465 with parameters: {'n_gram': 5, 'min_df': 15.0, 'n_estimators': 400.0, 'max_depth': 10}.\n",
      "[I 2019-08-04 12:58:46,828] Finished trial#83 resulted in value: 0.2245557350565428. Current best value is 0.17781402936378465 with parameters: {'n_gram': 5, 'min_df': 15.0, 'n_estimators': 400.0, 'max_depth': 10}.\n",
      "[I 2019-08-04 12:58:56,036] Finished trial#84 resulted in value: 0.1810766721044046. Current best value is 0.17781402936378465 with parameters: {'n_gram': 5, 'min_df': 15.0, 'n_estimators': 400.0, 'max_depth': 10}.\n",
      "[I 2019-08-04 12:59:03,121] Finished trial#85 resulted in value: 0.2955974842767296. Current best value is 0.17781402936378465 with parameters: {'n_gram': 5, 'min_df': 15.0, 'n_estimators': 400.0, 'max_depth': 10}.\n",
      "[I 2019-08-04 12:59:11,602] Finished trial#86 resulted in value: 0.17781402936378465. Current best value is 0.17781402936378465 with parameters: {'n_gram': 5, 'min_df': 15.0, 'n_estimators': 400.0, 'max_depth': 10}.\n",
      "[I 2019-08-04 12:59:19,375] Finished trial#87 resulted in value: 0.24632952691680265. Current best value is 0.17781402936378465 with parameters: {'n_gram': 5, 'min_df': 15.0, 'n_estimators': 400.0, 'max_depth': 10}.\n",
      "[I 2019-08-04 12:59:27,608] Finished trial#88 resulted in value: 0.2072968490878938. Current best value is 0.17781402936378465 with parameters: {'n_gram': 5, 'min_df': 15.0, 'n_estimators': 400.0, 'max_depth': 10}.\n",
      "[I 2019-08-04 12:59:33,778] Finished trial#89 resulted in value: 0.24892086330935248. Current best value is 0.17781402936378465 with parameters: {'n_gram': 5, 'min_df': 15.0, 'n_estimators': 400.0, 'max_depth': 10}.\n",
      "[I 2019-08-04 12:59:41,219] Finished trial#90 resulted in value: 0.26465927099841524. Current best value is 0.17781402936378465 with parameters: {'n_gram': 5, 'min_df': 15.0, 'n_estimators': 400.0, 'max_depth': 10}.\n",
      "[I 2019-08-04 12:59:48,338] Finished trial#91 resulted in value: 0.2987421383647799. Current best value is 0.17781402936378465 with parameters: {'n_gram': 5, 'min_df': 15.0, 'n_estimators': 400.0, 'max_depth': 10}.\n",
      "[I 2019-08-04 12:59:56,917] Finished trial#92 resulted in value: 0.2072968490878938. Current best value is 0.17781402936378465 with parameters: {'n_gram': 5, 'min_df': 15.0, 'n_estimators': 400.0, 'max_depth': 10}.\n",
      "[I 2019-08-04 13:00:05,301] Finished trial#93 resulted in value: 0.17781402936378465. Current best value is 0.17781402936378465 with parameters: {'n_gram': 5, 'min_df': 15.0, 'n_estimators': 400.0, 'max_depth': 10}.\n",
      "[I 2019-08-04 13:00:13,151] Finished trial#94 resulted in value: 0.24473257698541329. Current best value is 0.17781402936378465 with parameters: {'n_gram': 5, 'min_df': 15.0, 'n_estimators': 400.0, 'max_depth': 10}.\n",
      "[I 2019-08-04 13:00:20,376] Finished trial#95 resulted in value: 0.26465927099841524. Current best value is 0.17781402936378465 with parameters: {'n_gram': 5, 'min_df': 15.0, 'n_estimators': 400.0, 'max_depth': 10}.\n",
      "[I 2019-08-04 13:00:27,982] Finished trial#96 resulted in value: 0.1961414790996785. Current best value is 0.17781402936378465 with parameters: {'n_gram': 5, 'min_df': 15.0, 'n_estimators': 400.0, 'max_depth': 10}.\n",
      "[I 2019-08-04 13:00:36,906] Finished trial#97 resulted in value: 0.20983606557377055. Current best value is 0.17781402936378465 with parameters: {'n_gram': 5, 'min_df': 15.0, 'n_estimators': 400.0, 'max_depth': 10}.\n",
      "[I 2019-08-04 13:00:44,746] Finished trial#98 resulted in value: 0.26465927099841524. Current best value is 0.17781402936378465 with parameters: {'n_gram': 5, 'min_df': 15.0, 'n_estimators': 400.0, 'max_depth': 10}.\n",
      "[I 2019-08-04 13:00:54,070] Finished trial#99 resulted in value: 0.1810766721044046. Current best value is 0.17781402936378465 with parameters: {'n_gram': 5, 'min_df': 15.0, 'n_estimators': 400.0, 'max_depth': 10}.\n"
     ]
    }
   ],
   "source": [
    "train_df = pd.read_csv('/home/b2018yniki/data/semeval2010task8/train_original.tsv', sep='\\t')\n",
    "train_df = train_df.assign(causal_flag = [0 if 'Cause-Effect' in relation else 1 for relation in train_df.relation.values]).drop(['relation', 'comment'], axis=1)\n",
    "train_df.body = [text.replace('\"', '') for text in train_df.body.values]\n",
    "test_df = pd.read_csv('/home/b2018yniki/data/semeval2010task8/test_original.tsv', sep='\\t')\n",
    "test_df = test_df.assign(causal_flag = [0 if 'Cause-Effect' in relation else 1 for relation in test_df.relation.values]).drop(['relation', 'comment'], axis=1)\n",
    "test_df.body = [text.replace('\"', '') for text in test_df.body.values]\n",
    "\n",
    "posi_df = train_df[train_df.causal_flag==0]\n",
    "nega_df = train_df[train_df.causal_flag==1]\n",
    "train_df = pd.concat([posi_df, posi_df, posi_df, posi_df, posi_df, posi_df, posi_df, nega_df])\n",
    "del posi_df, nega_df\n",
    "\n",
    "def objective(trial):\n",
    "    n_gram       = trial.suggest_int('n_gram', 1, 5)\n",
    "    min_df       = int(trial.suggest_discrete_uniform('min_df', 5, 20, 5))\n",
    "    n_estimators = int(trial.suggest_discrete_uniform('n_estimators', 100, 1000, 300))\n",
    "    max_depth    = trial.suggest_int('max_depth', 5, 10)\n",
    "    \n",
    "    scores = create_model_pred(train_df, test_df, n_gram, min_df, n_estimators, max_depth)\n",
    "    \n",
    "    return 1 - scores[3]\n",
    "\n",
    "study = optuna.create_study()\n",
    "study.optimize(objective, n_trials=100)"
   ]
  },
  {
   "cell_type": "code",
   "execution_count": 10,
   "metadata": {},
   "outputs": [
    {
     "name": "stdout",
     "output_type": "stream",
     "text": [
      "best parameters:  {'n_gram': 5, 'min_df': 15.0, 'n_estimators': 400.0, 'max_depth': 10}\n",
      "best f1 score: 0.8221859706362153\n"
     ]
    }
   ],
   "source": [
    "print('best parameters: ', study.best_params)\n",
    "print('best f1 score: {}'.format(1-study.best_value))"
   ]
  },
  {
   "cell_type": "code",
   "execution_count": 12,
   "metadata": {},
   "outputs": [
    {
     "name": "stdout",
     "output_type": "stream",
     "text": [
      "Number of features: 4137\n",
      "X_train shape:  (14018, 4137)\n",
      "X_test shape:  (2717, 4137)\n",
      "Confusion Matrix: \n",
      "[[ 252   76]\n",
      " [  33 2356]]\n",
      "scores:  (0.9598822230401178, 0.8842105263157894, 0.7682926829268293, 0.8221859706362153)\n",
      "AUC:  0.8772396859590196\n"
     ]
    }
   ],
   "source": [
    "train_df = pd.read_csv('/home/b2018yniki/data/semeval2010task8/train_original.tsv', sep='\\t')\n",
    "train_df = train_df.assign(causal_flag = [0 if 'Cause-Effect' in relation else 1 for relation in train_df.relation.values]).drop(['relation', 'comment'], axis=1)\n",
    "train_df.body = [text.replace('\"', '') for text in train_df.body.values]\n",
    "test_df = pd.read_csv('/home/b2018yniki/data/semeval2010task8/test_original.tsv', sep='\\t')\n",
    "test_df = test_df.assign(causal_flag = [0 if 'Cause-Effect' in relation else 1 for relation in test_df.relation.values]).drop(['relation', 'comment'], axis=1)\n",
    "test_df.body = [text.replace('\"', '') for text in test_df.body.values]\n",
    "\n",
    "posi_df = train_df[train_df.causal_flag==0]\n",
    "nega_df = train_df[train_df.causal_flag==1]\n",
    "train_df = pd.concat([posi_df, posi_df, posi_df, posi_df, posi_df, posi_df, posi_df, nega_df])\n",
    "del posi_df, nega_df\n",
    "\n",
    "X_train = [tokenizer(text) for text in train_df.body.values]\n",
    "X_test  = [tokenizer(text) for text in test_df.body.values]\n",
    "y_train = train_df.causal_flag.values\n",
    "y_test  = test_df.causal_flag.values\n",
    "\n",
    "vect = CountVectorizer(min_df=15, ngram_range=(1,5))\n",
    "vect.fit(X_train)\n",
    "X_train = vect.transform(X_train)\n",
    "X_test  = vect.transform(X_test)\n",
    "\n",
    "feature_names = vect.get_feature_names()\n",
    "print(\"Number of features: {}\".format(len(feature_names)))\n",
    "X_train = pd.DataFrame(X_train.toarray(), columns=feature_names)\n",
    "X_test  = pd.DataFrame(X_test.toarray(), columns=feature_names)\n",
    "\n",
    "print('X_train shape: ', X_train.shape)\n",
    "print('X_test shape: ', X_test.shape)\n",
    "\n",
    "rf_model = RandomForestClassifier(n_estimators=400, max_depth=10, random_state=2019)\n",
    "rf_model.fit(X_train, y_train)\n",
    "y_pred = rf_model.predict(X_test)\n",
    "\n",
    "confusion = confusion_matrix(y_test, y_pred)\n",
    "scores    = confusion2score(confusion)\n",
    "auc       = roc_auc_score(y_test, y_pred)\n",
    "print('Confusion Matrix: ')\n",
    "print(confusion)\n",
    "print('scores: ', scores)\n",
    "print('AUC: ', auc)"
   ]
  },
  {
   "cell_type": "code",
   "execution_count": 13,
   "metadata": {},
   "outputs": [
    {
     "data": {
      "image/png": "[encoded data removed]",
      "text/plain": [
       "<Figure size 432x288 with 1 Axes>"
      ]
     },
     "metadata": {
      "needs_background": "light"
     },
     "output_type": "display_data"
    }
   ],
   "source": [
    "fi_df = pd.DataFrame(rf_model.feature_importances_, index=feature_names).sort_values(0, ascending=False)\n",
    "\n",
    "plt.figure()\n",
    "sns.barplot(x=fi_df.head(10)[0].values,y=fi_df.head(10).index.values, data=fi_df.head(10))\n",
    "plt.show()"
   ]
  },
  {
   "cell_type": "markdown",
   "metadata": {},
   "source": [
    "## with feature engineering"
   ]
  },
  {
   "cell_type": "markdown",
   "metadata": {},
   "source": [
    "### without oversampling"
   ]
  },
  {
   "cell_type": "code",
   "execution_count": 8,
   "metadata": {},
   "outputs": [
    {
     "name": "stderr",
     "output_type": "stream",
     "text": [
      "[I 2019-07-30 15:58:37,621] Finished trial#0 resulted in value: 0.8032786885245902. Current best value is 0.8032786885245902 with parameters: {'n_gram': 5, 'min_df': 10.0, 'n_estimators': 700.0, 'max_depth': 5, 'feat_eng': False}.\n",
      "[I 2019-07-30 15:58:49,102] Finished trial#1 resulted in value: 0.6733668341708543. Current best value is 0.6733668341708543 with parameters: {'n_gram': 3, 'min_df': 15.0, 'n_estimators': 700.0, 'max_depth': 5, 'feat_eng': True}.\n",
      "[I 2019-07-30 15:59:06,472] Finished trial#2 resulted in value: 0.6485148514851485. Current best value is 0.6485148514851485 with parameters: {'n_gram': 4, 'min_df': 15.0, 'n_estimators': 1000.0, 'max_depth': 6, 'feat_eng': True}.\n",
      "[I 2019-07-30 15:59:11,993] Finished trial#3 resulted in value: 0.5033557046979866. Current best value is 0.5033557046979866 with parameters: {'n_gram': 3, 'min_df': 20.0, 'n_estimators': 100.0, 'max_depth': 8, 'feat_eng': True}.\n",
      "[I 2019-07-30 15:59:17,258] Finished trial#4 resulted in value: 0.7647058823529411. Current best value is 0.5033557046979866 with parameters: {'n_gram': 3, 'min_df': 20.0, 'n_estimators': 100.0, 'max_depth': 8, 'feat_eng': True}.\n",
      "[I 2019-07-30 15:59:28,530] Finished trial#5 resulted in value: 0.9183673469387755. Current best value is 0.5033557046979866 with parameters: {'n_gram': 3, 'min_df': 20.0, 'n_estimators': 100.0, 'max_depth': 8, 'feat_eng': True}.\n",
      "[I 2019-07-30 15:59:46,549] Finished trial#6 resulted in value: 1.0. Current best value is 0.5033557046979866 with parameters: {'n_gram': 3, 'min_df': 20.0, 'n_estimators': 100.0, 'max_depth': 8, 'feat_eng': True}.\n",
      "[I 2019-07-30 15:59:50,816] Finished trial#7 resulted in value: 1.0. Current best value is 0.5033557046979866 with parameters: {'n_gram': 3, 'min_df': 20.0, 'n_estimators': 100.0, 'max_depth': 8, 'feat_eng': True}.\n",
      "[I 2019-07-30 15:59:56,754] Finished trial#8 resulted in value: 0.736842105263158. Current best value is 0.5033557046979866 with parameters: {'n_gram': 3, 'min_df': 20.0, 'n_estimators': 100.0, 'max_depth': 8, 'feat_eng': True}.\n",
      "[I 2019-07-30 16:00:01,695] Finished trial#9 resulted in value: 0.8853868194842407. Current best value is 0.5033557046979866 with parameters: {'n_gram': 3, 'min_df': 20.0, 'n_estimators': 100.0, 'max_depth': 8, 'feat_eng': True}.\n",
      "[I 2019-07-30 16:00:08,289] Finished trial#10 resulted in value: 0.47902869757174393. Current best value is 0.47902869757174393 with parameters: {'n_gram': 3, 'min_df': 5.0, 'n_estimators': 100.0, 'max_depth': 10, 'feat_eng': True}.\n",
      "[I 2019-07-30 16:00:14,531] Finished trial#11 resulted in value: 0.47045951859956237. Current best value is 0.47045951859956237 with parameters: {'n_gram': 2, 'min_df': 5.0, 'n_estimators': 100.0, 'max_depth': 10, 'feat_eng': True}.\n",
      "[I 2019-07-30 16:00:20,770] Finished trial#12 resulted in value: 0.47045951859956237. Current best value is 0.47045951859956237 with parameters: {'n_gram': 2, 'min_df': 5.0, 'n_estimators': 100.0, 'max_depth': 10, 'feat_eng': True}.\n",
      "[I 2019-07-30 16:00:32,312] Finished trial#13 resulted in value: 0.8853868194842407. Current best value is 0.47045951859956237 with parameters: {'n_gram': 2, 'min_df': 5.0, 'n_estimators': 100.0, 'max_depth': 10, 'feat_eng': True}.\n",
      "[I 2019-07-30 16:00:36,506] Finished trial#14 resulted in value: 0.9700598802395209. Current best value is 0.47045951859956237 with parameters: {'n_gram': 2, 'min_df': 5.0, 'n_estimators': 100.0, 'max_depth': 10, 'feat_eng': True}.\n",
      "[I 2019-07-30 16:00:43,796] Finished trial#15 resulted in value: 0.48672566371681414. Current best value is 0.47045951859956237 with parameters: {'n_gram': 2, 'min_df': 5.0, 'n_estimators': 100.0, 'max_depth': 10, 'feat_eng': True}.\n",
      "[I 2019-07-30 16:00:54,003] Finished trial#16 resulted in value: 1.0. Current best value is 0.47045951859956237 with parameters: {'n_gram': 2, 'min_df': 5.0, 'n_estimators': 100.0, 'max_depth': 10, 'feat_eng': True}.\n",
      "[I 2019-07-30 16:01:00,255] Finished trial#17 resulted in value: 0.47045951859956237. Current best value is 0.47045951859956237 with parameters: {'n_gram': 2, 'min_df': 5.0, 'n_estimators': 100.0, 'max_depth': 10, 'feat_eng': True}.\n",
      "[I 2019-07-30 16:01:06,499] Finished trial#18 resulted in value: 0.47045951859956237. Current best value is 0.47045951859956237 with parameters: {'n_gram': 2, 'min_df': 5.0, 'n_estimators': 100.0, 'max_depth': 10, 'feat_eng': True}.\n",
      "[I 2019-07-30 16:01:20,969] Finished trial#19 resulted in value: 0.7659574468085106. Current best value is 0.47045951859956237 with parameters: {'n_gram': 2, 'min_df': 5.0, 'n_estimators': 100.0, 'max_depth': 10, 'feat_eng': True}.\n",
      "[I 2019-07-30 16:01:27,004] Finished trial#20 resulted in value: 0.509009009009009. Current best value is 0.47045951859956237 with parameters: {'n_gram': 2, 'min_df': 5.0, 'n_estimators': 100.0, 'max_depth': 10, 'feat_eng': True}.\n",
      "[I 2019-07-30 16:01:32,751] Finished trial#21 resulted in value: 0.9017341040462428. Current best value is 0.47045951859956237 with parameters: {'n_gram': 2, 'min_df': 5.0, 'n_estimators': 100.0, 'max_depth': 10, 'feat_eng': True}.\n",
      "[I 2019-07-30 16:01:47,285] Finished trial#22 resulted in value: 0.7659574468085106. Current best value is 0.47045951859956237 with parameters: {'n_gram': 2, 'min_df': 5.0, 'n_estimators': 100.0, 'max_depth': 10, 'feat_eng': True}.\n",
      "[I 2019-07-30 16:01:53,957] Finished trial#23 resulted in value: 0.47902869757174393. Current best value is 0.47045951859956237 with parameters: {'n_gram': 2, 'min_df': 5.0, 'n_estimators': 100.0, 'max_depth': 10, 'feat_eng': True}.\n",
      "[I 2019-07-30 16:01:58,674] Finished trial#24 resulted in value: 0.9467455621301775. Current best value is 0.47045951859956237 with parameters: {'n_gram': 2, 'min_df': 5.0, 'n_estimators': 100.0, 'max_depth': 10, 'feat_eng': True}.\n",
      "[I 2019-07-30 16:02:03,879] Finished trial#25 resulted in value: 0.9700598802395209. Current best value is 0.47045951859956237 with parameters: {'n_gram': 2, 'min_df': 5.0, 'n_estimators': 100.0, 'max_depth': 10, 'feat_eng': True}.\n",
      "[I 2019-07-30 16:02:15,750] Finished trial#26 resulted in value: 0.655. Current best value is 0.47045951859956237 with parameters: {'n_gram': 2, 'min_df': 5.0, 'n_estimators': 100.0, 'max_depth': 10, 'feat_eng': True}.\n",
      "[I 2019-07-30 16:02:56,124] Finished trial#27 resulted in value: 0.5607476635514019. Current best value is 0.47045951859956237 with parameters: {'n_gram': 2, 'min_df': 5.0, 'n_estimators': 100.0, 'max_depth': 10, 'feat_eng': True}.\n",
      "[I 2019-07-30 16:03:01,970] Finished trial#28 resulted in value: 0.7054263565891472. Current best value is 0.47045951859956237 with parameters: {'n_gram': 2, 'min_df': 5.0, 'n_estimators': 100.0, 'max_depth': 10, 'feat_eng': True}.\n",
      "[I 2019-07-30 16:03:07,127] Finished trial#29 resulted in value: 0.6135265700483092. Current best value is 0.47045951859956237 with parameters: {'n_gram': 2, 'min_df': 5.0, 'n_estimators': 100.0, 'max_depth': 10, 'feat_eng': True}.\n",
      "[I 2019-07-30 16:03:12,177] Finished trial#30 resulted in value: 0.7789757412398922. Current best value is 0.47045951859956237 with parameters: {'n_gram': 2, 'min_df': 5.0, 'n_estimators': 100.0, 'max_depth': 10, 'feat_eng': True}.\n",
      "[I 2019-07-30 16:03:40,495] Finished trial#31 resulted in value: 0.5644028103044496. Current best value is 0.47045951859956237 with parameters: {'n_gram': 2, 'min_df': 5.0, 'n_estimators': 100.0, 'max_depth': 10, 'feat_eng': True}.\n",
      "[I 2019-07-30 16:03:45,984] Finished trial#32 resulted in value: 0.9017341040462428. Current best value is 0.47045951859956237 with parameters: {'n_gram': 2, 'min_df': 5.0, 'n_estimators': 100.0, 'max_depth': 10, 'feat_eng': True}.\n",
      "[I 2019-07-30 16:04:16,764] Finished trial#33 resulted in value: 0.9183673469387755. Current best value is 0.47045951859956237 with parameters: {'n_gram': 2, 'min_df': 5.0, 'n_estimators': 100.0, 'max_depth': 10, 'feat_eng': True}.\n",
      "[I 2019-07-30 16:04:44,930] Finished trial#34 resulted in value: 0.5829383886255924. Current best value is 0.47045951859956237 with parameters: {'n_gram': 2, 'min_df': 5.0, 'n_estimators': 100.0, 'max_depth': 10, 'feat_eng': True}.\n",
      "[I 2019-07-30 16:04:50,297] Finished trial#35 resulted in value: 0.8693181818181819. Current best value is 0.47045951859956237 with parameters: {'n_gram': 2, 'min_df': 5.0, 'n_estimators': 100.0, 'max_depth': 10, 'feat_eng': True}.\n",
      "[I 2019-07-30 16:04:54,821] Finished trial#36 resulted in value: 0.9878787878787879. Current best value is 0.47045951859956237 with parameters: {'n_gram': 2, 'min_df': 5.0, 'n_estimators': 100.0, 'max_depth': 10, 'feat_eng': True}.\n",
      "[I 2019-07-30 16:05:04,947] Finished trial#37 resulted in value: 0.9410029498525074. Current best value is 0.47045951859956237 with parameters: {'n_gram': 2, 'min_df': 5.0, 'n_estimators': 100.0, 'max_depth': 10, 'feat_eng': True}.\n",
      "[I 2019-07-30 16:05:10,560] Finished trial#38 resulted in value: 0.6923076923076923. Current best value is 0.47045951859956237 with parameters: {'n_gram': 2, 'min_df': 5.0, 'n_estimators': 100.0, 'max_depth': 10, 'feat_eng': True}.\n",
      "[I 2019-07-30 16:05:28,427] Finished trial#39 resulted in value: 1.0. Current best value is 0.47045951859956237 with parameters: {'n_gram': 2, 'min_df': 5.0, 'n_estimators': 100.0, 'max_depth': 10, 'feat_eng': True}.\n",
      "[I 2019-07-30 16:05:34,669] Finished trial#40 resulted in value: 0.47045951859956237. Current best value is 0.47045951859956237 with parameters: {'n_gram': 2, 'min_df': 5.0, 'n_estimators': 100.0, 'max_depth': 10, 'feat_eng': True}.\n",
      "[I 2019-07-30 16:05:39,740] Finished trial#41 resulted in value: 0.7010309278350515. Current best value is 0.47045951859956237 with parameters: {'n_gram': 2, 'min_df': 5.0, 'n_estimators': 100.0, 'max_depth': 10, 'feat_eng': True}.\n",
      "[I 2019-07-30 16:05:46,647] Finished trial#42 resulted in value: 0.4988814317673378. Current best value is 0.47045951859956237 with parameters: {'n_gram': 2, 'min_df': 5.0, 'n_estimators': 100.0, 'max_depth': 10, 'feat_eng': True}.\n",
      "[I 2019-07-30 16:05:56,847] Finished trial#43 resulted in value: 1.0. Current best value is 0.47045951859956237 with parameters: {'n_gram': 2, 'min_df': 5.0, 'n_estimators': 100.0, 'max_depth': 10, 'feat_eng': True}.\n",
      "[I 2019-07-30 16:06:15,212] Finished trial#44 resulted in value: 0.993920972644377. Current best value is 0.47045951859956237 with parameters: {'n_gram': 2, 'min_df': 5.0, 'n_estimators': 100.0, 'max_depth': 10, 'feat_eng': True}.\n",
      "[I 2019-07-30 16:06:20,492] Finished trial#45 resulted in value: 0.71875. Current best value is 0.47045951859956237 with parameters: {'n_gram': 2, 'min_df': 5.0, 'n_estimators': 100.0, 'max_depth': 10, 'feat_eng': True}.\n",
      "[I 2019-07-30 16:06:42,151] Finished trial#46 resulted in value: 0.8962536023054755. Current best value is 0.47045951859956237 with parameters: {'n_gram': 2, 'min_df': 5.0, 'n_estimators': 100.0, 'max_depth': 10, 'feat_eng': True}.\n",
      "[I 2019-07-30 16:06:58,400] Finished trial#47 resulted in value: 0.509009009009009. Current best value is 0.47045951859956237 with parameters: {'n_gram': 2, 'min_df': 5.0, 'n_estimators': 100.0, 'max_depth': 10, 'feat_eng': True}.\n",
      "[I 2019-07-30 16:07:03,874] Finished trial#48 resulted in value: 0.9017341040462428. Current best value is 0.47045951859956237 with parameters: {'n_gram': 2, 'min_df': 5.0, 'n_estimators': 100.0, 'max_depth': 10, 'feat_eng': True}.\n",
      "[I 2019-07-30 16:07:09,012] Finished trial#49 resulted in value: 0.6135265700483092. Current best value is 0.47045951859956237 with parameters: {'n_gram': 2, 'min_df': 5.0, 'n_estimators': 100.0, 'max_depth': 10, 'feat_eng': True}.\n",
      "[I 2019-07-30 16:07:13,750] Finished trial#50 resulted in value: 0.8962536023054755. Current best value is 0.47045951859956237 with parameters: {'n_gram': 2, 'min_df': 5.0, 'n_estimators': 100.0, 'max_depth': 10, 'feat_eng': True}.\n",
      "[I 2019-07-30 16:07:35,802] Finished trial#51 resulted in value: 0.6717171717171717. Current best value is 0.47045951859956237 with parameters: {'n_gram': 2, 'min_df': 5.0, 'n_estimators': 100.0, 'max_depth': 10, 'feat_eng': True}.\n",
      "[I 2019-07-30 16:07:41,576] Finished trial#52 resulted in value: 0.9017341040462428. Current best value is 0.47045951859956237 with parameters: {'n_gram': 2, 'min_df': 5.0, 'n_estimators': 100.0, 'max_depth': 10, 'feat_eng': True}.\n",
      "[I 2019-07-30 16:07:56,405] Finished trial#53 resulted in value: 0.5124153498871331. Current best value is 0.47045951859956237 with parameters: {'n_gram': 2, 'min_df': 5.0, 'n_estimators': 100.0, 'max_depth': 10, 'feat_eng': True}.\n",
      "[I 2019-07-30 16:08:02,715] Finished trial#54 resulted in value: 0.47045951859956237. Current best value is 0.47045951859956237 with parameters: {'n_gram': 2, 'min_df': 5.0, 'n_estimators': 100.0, 'max_depth': 10, 'feat_eng': True}.\n",
      "[I 2019-07-30 16:08:07,037] Finished trial#55 resulted in value: 1.0. Current best value is 0.47045951859956237 with parameters: {'n_gram': 2, 'min_df': 5.0, 'n_estimators': 100.0, 'max_depth': 10, 'feat_eng': True}.\n",
      "[I 2019-07-30 16:08:13,122] Finished trial#56 resulted in value: 0.509009009009009. Current best value is 0.47045951859956237 with parameters: {'n_gram': 2, 'min_df': 5.0, 'n_estimators': 100.0, 'max_depth': 10, 'feat_eng': True}.\n",
      "[I 2019-07-30 16:08:49,069] Finished trial#57 resulted in value: 0.6305418719211823. Current best value is 0.47045951859956237 with parameters: {'n_gram': 2, 'min_df': 5.0, 'n_estimators': 100.0, 'max_depth': 10, 'feat_eng': True}.\n",
      "[I 2019-07-30 16:09:16,845] Finished trial#58 resulted in value: 0.7375328083989501. Current best value is 0.47045951859956237 with parameters: {'n_gram': 2, 'min_df': 5.0, 'n_estimators': 100.0, 'max_depth': 10, 'feat_eng': True}.\n",
      "[I 2019-07-30 16:09:20,750] Finished trial#59 resulted in value: 1.0. Current best value is 0.47045951859956237 with parameters: {'n_gram': 2, 'min_df': 5.0, 'n_estimators': 100.0, 'max_depth': 10, 'feat_eng': True}.\n",
      "[I 2019-07-30 16:09:38,013] Finished trial#60 resulted in value: 0.536697247706422. Current best value is 0.47045951859956237 with parameters: {'n_gram': 2, 'min_df': 5.0, 'n_estimators': 100.0, 'max_depth': 10, 'feat_eng': True}.\n",
      "[I 2019-07-30 16:09:43,493] Finished trial#61 resulted in value: 0.5607476635514019. Current best value is 0.47045951859956237 with parameters: {'n_gram': 2, 'min_df': 5.0, 'n_estimators': 100.0, 'max_depth': 10, 'feat_eng': True}.\n",
      "[I 2019-07-30 16:09:52,622] Finished trial#62 resulted in value: 0.736842105263158. Current best value is 0.47045951859956237 with parameters: {'n_gram': 2, 'min_df': 5.0, 'n_estimators': 100.0, 'max_depth': 10, 'feat_eng': True}.\n",
      "[I 2019-07-30 16:09:57,264] Finished trial#63 resulted in value: 1.0. Current best value is 0.47045951859956237 with parameters: {'n_gram': 2, 'min_df': 5.0, 'n_estimators': 100.0, 'max_depth': 10, 'feat_eng': True}.\n",
      "[I 2019-07-30 16:10:18,979] Finished trial#64 resulted in value: 0.6057692307692308. Current best value is 0.47045951859956237 with parameters: {'n_gram': 2, 'min_df': 5.0, 'n_estimators': 100.0, 'max_depth': 10, 'feat_eng': True}.\n",
      "[I 2019-07-30 16:10:25,251] Finished trial#65 resulted in value: 0.47045951859956237. Current best value is 0.47045951859956237 with parameters: {'n_gram': 2, 'min_df': 5.0, 'n_estimators': 100.0, 'max_depth': 10, 'feat_eng': True}.\n",
      "[I 2019-07-30 16:10:31,531] Finished trial#66 resulted in value: 0.47045951859956237. Current best value is 0.47045951859956237 with parameters: {'n_gram': 2, 'min_df': 5.0, 'n_estimators': 100.0, 'max_depth': 10, 'feat_eng': True}.\n",
      "[I 2019-07-30 16:10:37,817] Finished trial#67 resulted in value: 0.47045951859956237. Current best value is 0.47045951859956237 with parameters: {'n_gram': 2, 'min_df': 5.0, 'n_estimators': 100.0, 'max_depth': 10, 'feat_eng': True}.\n",
      "[I 2019-07-30 16:10:43,309] Finished trial#68 resulted in value: 0.9017341040462428. Current best value is 0.47045951859956237 with parameters: {'n_gram': 2, 'min_df': 5.0, 'n_estimators': 100.0, 'max_depth': 10, 'feat_eng': True}.\n",
      "[I 2019-07-30 16:10:58,141] Finished trial#69 resulted in value: 0.5124153498871331. Current best value is 0.47045951859956237 with parameters: {'n_gram': 2, 'min_df': 5.0, 'n_estimators': 100.0, 'max_depth': 10, 'feat_eng': True}.\n",
      "[I 2019-07-30 16:11:04,433] Finished trial#70 resulted in value: 0.47045951859956237. Current best value is 0.47045951859956237 with parameters: {'n_gram': 2, 'min_df': 5.0, 'n_estimators': 100.0, 'max_depth': 10, 'feat_eng': True}.\n",
      "[I 2019-07-30 16:11:18,215] Finished trial#71 resulted in value: 0.9878787878787879. Current best value is 0.47045951859956237 with parameters: {'n_gram': 2, 'min_df': 5.0, 'n_estimators': 100.0, 'max_depth': 10, 'feat_eng': True}.\n",
      "[I 2019-07-30 16:11:32,822] Finished trial#72 resulted in value: 0.7659574468085106. Current best value is 0.47045951859956237 with parameters: {'n_gram': 2, 'min_df': 5.0, 'n_estimators': 100.0, 'max_depth': 10, 'feat_eng': True}.\n",
      "[I 2019-07-30 16:11:39,114] Finished trial#73 resulted in value: 0.47045951859956237. Current best value is 0.47045951859956237 with parameters: {'n_gram': 2, 'min_df': 5.0, 'n_estimators': 100.0, 'max_depth': 10, 'feat_eng': True}.\n",
      "[I 2019-07-30 16:11:44,874] Finished trial#74 resulted in value: 0.9017341040462428. Current best value is 0.47045951859956237 with parameters: {'n_gram': 2, 'min_df': 5.0, 'n_estimators': 100.0, 'max_depth': 10, 'feat_eng': True}.\n",
      "[I 2019-07-30 16:11:59,409] Finished trial#75 resulted in value: 0.7659574468085106. Current best value is 0.47045951859956237 with parameters: {'n_gram': 2, 'min_df': 5.0, 'n_estimators': 100.0, 'max_depth': 10, 'feat_eng': True}.\n",
      "[I 2019-07-30 16:12:06,100] Finished trial#76 resulted in value: 0.47902869757174393. Current best value is 0.47045951859956237 with parameters: {'n_gram': 2, 'min_df': 5.0, 'n_estimators': 100.0, 'max_depth': 10, 'feat_eng': True}.\n",
      "[I 2019-07-30 16:12:20,958] Finished trial#77 resulted in value: 0.5124153498871331. Current best value is 0.47045951859956237 with parameters: {'n_gram': 2, 'min_df': 5.0, 'n_estimators': 100.0, 'max_depth': 10, 'feat_eng': True}.\n",
      "[I 2019-07-30 16:12:26,215] Finished trial#78 resulted in value: 0.9700598802395209. Current best value is 0.47045951859956237 with parameters: {'n_gram': 2, 'min_df': 5.0, 'n_estimators': 100.0, 'max_depth': 10, 'feat_eng': True}.\n",
      "[I 2019-07-30 16:12:30,462] Finished trial#79 resulted in value: 0.9296187683284457. Current best value is 0.47045951859956237 with parameters: {'n_gram': 2, 'min_df': 5.0, 'n_estimators': 100.0, 'max_depth': 10, 'feat_eng': True}.\n",
      "[I 2019-07-30 16:12:45,048] Finished trial#80 resulted in value: 0.7659574468085106. Current best value is 0.47045951859956237 with parameters: {'n_gram': 2, 'min_df': 5.0, 'n_estimators': 100.0, 'max_depth': 10, 'feat_eng': True}.\n",
      "[I 2019-07-30 16:12:50,816] Finished trial#81 resulted in value: 0.9017341040462428. Current best value is 0.47045951859956237 with parameters: {'n_gram': 2, 'min_df': 5.0, 'n_estimators': 100.0, 'max_depth': 10, 'feat_eng': True}.\n",
      "[I 2019-07-30 16:13:07,067] Finished trial#82 resulted in value: 0.509009009009009. Current best value is 0.47045951859956237 with parameters: {'n_gram': 2, 'min_df': 5.0, 'n_estimators': 100.0, 'max_depth': 10, 'feat_eng': True}.\n",
      "[I 2019-07-30 16:13:11,483] Finished trial#83 resulted in value: 1.0. Current best value is 0.47045951859956237 with parameters: {'n_gram': 2, 'min_df': 5.0, 'n_estimators': 100.0, 'max_depth': 10, 'feat_eng': True}.\n",
      "[I 2019-07-30 16:13:17,745] Finished trial#84 resulted in value: 0.47045951859956237. Current best value is 0.47045951859956237 with parameters: {'n_gram': 2, 'min_df': 5.0, 'n_estimators': 100.0, 'max_depth': 10, 'feat_eng': True}.\n",
      "[I 2019-07-30 16:13:23,440] Finished trial#85 resulted in value: 0.5644028103044496. Current best value is 0.47045951859956237 with parameters: {'n_gram': 2, 'min_df': 5.0, 'n_estimators': 100.0, 'max_depth': 10, 'feat_eng': True}.\n",
      "[I 2019-07-30 16:13:48,433] Finished trial#86 resulted in value: 0.5904761904761905. Current best value is 0.47045951859956237 with parameters: {'n_gram': 2, 'min_df': 5.0, 'n_estimators': 100.0, 'max_depth': 10, 'feat_eng': True}.\n",
      "[I 2019-07-30 16:13:53,557] Finished trial#87 resulted in value: 0.7789757412398922. Current best value is 0.47045951859956237 with parameters: {'n_gram': 2, 'min_df': 5.0, 'n_estimators': 100.0, 'max_depth': 10, 'feat_eng': True}.\n",
      "[I 2019-07-30 16:14:28,603] Finished trial#88 resulted in value: 0.8640226628895185. Current best value is 0.47045951859956237 with parameters: {'n_gram': 2, 'min_df': 5.0, 'n_estimators': 100.0, 'max_depth': 10, 'feat_eng': True}.\n",
      "[I 2019-07-30 16:14:35,256] Finished trial#89 resulted in value: 0.47902869757174393. Current best value is 0.47045951859956237 with parameters: {'n_gram': 2, 'min_df': 5.0, 'n_estimators': 100.0, 'max_depth': 10, 'feat_eng': True}.\n",
      "[I 2019-07-30 16:14:57,508] Finished trial#90 resulted in value: 0.9878787878787879. Current best value is 0.47045951859956237 with parameters: {'n_gram': 2, 'min_df': 5.0, 'n_estimators': 100.0, 'max_depth': 10, 'feat_eng': True}.\n",
      "[I 2019-07-30 16:15:02,910] Finished trial#91 resulted in value: 0.5607476635514019. Current best value is 0.47045951859956237 with parameters: {'n_gram': 2, 'min_df': 5.0, 'n_estimators': 100.0, 'max_depth': 10, 'feat_eng': True}.\n",
      "[I 2019-07-30 16:15:08,350] Finished trial#92 resulted in value: 0.736842105263158. Current best value is 0.47045951859956237 with parameters: {'n_gram': 2, 'min_df': 5.0, 'n_estimators': 100.0, 'max_depth': 10, 'feat_eng': True}.\n",
      "[I 2019-07-30 16:15:18,678] Finished trial#93 resulted in value: 0.6633165829145728. Current best value is 0.47045951859956237 with parameters: {'n_gram': 2, 'min_df': 5.0, 'n_estimators': 100.0, 'max_depth': 10, 'feat_eng': True}.\n",
      "[I 2019-07-30 16:15:24,939] Finished trial#94 resulted in value: 0.47045951859956237. Current best value is 0.47045951859956237 with parameters: {'n_gram': 2, 'min_df': 5.0, 'n_estimators': 100.0, 'max_depth': 10, 'feat_eng': True}.\n",
      "[I 2019-07-30 16:15:42,860] Finished trial#95 resulted in value: 1.0. Current best value is 0.47045951859956237 with parameters: {'n_gram': 2, 'min_df': 5.0, 'n_estimators': 100.0, 'max_depth': 10, 'feat_eng': True}.\n",
      "[I 2019-07-30 16:15:48,597] Finished trial#96 resulted in value: 0.9017341040462428. Current best value is 0.47045951859956237 with parameters: {'n_gram': 2, 'min_df': 5.0, 'n_estimators': 100.0, 'max_depth': 10, 'feat_eng': True}.\n",
      "[I 2019-07-30 16:15:53,325] Finished trial#97 resulted in value: 0.9467455621301775. Current best value is 0.47045951859956237 with parameters: {'n_gram': 2, 'min_df': 5.0, 'n_estimators': 100.0, 'max_depth': 10, 'feat_eng': True}.\n",
      "[I 2019-07-30 16:15:59,110] Finished trial#98 resulted in value: 0.5754716981132075. Current best value is 0.47045951859956237 with parameters: {'n_gram': 2, 'min_df': 5.0, 'n_estimators': 100.0, 'max_depth': 10, 'feat_eng': True}.\n",
      "[I 2019-07-30 16:16:15,201] Finished trial#99 resulted in value: 0.6641604010025063. Current best value is 0.47045951859956237 with parameters: {'n_gram': 2, 'min_df': 5.0, 'n_estimators': 100.0, 'max_depth': 10, 'feat_eng': True}.\n"
     ]
    }
   ],
   "source": [
    "train_df = pd.read_csv('/home/b2018yniki/data/semeval2010task8/train_original.tsv', sep='\\t')\n",
    "train_df = train_df.assign(causal_flag = [0 if 'Cause-Effect' in relation else 1 for relation in train_df.relation.values]).drop(['relation', 'comment'], axis=1)\n",
    "train_df.body = [text.replace('\"', '') for text in train_df.body.values]\n",
    "test_df = pd.read_csv('/home/b2018yniki/data/semeval2010task8/test_original.tsv', sep='\\t')\n",
    "test_df = test_df.assign(causal_flag = [0 if 'Cause-Effect' in relation else 1 for relation in test_df.relation.values]).drop(['relation', 'comment'], axis=1)\n",
    "test_df.body = [text.replace('\"', '') for text in test_df.body.values]\n",
    "\n",
    "def objective(trial):\n",
    "    n_gram       = trial.suggest_int('n_gram', 1, 5)\n",
    "    min_df       = int(trial.suggest_discrete_uniform('min_df', 5, 20, 5))\n",
    "    n_estimators = int(trial.suggest_discrete_uniform('n_estimators', 100, 1000, 300))\n",
    "    max_depth    = trial.suggest_int('max_depth', 5, 10)\n",
    "    feat_eng     = trial.suggest_categorical('feat_eng', [True, False])\n",
    "    \n",
    "    scores = create_model_pred2(train_df, test_df, n_gram, min_df, n_estimators, max_depth, feat_eng)\n",
    "    \n",
    "    return 1 - scores[3]\n",
    "\n",
    "study = optuna.create_study()\n",
    "study.optimize(objective, n_trials=100)"
   ]
  },
  {
   "cell_type": "markdown",
   "metadata": {},
   "source": [
    "### best parameters"
   ]
  },
  {
   "cell_type": "code",
   "execution_count": 9,
   "metadata": {},
   "outputs": [
    {
     "name": "stdout",
     "output_type": "stream",
     "text": [
      "best parameters:  {'n_gram': 2, 'min_df': 5.0, 'n_estimators': 100.0, 'max_depth': 10, 'feat_eng': True}\n",
      "best f1 score: 0.5295404814004376\n"
     ]
    }
   ],
   "source": [
    "print('best parameters: ', study.best_params)\n",
    "print('best f1 score: {}'.format(1-study.best_value))"
   ]
  },
  {
   "cell_type": "code",
   "execution_count": 12,
   "metadata": {},
   "outputs": [
    {
     "name": "stdout",
     "output_type": "stream",
     "text": [
      "Number of features: 5846\n",
      "X_train shape:  (8000, 5846)\n",
      "X_test shape:  (2717, 5846)\n",
      "# of use columns:  1560\n",
      "Confusion Matrix: \n",
      "[[ 121  207]\n",
      " [   8 2381]]\n",
      "scores:  (0.9208686050791314, 0.937984496124031, 0.36890243902439024, 0.5295404814004376)\n",
      "AUC:  0.6827768787838568\n"
     ]
    }
   ],
   "source": [
    "train_df = pd.read_csv('/home/b2018yniki/data/semeval2010task8/train_original.tsv', sep='\\t')\n",
    "train_df = train_df.assign(causal_flag = [0 if 'Cause-Effect' in relation else 1 for relation in train_df.relation.values]).drop(['relation', 'comment'], axis=1)\n",
    "train_df.body = [text.replace('\"', '') for text in train_df.body.values]\n",
    "test_df = pd.read_csv('/home/b2018yniki/data/semeval2010task8/test_original.tsv', sep='\\t')\n",
    "test_df = test_df.assign(causal_flag = [0 if 'Cause-Effect' in relation else 1 for relation in test_df.relation.values]).drop(['relation', 'comment'], axis=1)\n",
    "test_df.body = [text.replace('\"', '') for text in test_df.body.values]\n",
    "\n",
    "X_train = [tokenizer(text) for text in train_df.body.values]\n",
    "X_test  = [tokenizer(text) for text in test_df.body.values]\n",
    "y_train = train_df.causal_flag.values\n",
    "y_test  = test_df.causal_flag.values\n",
    "\n",
    "vect = CountVectorizer(min_df=5, ngram_range=(1,2))\n",
    "vect.fit(X_train)\n",
    "X_train = vect.transform(X_train)\n",
    "X_test  = vect.transform(X_test)\n",
    "\n",
    "feature_names = vect.get_feature_names()\n",
    "print(\"Number of features: {}\".format(len(feature_names)))\n",
    "X_train = pd.DataFrame(X_train.toarray(), columns=feature_names)\n",
    "X_test  = pd.DataFrame(X_test.toarray(), columns=feature_names)\n",
    "\n",
    "print('X_train shape: ', X_train.shape)\n",
    "print('X_test shape: ', X_test.shape)\n",
    "\n",
    "rf_model = RandomForestClassifier(n_estimators=100, max_depth=10, random_state=2019)\n",
    "rf_model.fit(X_train, y_train)\n",
    "\n",
    "fi_df = pd.DataFrame(rf_model.feature_importances_, index=feature_names)\n",
    "use_cols = fi_df[fi_df[0] > 0.0].index.values\n",
    "\n",
    "print('# of use columns: ', len(use_cols))\n",
    "X_train = X_train[use_cols]\n",
    "X_test  = X_test[use_cols]\n",
    "\n",
    "rf_model = RandomForestClassifier(n_estimators=100, max_depth=10, random_state=2019)\n",
    "rf_model.fit(X_train, y_train)\n",
    "y_pred = rf_model.predict(X_test)\n",
    "\n",
    "confusion = confusion_matrix(y_test, y_pred)\n",
    "scores    = confusion2score(confusion)\n",
    "auc       = roc_auc_score(y_test, y_pred)\n",
    "print('Confusion Matrix: ')\n",
    "print(confusion)\n",
    "print('scores: ', scores)\n",
    "print('AUC: ', auc)"
   ]
  },
  {
   "cell_type": "code",
   "execution_count": 14,
   "metadata": {},
   "outputs": [
    {
     "name": "stderr",
     "output_type": "stream",
     "text": [
      "findfont: Font family ['TakaoPGothic'] not found. Falling back to DejaVu Sans.\n"
     ]
    },
    {
     "data": {
      "image/png": "[encoded data removed]",
      "text/plain": [
       "<Figure size 432x288 with 1 Axes>"
      ]
     },
     "metadata": {
      "needs_background": "light"
     },
     "output_type": "display_data"
    }
   ],
   "source": [
    "fi_df = pd.DataFrame(rf_model.feature_importances_, index=use_cols).sort_values(0, ascending=False)\n",
    "\n",
    "plt.figure()\n",
    "sns.barplot(x=fi_df.head(10)[0].values,y=fi_df.head(10).index.values, data=fi_df.head(10))\n",
    "plt.show()"
   ]
  },
  {
   "cell_type": "markdown",
   "metadata": {},
   "source": [
    "### with oversampling"
   ]
  },
  {
   "cell_type": "code",
   "execution_count": 15,
   "metadata": {},
   "outputs": [
    {
     "name": "stderr",
     "output_type": "stream",
     "text": [
      "[I 2019-07-30 16:29:25,615] Finished trial#0 resulted in value: 0.2383720930232558. Current best value is 0.2383720930232558 with parameters: {'n_gram': 1, 'min_df': 15.0, 'n_estimators': 400.0, 'max_depth': 9, 'feat_eng': True}.\n",
      "[I 2019-07-30 16:29:33,810] Finished trial#1 resulted in value: 0.24473257698541329. Current best value is 0.2383720930232558 with parameters: {'n_gram': 1, 'min_df': 15.0, 'n_estimators': 400.0, 'max_depth': 9, 'feat_eng': True}.\n",
      "[I 2019-07-30 16:29:42,258] Finished trial#2 resulted in value: 0.22038980509745132. Current best value is 0.22038980509745132 with parameters: {'n_gram': 1, 'min_df': 10.0, 'n_estimators': 1000.0, 'max_depth': 10, 'feat_eng': False}.\n",
      "[I 2019-07-30 16:30:08,503] Finished trial#3 resulted in value: 0.2185430463576159. Current best value is 0.2185430463576159 with parameters: {'n_gram': 4, 'min_df': 5.0, 'n_estimators': 400.0, 'max_depth': 7, 'feat_eng': True}.\n",
      "[I 2019-07-30 16:30:33,655] Finished trial#4 resulted in value: 0.1866028708133971. Current best value is 0.1866028708133971 with parameters: {'n_gram': 3, 'min_df': 20.0, 'n_estimators': 400.0, 'max_depth': 10, 'feat_eng': True}.\n",
      "[I 2019-07-30 16:30:44,843] Finished trial#5 resulted in value: 0.20259319286871957. Current best value is 0.1866028708133971 with parameters: {'n_gram': 3, 'min_df': 20.0, 'n_estimators': 400.0, 'max_depth': 10, 'feat_eng': True}.\n",
      "[I 2019-07-30 16:30:54,306] Finished trial#6 resulted in value: 0.2522796352583586. Current best value is 0.1866028708133971 with parameters: {'n_gram': 3, 'min_df': 20.0, 'n_estimators': 400.0, 'max_depth': 10, 'feat_eng': True}.\n",
      "[I 2019-07-30 16:31:01,321] Finished trial#7 resulted in value: 0.25697503671071953. Current best value is 0.1866028708133971 with parameters: {'n_gram': 3, 'min_df': 20.0, 'n_estimators': 400.0, 'max_depth': 10, 'feat_eng': True}.\n",
      "[I 2019-07-30 16:31:33,506] Finished trial#8 resulted in value: 0.2595744680851064. Current best value is 0.1866028708133971 with parameters: {'n_gram': 3, 'min_df': 20.0, 'n_estimators': 400.0, 'max_depth': 10, 'feat_eng': True}.\n",
      "[I 2019-07-30 16:31:41,662] Finished trial#9 resulted in value: 0.20458265139116205. Current best value is 0.1866028708133971 with parameters: {'n_gram': 3, 'min_df': 20.0, 'n_estimators': 400.0, 'max_depth': 10, 'feat_eng': True}.\n",
      "[I 2019-07-30 16:32:23,885] Finished trial#10 resulted in value: 0.22519685039370074. Current best value is 0.1866028708133971 with parameters: {'n_gram': 3, 'min_df': 20.0, 'n_estimators': 400.0, 'max_depth': 10, 'feat_eng': True}.\n",
      "[I 2019-07-30 16:32:34,838] Finished trial#11 resulted in value: 0.22499999999999998. Current best value is 0.1866028708133971 with parameters: {'n_gram': 3, 'min_df': 20.0, 'n_estimators': 400.0, 'max_depth': 10, 'feat_eng': True}.\n",
      "[I 2019-07-30 16:33:46,253] Finished trial#12 resulted in value: 0.21341463414634143. Current best value is 0.1866028708133971 with parameters: {'n_gram': 3, 'min_df': 20.0, 'n_estimators': 400.0, 'max_depth': 10, 'feat_eng': True}.\n",
      "[I 2019-07-30 16:34:38,147] Finished trial#13 resulted in value: 0.2104454685099847. Current best value is 0.1866028708133971 with parameters: {'n_gram': 3, 'min_df': 20.0, 'n_estimators': 400.0, 'max_depth': 10, 'feat_eng': True}.\n",
      "[I 2019-07-30 16:34:47,400] Finished trial#14 resulted in value: 0.3218210361067504. Current best value is 0.1866028708133971 with parameters: {'n_gram': 3, 'min_df': 20.0, 'n_estimators': 400.0, 'max_depth': 10, 'feat_eng': True}.\n",
      "[I 2019-07-30 16:34:56,555] Finished trial#15 resulted in value: 0.2259136212624585. Current best value is 0.1866028708133971 with parameters: {'n_gram': 3, 'min_df': 20.0, 'n_estimators': 400.0, 'max_depth': 10, 'feat_eng': True}.\n",
      "[I 2019-07-30 16:36:45,229] Finished trial#16 resulted in value: 0.23952095808383234. Current best value is 0.1866028708133971 with parameters: {'n_gram': 3, 'min_df': 20.0, 'n_estimators': 400.0, 'max_depth': 10, 'feat_eng': True}.\n",
      "[I 2019-07-30 16:36:56,306] Finished trial#17 resulted in value: 0.18901453957996772. Current best value is 0.1866028708133971 with parameters: {'n_gram': 3, 'min_df': 20.0, 'n_estimators': 400.0, 'max_depth': 10, 'feat_eng': True}.\n",
      "[I 2019-07-30 16:37:09,062] Finished trial#18 resulted in value: 0.1895424836601307. Current best value is 0.1866028708133971 with parameters: {'n_gram': 3, 'min_df': 20.0, 'n_estimators': 400.0, 'max_depth': 10, 'feat_eng': True}.\n",
      "[I 2019-07-30 16:37:22,305] Finished trial#19 resulted in value: 0.2712680577849117. Current best value is 0.1866028708133971 with parameters: {'n_gram': 3, 'min_df': 20.0, 'n_estimators': 400.0, 'max_depth': 10, 'feat_eng': True}.\n",
      "[I 2019-07-30 16:38:05,180] Finished trial#20 resulted in value: 0.20516962843295639. Current best value is 0.1866028708133971 with parameters: {'n_gram': 3, 'min_df': 20.0, 'n_estimators': 400.0, 'max_depth': 10, 'feat_eng': True}.\n",
      "[I 2019-07-30 16:38:16,088] Finished trial#21 resulted in value: 0.22499999999999998. Current best value is 0.1866028708133971 with parameters: {'n_gram': 3, 'min_df': 20.0, 'n_estimators': 400.0, 'max_depth': 10, 'feat_eng': True}.\n",
      "[I 2019-07-30 16:39:27,941] Finished trial#22 resulted in value: 0.20792079207920788. Current best value is 0.1866028708133971 with parameters: {'n_gram': 3, 'min_df': 20.0, 'n_estimators': 400.0, 'max_depth': 10, 'feat_eng': True}.\n",
      "[I 2019-07-30 16:40:10,177] Finished trial#23 resulted in value: 0.20516962843295639. Current best value is 0.1866028708133971 with parameters: {'n_gram': 3, 'min_df': 20.0, 'n_estimators': 400.0, 'max_depth': 10, 'feat_eng': True}.\n",
      "[I 2019-07-30 16:40:20,992] Finished trial#24 resulted in value: 0.2382352941176471. Current best value is 0.1866028708133971 with parameters: {'n_gram': 3, 'min_df': 20.0, 'n_estimators': 400.0, 'max_depth': 10, 'feat_eng': True}.\n",
      "[I 2019-07-30 16:40:28,713] Finished trial#25 resulted in value: 0.3006329113924051. Current best value is 0.1866028708133971 with parameters: {'n_gram': 3, 'min_df': 20.0, 'n_estimators': 400.0, 'max_depth': 10, 'feat_eng': True}.\n",
      "[I 2019-07-30 16:41:17,327] Finished trial#26 resulted in value: 0.19543973941368076. Current best value is 0.1866028708133971 with parameters: {'n_gram': 3, 'min_df': 20.0, 'n_estimators': 400.0, 'max_depth': 10, 'feat_eng': True}.\n",
      "[I 2019-07-30 16:41:59,555] Finished trial#27 resulted in value: 0.20516962843295639. Current best value is 0.1866028708133971 with parameters: {'n_gram': 3, 'min_df': 20.0, 'n_estimators': 400.0, 'max_depth': 10, 'feat_eng': True}.\n",
      "[I 2019-07-30 16:42:08,984] Finished trial#28 resulted in value: 0.24814264487369986. Current best value is 0.1866028708133971 with parameters: {'n_gram': 3, 'min_df': 20.0, 'n_estimators': 400.0, 'max_depth': 10, 'feat_eng': True}.\n",
      "[I 2019-07-30 16:42:15,743] Finished trial#29 resulted in value: 0.27121001390820587. Current best value is 0.1866028708133971 with parameters: {'n_gram': 3, 'min_df': 20.0, 'n_estimators': 400.0, 'max_depth': 10, 'feat_eng': True}.\n",
      "[I 2019-07-30 16:42:57,164] Finished trial#30 resulted in value: 0.22530864197530864. Current best value is 0.1866028708133971 with parameters: {'n_gram': 3, 'min_df': 20.0, 'n_estimators': 400.0, 'max_depth': 10, 'feat_eng': True}.\n",
      "[I 2019-07-30 16:43:06,498] Finished trial#31 resulted in value: 0.22516556291390732. Current best value is 0.1866028708133971 with parameters: {'n_gram': 3, 'min_df': 20.0, 'n_estimators': 400.0, 'max_depth': 10, 'feat_eng': True}.\n",
      "[I 2019-07-30 16:43:34,480] Finished trial#32 resulted in value: 0.23353293413173648. Current best value is 0.1866028708133971 with parameters: {'n_gram': 3, 'min_df': 20.0, 'n_estimators': 400.0, 'max_depth': 10, 'feat_eng': True}.\n",
      "[I 2019-07-30 16:43:45,828] Finished trial#33 resulted in value: 0.23278688524590163. Current best value is 0.1866028708133971 with parameters: {'n_gram': 3, 'min_df': 20.0, 'n_estimators': 400.0, 'max_depth': 10, 'feat_eng': True}.\n",
      "[I 2019-07-30 16:43:54,042] Finished trial#34 resulted in value: 0.20458265139116205. Current best value is 0.1866028708133971 with parameters: {'n_gram': 3, 'min_df': 20.0, 'n_estimators': 400.0, 'max_depth': 10, 'feat_eng': True}.\n",
      "[I 2019-07-30 16:44:30,179] Finished trial#35 resulted in value: 0.2616690240452617. Current best value is 0.1866028708133971 with parameters: {'n_gram': 3, 'min_df': 20.0, 'n_estimators': 400.0, 'max_depth': 10, 'feat_eng': True}.\n",
      "[I 2019-07-30 16:45:55,551] Finished trial#36 resulted in value: 0.2203947368421053. Current best value is 0.1866028708133971 with parameters: {'n_gram': 3, 'min_df': 20.0, 'n_estimators': 400.0, 'max_depth': 10, 'feat_eng': True}.\n",
      "[I 2019-07-30 16:46:02,815] Finished trial#37 resulted in value: 0.21385542168674698. Current best value is 0.1866028708133971 with parameters: {'n_gram': 3, 'min_df': 20.0, 'n_estimators': 400.0, 'max_depth': 10, 'feat_eng': True}.\n",
      "[I 2019-07-30 16:46:13,947] Finished trial#38 resulted in value: 0.19798657718120805. Current best value is 0.1866028708133971 with parameters: {'n_gram': 3, 'min_df': 20.0, 'n_estimators': 400.0, 'max_depth': 10, 'feat_eng': True}.\n",
      "[I 2019-07-30 16:46:36,682] Finished trial#39 resulted in value: 0.22102009273570322. Current best value is 0.1866028708133971 with parameters: {'n_gram': 3, 'min_df': 20.0, 'n_estimators': 400.0, 'max_depth': 10, 'feat_eng': True}.\n",
      "[I 2019-07-30 16:46:50,686] Finished trial#40 resulted in value: 0.1900826446280992. Current best value is 0.1866028708133971 with parameters: {'n_gram': 3, 'min_df': 20.0, 'n_estimators': 400.0, 'max_depth': 10, 'feat_eng': True}.\n",
      "[I 2019-07-30 16:46:57,866] Finished trial#41 resulted in value: 0.2692307692307693. Current best value is 0.1866028708133971 with parameters: {'n_gram': 3, 'min_df': 20.0, 'n_estimators': 400.0, 'max_depth': 10, 'feat_eng': True}.\n",
      "[I 2019-07-30 16:47:39,332] Finished trial#42 resulted in value: 0.22530864197530864. Current best value is 0.1866028708133971 with parameters: {'n_gram': 3, 'min_df': 20.0, 'n_estimators': 400.0, 'max_depth': 10, 'feat_eng': True}.\n",
      "[I 2019-07-30 16:48:57,813] Finished trial#43 resulted in value: 0.24372230428360409. Current best value is 0.1866028708133971 with parameters: {'n_gram': 3, 'min_df': 20.0, 'n_estimators': 400.0, 'max_depth': 10, 'feat_eng': True}.\n",
      "[I 2019-07-30 16:50:08,489] Finished trial#44 resulted in value: 0.21621621621621623. Current best value is 0.1866028708133971 with parameters: {'n_gram': 3, 'min_df': 20.0, 'n_estimators': 400.0, 'max_depth': 10, 'feat_eng': True}.\n",
      "[I 2019-07-30 16:50:15,491] Finished trial#45 resulted in value: 0.2536348949919225. Current best value is 0.1866028708133971 with parameters: {'n_gram': 3, 'min_df': 20.0, 'n_estimators': 400.0, 'max_depth': 10, 'feat_eng': True}.\n",
      "[I 2019-07-30 16:50:57,775] Finished trial#46 resulted in value: 0.23051948051948057. Current best value is 0.1866028708133971 with parameters: {'n_gram': 3, 'min_df': 20.0, 'n_estimators': 400.0, 'max_depth': 10, 'feat_eng': True}.\n",
      "[I 2019-07-30 16:51:35,020] Finished trial#47 resulted in value: 0.23205342237061766. Current best value is 0.1866028708133971 with parameters: {'n_gram': 3, 'min_df': 20.0, 'n_estimators': 400.0, 'max_depth': 10, 'feat_eng': True}.\n",
      "[I 2019-07-30 16:51:45,357] Finished trial#48 resulted in value: 0.214175654853621. Current best value is 0.1866028708133971 with parameters: {'n_gram': 3, 'min_df': 20.0, 'n_estimators': 400.0, 'max_depth': 10, 'feat_eng': True}.\n",
      "[I 2019-07-30 16:51:52,073] Finished trial#49 resulted in value: 0.2678821879382889. Current best value is 0.1866028708133971 with parameters: {'n_gram': 3, 'min_df': 20.0, 'n_estimators': 400.0, 'max_depth': 10, 'feat_eng': True}.\n",
      "[I 2019-07-30 16:52:00,732] Finished trial#50 resulted in value: 0.20322580645161292. Current best value is 0.1866028708133971 with parameters: {'n_gram': 3, 'min_df': 20.0, 'n_estimators': 400.0, 'max_depth': 10, 'feat_eng': True}.\n",
      "[I 2019-07-30 16:53:54,451] Finished trial#51 resulted in value: 0.22368421052631582. Current best value is 0.1866028708133971 with parameters: {'n_gram': 3, 'min_df': 20.0, 'n_estimators': 400.0, 'max_depth': 10, 'feat_eng': True}.\n",
      "[I 2019-07-30 16:54:53,164] Finished trial#52 resulted in value: 0.2245557350565428. Current best value is 0.1866028708133971 with parameters: {'n_gram': 3, 'min_df': 20.0, 'n_estimators': 400.0, 'max_depth': 10, 'feat_eng': True}.\n",
      "[I 2019-07-30 16:55:09,521] Finished trial#53 resulted in value: 0.24517087667161963. Current best value is 0.1866028708133971 with parameters: {'n_gram': 3, 'min_df': 20.0, 'n_estimators': 400.0, 'max_depth': 10, 'feat_eng': True}.\n",
      "[I 2019-07-30 16:55:16,523] Finished trial#54 resulted in value: 0.1869918699186992. Current best value is 0.1866028708133971 with parameters: {'n_gram': 3, 'min_df': 20.0, 'n_estimators': 400.0, 'max_depth': 10, 'feat_eng': True}.\n",
      "[I 2019-07-30 16:55:25,186] Finished trial#55 resulted in value: 0.21069182389937102. Current best value is 0.1866028708133971 with parameters: {'n_gram': 3, 'min_df': 20.0, 'n_estimators': 400.0, 'max_depth': 10, 'feat_eng': True}.\n",
      "[I 2019-07-30 16:55:31,736] Finished trial#56 resulted in value: 0.2981927710843374. Current best value is 0.1866028708133971 with parameters: {'n_gram': 3, 'min_df': 20.0, 'n_estimators': 400.0, 'max_depth': 10, 'feat_eng': True}.\n",
      "[I 2019-07-30 16:55:39,307] Finished trial#57 resulted in value: 0.2245557350565428. Current best value is 0.1866028708133971 with parameters: {'n_gram': 3, 'min_df': 20.0, 'n_estimators': 400.0, 'max_depth': 10, 'feat_eng': True}.\n",
      "[I 2019-07-30 16:55:47,472] Finished trial#58 resulted in value: 0.25341426403641887. Current best value is 0.1866028708133971 with parameters: {'n_gram': 3, 'min_df': 20.0, 'n_estimators': 400.0, 'max_depth': 10, 'feat_eng': True}.\n",
      "[I 2019-07-30 16:55:54,991] Finished trial#59 resulted in value: 0.26465927099841524. Current best value is 0.1866028708133971 with parameters: {'n_gram': 3, 'min_df': 20.0, 'n_estimators': 400.0, 'max_depth': 10, 'feat_eng': True}.\n",
      "[I 2019-07-30 16:56:03,672] Finished trial#60 resulted in value: 0.21919999999999995. Current best value is 0.1866028708133971 with parameters: {'n_gram': 3, 'min_df': 20.0, 'n_estimators': 400.0, 'max_depth': 10, 'feat_eng': True}.\n",
      "[I 2019-07-30 16:56:10,229] Finished trial#61 resulted in value: 0.24892086330935248. Current best value is 0.1866028708133971 with parameters: {'n_gram': 3, 'min_df': 20.0, 'n_estimators': 400.0, 'max_depth': 10, 'feat_eng': True}.\n",
      "[I 2019-07-30 16:56:18,105] Finished trial#62 resulted in value: 0.29635499207606975. Current best value is 0.1866028708133971 with parameters: {'n_gram': 3, 'min_df': 20.0, 'n_estimators': 400.0, 'max_depth': 10, 'feat_eng': True}.\n",
      "[I 2019-07-30 16:56:27,044] Finished trial#63 resulted in value: 0.2310126582278481. Current best value is 0.1866028708133971 with parameters: {'n_gram': 3, 'min_df': 20.0, 'n_estimators': 400.0, 'max_depth': 10, 'feat_eng': True}.\n",
      "[I 2019-07-30 16:56:34,696] Finished trial#64 resulted in value: 0.21739130434782605. Current best value is 0.1866028708133971 with parameters: {'n_gram': 3, 'min_df': 20.0, 'n_estimators': 400.0, 'max_depth': 10, 'feat_eng': True}.\n",
      "[I 2019-07-30 16:56:46,041] Finished trial#65 resulted in value: 0.1825525040387722. Current best value is 0.1825525040387722 with parameters: {'n_gram': 4, 'min_df': 15.0, 'n_estimators': 100.0, 'max_depth': 10, 'feat_eng': True}.\n",
      "[I 2019-07-30 16:56:57,371] Finished trial#66 resulted in value: 0.1825525040387722. Current best value is 0.1825525040387722 with parameters: {'n_gram': 4, 'min_df': 15.0, 'n_estimators': 100.0, 'max_depth': 10, 'feat_eng': True}.\n",
      "[I 2019-07-30 16:57:08,716] Finished trial#67 resulted in value: 0.1825525040387722. Current best value is 0.1825525040387722 with parameters: {'n_gram': 4, 'min_df': 15.0, 'n_estimators': 100.0, 'max_depth': 10, 'feat_eng': True}.\n",
      "[I 2019-07-30 16:57:20,073] Finished trial#68 resulted in value: 0.1825525040387722. Current best value is 0.1825525040387722 with parameters: {'n_gram': 4, 'min_df': 15.0, 'n_estimators': 100.0, 'max_depth': 10, 'feat_eng': True}.\n",
      "[I 2019-07-30 16:57:31,424] Finished trial#69 resulted in value: 0.1825525040387722. Current best value is 0.1825525040387722 with parameters: {'n_gram': 4, 'min_df': 15.0, 'n_estimators': 100.0, 'max_depth': 10, 'feat_eng': True}.\n",
      "[I 2019-07-30 16:57:43,140] Finished trial#70 resulted in value: 0.18789808917197448. Current best value is 0.1825525040387722 with parameters: {'n_gram': 4, 'min_df': 15.0, 'n_estimators': 100.0, 'max_depth': 10, 'feat_eng': True}.\n",
      "[I 2019-07-30 16:57:53,830] Finished trial#71 resulted in value: 0.22657580919931852. Current best value is 0.1825525040387722 with parameters: {'n_gram': 4, 'min_df': 15.0, 'n_estimators': 100.0, 'max_depth': 10, 'feat_eng': True}.\n",
      "[I 2019-07-30 16:58:05,171] Finished trial#72 resulted in value: 0.1825525040387722. Current best value is 0.1825525040387722 with parameters: {'n_gram': 4, 'min_df': 15.0, 'n_estimators': 100.0, 'max_depth': 10, 'feat_eng': True}.\n",
      "[I 2019-07-30 16:58:33,967] Finished trial#73 resulted in value: 0.19751166407465004. Current best value is 0.1825525040387722 with parameters: {'n_gram': 4, 'min_df': 15.0, 'n_estimators': 100.0, 'max_depth': 10, 'feat_eng': True}.\n",
      "[I 2019-07-30 16:58:44,639] Finished trial#74 resulted in value: 0.22657580919931852. Current best value is 0.1825525040387722 with parameters: {'n_gram': 4, 'min_df': 15.0, 'n_estimators': 100.0, 'max_depth': 10, 'feat_eng': True}.\n",
      "[I 2019-07-30 16:59:10,226] Finished trial#75 resulted in value: 0.18709677419354842. Current best value is 0.1825525040387722 with parameters: {'n_gram': 4, 'min_df': 15.0, 'n_estimators': 100.0, 'max_depth': 10, 'feat_eng': True}.\n",
      "[I 2019-07-30 16:59:21,950] Finished trial#76 resulted in value: 0.18789808917197448. Current best value is 0.1825525040387722 with parameters: {'n_gram': 4, 'min_df': 15.0, 'n_estimators': 100.0, 'max_depth': 10, 'feat_eng': True}.\n",
      "[I 2019-07-30 16:59:48,392] Finished trial#77 resulted in value: 0.22165820642978007. Current best value is 0.1825525040387722 with parameters: {'n_gram': 4, 'min_df': 15.0, 'n_estimators': 100.0, 'max_depth': 10, 'feat_eng': True}.\n",
      "[I 2019-07-30 16:59:59,743] Finished trial#78 resulted in value: 0.1825525040387722. Current best value is 0.1825525040387722 with parameters: {'n_gram': 4, 'min_df': 15.0, 'n_estimators': 100.0, 'max_depth': 10, 'feat_eng': True}.\n",
      "[I 2019-07-30 17:00:23,362] Finished trial#79 resulted in value: 0.2515723270440252. Current best value is 0.1825525040387722 with parameters: {'n_gram': 4, 'min_df': 15.0, 'n_estimators': 100.0, 'max_depth': 10, 'feat_eng': True}.\n",
      "[I 2019-07-30 17:00:34,060] Finished trial#80 resulted in value: 0.22657580919931852. Current best value is 0.1825525040387722 with parameters: {'n_gram': 4, 'min_df': 15.0, 'n_estimators': 100.0, 'max_depth': 10, 'feat_eng': True}.\n",
      "[I 2019-07-30 17:01:02,424] Finished trial#81 resulted in value: 0.1831442463533225. Current best value is 0.1825525040387722 with parameters: {'n_gram': 4, 'min_df': 15.0, 'n_estimators': 100.0, 'max_depth': 10, 'feat_eng': True}.\n",
      "[I 2019-07-30 17:01:28,415] Finished trial#82 resulted in value: 0.18709677419354842. Current best value is 0.1825525040387722 with parameters: {'n_gram': 4, 'min_df': 15.0, 'n_estimators': 100.0, 'max_depth': 10, 'feat_eng': True}.\n",
      "[I 2019-07-30 17:01:39,038] Finished trial#83 resulted in value: 0.2638036809815951. Current best value is 0.1825525040387722 with parameters: {'n_gram': 4, 'min_df': 15.0, 'n_estimators': 100.0, 'max_depth': 10, 'feat_eng': True}.\n",
      "[I 2019-07-30 17:02:07,225] Finished trial#84 resulted in value: 0.1831442463533225. Current best value is 0.1825525040387722 with parameters: {'n_gram': 4, 'min_df': 15.0, 'n_estimators': 100.0, 'max_depth': 10, 'feat_eng': True}.\n",
      "[I 2019-07-30 17:02:18,041] Finished trial#85 resulted in value: 0.17434210526315785. Current best value is 0.17434210526315785 with parameters: {'n_gram': 3, 'min_df': 15.0, 'n_estimators': 100.0, 'max_depth': 10, 'feat_eng': True}.\n",
      "[I 2019-07-30 17:02:43,486] Finished trial#86 resulted in value: 0.21780604133545312. Current best value is 0.17434210526315785 with parameters: {'n_gram': 3, 'min_df': 15.0, 'n_estimators': 100.0, 'max_depth': 10, 'feat_eng': True}.\n",
      "[I 2019-07-30 17:02:52,708] Finished trial#87 resulted in value: 0.1896272285251216. Current best value is 0.17434210526315785 with parameters: {'n_gram': 3, 'min_df': 15.0, 'n_estimators': 100.0, 'max_depth': 10, 'feat_eng': True}.\n",
      "[I 2019-07-30 17:03:20,915] Finished trial#88 resulted in value: 0.20574162679425834. Current best value is 0.17434210526315785 with parameters: {'n_gram': 3, 'min_df': 15.0, 'n_estimators': 100.0, 'max_depth': 10, 'feat_eng': True}.\n",
      "[I 2019-07-30 17:03:31,219] Finished trial#89 resulted in value: 0.24499229583975346. Current best value is 0.17434210526315785 with parameters: {'n_gram': 3, 'min_df': 15.0, 'n_estimators': 100.0, 'max_depth': 10, 'feat_eng': True}.\n",
      "[I 2019-07-30 17:03:40,969] Finished trial#90 resulted in value: 0.23296354992076074. Current best value is 0.17434210526315785 with parameters: {'n_gram': 3, 'min_df': 15.0, 'n_estimators': 100.0, 'max_depth': 10, 'feat_eng': True}.\n",
      "[I 2019-07-30 17:04:08,801] Finished trial#91 resulted in value: 0.22775263951734537. Current best value is 0.17434210526315785 with parameters: {'n_gram': 3, 'min_df': 15.0, 'n_estimators': 100.0, 'max_depth': 10, 'feat_eng': True}.\n",
      "[I 2019-07-30 17:04:17,534] Finished trial#92 resulted in value: 0.20322580645161292. Current best value is 0.17434210526315785 with parameters: {'n_gram': 3, 'min_df': 15.0, 'n_estimators': 100.0, 'max_depth': 10, 'feat_eng': True}.\n",
      "[I 2019-07-30 17:04:42,973] Finished trial#93 resulted in value: 0.21780604133545312. Current best value is 0.17434210526315785 with parameters: {'n_gram': 3, 'min_df': 15.0, 'n_estimators': 100.0, 'max_depth': 10, 'feat_eng': True}.\n",
      "[I 2019-07-30 17:04:52,255] Finished trial#94 resulted in value: 0.29216867469879515. Current best value is 0.17434210526315785 with parameters: {'n_gram': 3, 'min_df': 15.0, 'n_estimators': 100.0, 'max_depth': 10, 'feat_eng': True}.\n",
      "[I 2019-07-30 17:05:21,050] Finished trial#95 resulted in value: 0.1831442463533225. Current best value is 0.17434210526315785 with parameters: {'n_gram': 3, 'min_df': 15.0, 'n_estimators': 100.0, 'max_depth': 10, 'feat_eng': True}.\n",
      "[I 2019-07-30 17:05:30,717] Finished trial#96 resulted in value: 0.23676012461059193. Current best value is 0.17434210526315785 with parameters: {'n_gram': 3, 'min_df': 15.0, 'n_estimators': 100.0, 'max_depth': 10, 'feat_eng': True}.\n",
      "[I 2019-07-30 17:05:56,164] Finished trial#97 resulted in value: 0.21780604133545312. Current best value is 0.17434210526315785 with parameters: {'n_gram': 3, 'min_df': 15.0, 'n_estimators': 100.0, 'max_depth': 10, 'feat_eng': True}.\n",
      "[I 2019-07-30 17:06:07,901] Finished trial#98 resulted in value: 0.18789808917197448. Current best value is 0.17434210526315785 with parameters: {'n_gram': 3, 'min_df': 15.0, 'n_estimators': 100.0, 'max_depth': 10, 'feat_eng': True}.\n",
      "[I 2019-07-30 17:06:44,786] Finished trial#99 resulted in value: 0.20879120879120883. Current best value is 0.17434210526315785 with parameters: {'n_gram': 3, 'min_df': 15.0, 'n_estimators': 100.0, 'max_depth': 10, 'feat_eng': True}.\n"
     ]
    },
    {
     "name": "stdout",
     "output_type": "stream",
     "text": [
      "best parameters:  {'n_gram': 3, 'min_df': 15.0, 'n_estimators': 100.0, 'max_depth': 10, 'feat_eng': True}\n",
      "best f1 score: 0.8256578947368421\n"
     ]
    }
   ],
   "source": [
    "train_df = pd.read_csv('/home/b2018yniki/data/semeval2010task8/train_original.tsv', sep='\\t')\n",
    "train_df = train_df.assign(causal_flag = [0 if 'Cause-Effect' in relation else 1 for relation in train_df.relation.values]).drop(['relation', 'comment'], axis=1)\n",
    "train_df.body = [text.replace('\"', '') for text in train_df.body.values]\n",
    "test_df = pd.read_csv('/home/b2018yniki/data/semeval2010task8/test_original.tsv', sep='\\t')\n",
    "test_df = test_df.assign(causal_flag = [0 if 'Cause-Effect' in relation else 1 for relation in test_df.relation.values]).drop(['relation', 'comment'], axis=1)\n",
    "test_df.body = [text.replace('\"', '') for text in test_df.body.values]\n",
    "\n",
    "posi_df = train_df[train_df.causal_flag==0]\n",
    "nega_df = train_df[train_df.causal_flag==1]\n",
    "train_df = pd.concat([posi_df, posi_df, posi_df, posi_df, posi_df, posi_df, posi_df, nega_df])\n",
    "del posi_df, nega_df\n",
    "\n",
    "def objective(trial):\n",
    "    n_gram       = trial.suggest_int('n_gram', 1, 5)\n",
    "    min_df       = int(trial.suggest_discrete_uniform('min_df', 5, 20, 5))\n",
    "    n_estimators = int(trial.suggest_discrete_uniform('n_estimators', 100, 1000, 300))\n",
    "    max_depth    = trial.suggest_int('max_depth', 5, 10)\n",
    "    feat_eng     = trial.suggest_categorical('feat_eng', [True, False])\n",
    "    \n",
    "    scores = create_model_pred2(train_df, test_df, n_gram, min_df, n_estimators, max_depth, feat_eng)\n",
    "    \n",
    "    return 1 - scores[3]\n",
    "\n",
    "study = optuna.create_study()\n",
    "study.optimize(objective, n_trials=100)\n",
    "\n",
    "print('best parameters: ', study.best_params)\n",
    "print('best f1 score: {}'.format(1-study.best_value))"
   ]
  },
  {
   "cell_type": "code",
   "execution_count": 16,
   "metadata": {},
   "outputs": [
    {
     "name": "stdout",
     "output_type": "stream",
     "text": [
      "Number of features: 3991\n",
      "X_train shape:  (14018, 3991)\n",
      "X_test shape:  (2717, 3991)\n",
      "# of use columns:  1834\n",
      "Confusion Matrix: \n",
      "[[ 251   77]\n",
      " [  29 2360]]\n",
      "scores:  (0.9609863820390137, 0.8964285714285715, 0.7652439024390244, 0.8256578947368421)\n",
      "AUC:  0.876552466079286\n"
     ]
    }
   ],
   "source": [
    "train_df = pd.read_csv('/home/b2018yniki/data/semeval2010task8/train_original.tsv', sep='\\t')\n",
    "train_df = train_df.assign(causal_flag = [0 if 'Cause-Effect' in relation else 1 for relation in train_df.relation.values]).drop(['relation', 'comment'], axis=1)\n",
    "train_df.body = [text.replace('\"', '') for text in train_df.body.values]\n",
    "test_df = pd.read_csv('/home/b2018yniki/data/semeval2010task8/test_original.tsv', sep='\\t')\n",
    "test_df = test_df.assign(causal_flag = [0 if 'Cause-Effect' in relation else 1 for relation in test_df.relation.values]).drop(['relation', 'comment'], axis=1)\n",
    "test_df.body = [text.replace('\"', '') for text in test_df.body.values]\n",
    "\n",
    "posi_df = train_df[train_df.causal_flag==0]\n",
    "nega_df = train_df[train_df.causal_flag==1]\n",
    "train_df = pd.concat([posi_df, posi_df, posi_df, posi_df, posi_df, posi_df, posi_df, nega_df])\n",
    "del posi_df, nega_df\n",
    "\n",
    "X_train = [tokenizer(text) for text in train_df.body.values]\n",
    "X_test  = [tokenizer(text) for text in test_df.body.values]\n",
    "y_train = train_df.causal_flag.values\n",
    "y_test  = test_df.causal_flag.values\n",
    "\n",
    "vect = CountVectorizer(min_df=15, ngram_range=(1,3))\n",
    "vect.fit(X_train)\n",
    "X_train = vect.transform(X_train)\n",
    "X_test  = vect.transform(X_test)\n",
    "\n",
    "feature_names = vect.get_feature_names()\n",
    "print(\"Number of features: {}\".format(len(feature_names)))\n",
    "X_train = pd.DataFrame(X_train.toarray(), columns=feature_names)\n",
    "X_test  = pd.DataFrame(X_test.toarray(), columns=feature_names)\n",
    "\n",
    "print('X_train shape: ', X_train.shape)\n",
    "print('X_test shape: ', X_test.shape)\n",
    "\n",
    "rf_model = RandomForestClassifier(n_estimators=100, max_depth=10, random_state=2019)\n",
    "rf_model.fit(X_train, y_train)\n",
    "\n",
    "fi_df = pd.DataFrame(rf_model.feature_importances_, index=feature_names)\n",
    "use_cols = fi_df[fi_df[0] > 0.0].index.values\n",
    "\n",
    "print('# of use columns: ', len(use_cols))\n",
    "X_train = X_train[use_cols]\n",
    "X_test  = X_test[use_cols]\n",
    "\n",
    "rf_model = RandomForestClassifier(n_estimators=100, max_depth=10, random_state=2019)\n",
    "rf_model.fit(X_train, y_train)\n",
    "y_pred = rf_model.predict(X_test)\n",
    "\n",
    "confusion = confusion_matrix(y_test, y_pred)\n",
    "scores    = confusion2score(confusion)\n",
    "auc       = roc_auc_score(y_test, y_pred)\n",
    "print('Confusion Matrix: ')\n",
    "print(confusion)\n",
    "print('scores: ', scores)\n",
    "print('AUC: ', auc)"
   ]
  },
  {
   "cell_type": "code",
   "execution_count": 17,
   "metadata": {},
   "outputs": [
    {
     "data": {
      "image/png": "[encoded data removed]",
      "text/plain": [
       "<Figure size 432x288 with 1 Axes>"
      ]
     },
     "metadata": {
      "needs_background": "light"
     },
     "output_type": "display_data"
    }
   ],
   "source": [
    "fi_df = pd.DataFrame(rf_model.feature_importances_, index=use_cols).sort_values(0, ascending=False)\n",
    "\n",
    "plt.figure()\n",
    "sns.barplot(x=fi_df.head(10)[0].values,y=fi_df.head(10).index.values, data=fi_df.head(10))\n",
    "plt.show()"
   ]
  },
  {
   "cell_type": "code",
   "execution_count": null,
   "metadata": {},
   "outputs": [],
   "source": []
  }
 ],
 "metadata": {
  "kernelspec": {
   "display_name": "Python 3",
   "language": "python",
   "name": "python3"
  },
  "language_info": {
   "codemirror_mode": {
    "name": "ipython",
    "version": 3
   },
   "file_extension": ".py",
   "mimetype": "text/x-python",
   "name": "python",
   "nbconvert_exporter": "python",
   "pygments_lexer": "ipython3",
   "version": "3.7.1"
  }
 },
 "nbformat": 4,
 "nbformat_minor": 2
}
