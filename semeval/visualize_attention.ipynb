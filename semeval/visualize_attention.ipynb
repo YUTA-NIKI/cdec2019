{
 "cells": [
  {
   "cell_type": "markdown",
   "metadata": {},
   "source": [
    "# attentionの可視化\n",
    "- ついでにエラー解析\n",
    "- パラメータは学習済のものを使用"
   ]
  },
  {
   "cell_type": "markdown",
   "metadata": {},
   "source": [
    "## Settings"
   ]
  },
  {
   "cell_type": "code",
   "execution_count": 1,
   "metadata": {},
   "outputs": [],
   "source": [
    "import os\n",
    "\n",
    "import numpy as np\n",
    "import pandas as pd\n",
    "import matplotlib.pyplot as plt\n",
    "%matplotlib inline\n",
    "from IPython.display import HTML\n",
    "\n",
    "from tqdm import tqdm\n",
    "\n",
    "from sklearn.model_selection import train_test_split\n",
    "from sklearn.metrics import confusion_matrix, roc_auc_score\n",
    "\n",
    "import spacy\n",
    "from bs4 import BeautifulSoup\n",
    "\n",
    "import torch\n",
    "from torch.autograd import Variable\n",
    "import torch.nn as nn\n",
    "import torch.nn.functional as F\n",
    "import torch.optim as optim\n",
    "from torch.utils.data import Dataset, TensorDataset, DataLoader"
   ]
  },
  {
   "cell_type": "code",
   "execution_count": 2,
   "metadata": {},
   "outputs": [
    {
     "name": "stdout",
     "output_type": "stream",
     "text": [
      "Pytorch version:  1.1.0\n",
      "Currently selected device:  0\n",
      "# GPUs available:  3\n",
      "cuda:2\n"
     ]
    }
   ],
   "source": [
    "print('Pytorch version: ', torch.__version__)\n",
    "print('Currently selected device: ', torch.cuda.current_device())\n",
    "print('# GPUs available: ', torch.cuda.device_count())\n",
    "device = torch.device(\"cuda:2\" if torch.cuda.is_available() else \"cpu\")\n",
    "# device = torch.device('cpu') # デバッグ用\n",
    "print(device)"
   ]
  },
  {
   "cell_type": "markdown",
   "metadata": {},
   "source": [
    "## Def Network"
   ]
  },
  {
   "cell_type": "code",
   "execution_count": 3,
   "metadata": {},
   "outputs": [],
   "source": [
    "class ATT(nn.Module):\n",
    "    def __init__(self, hidden_dim):\n",
    "        super(ATT, self).__init__()\n",
    "        self.hidden_dim = hidden_dim\n",
    "        self.fc = nn.Linear(hidden_dim, 1)\n",
    "    def forward(self, inputs):\n",
    "        b_size = inputs.size(0)\n",
    "        inputs = inputs.contiguous().view(-1, self.hidden_dim)\n",
    "        att = self.fc(torch.tanh(inputs))\n",
    "        return F.softmax(att.view(b_size, -1), dim=1).unsqueeze(2)\n",
    "    \n",
    "class LSTM(nn.Module):\n",
    "    def __init__(self, batch_size, vocab_size, emb_dim, hidden_dim, dropout_rate=0.0, activate='tanh', bidirectional=False, device='cpu'):\n",
    "        super(LSTM, self).__init__()\n",
    "        \n",
    "        self.vocab_size = vocab_size\n",
    "        self.emb_dim    = emb_dim\n",
    "        self.hidden_dim = hidden_dim\n",
    "        self.batch_size = batch_size\n",
    "        self.bidirectional = bidirectional\n",
    "        self.activate   = activate\n",
    "        \n",
    "        self.emb  = nn.Embedding(self.vocab_size, self.emb_dim, padding_idx=0)\n",
    "        self.lstm = nn.LSTM(self.emb_dim, self.hidden_dim, batch_first=True, bidirectional=self.bidirectional)\n",
    "        self.att = ATT(hidden_dim * 2)\n",
    "        \n",
    "        self.fc0 = nn.Linear(hidden_dim * 2, 100)\n",
    "        self.fc1 = nn.Linear(100, 2)\n",
    "        self.do  = nn.Dropout(dropout_rate)\n",
    "        self.device = device\n",
    "        self.hidden = self.init_hidden()\n",
    "\n",
    "    def forward(self, x):\n",
    "\n",
    "        x = self.emb(x)\n",
    "        lstm_out, self.hidden = self.lstm(x, self.hidden)\n",
    "        \n",
    "        att = self.att(lstm_out)\n",
    "        feats = (lstm_out * att).sum(dim=1) # (b, s, h) -> (b, h)\n",
    "        \n",
    "        y = self.fc0(feats)\n",
    "        y = self.do(y)\n",
    "        if self.activate == 'tanh':\n",
    "            y = self.fc1(torch.tanh(y))\n",
    "        elif self.activate == 'relu':\n",
    "            y = self.fc1(F.relu(y))\n",
    "        tag_scores = F.log_softmax(y)\n",
    "        return tag_scores, att\n",
    "\n",
    "    def init_hidden(self):\n",
    "        # The axes semantics are (num_layers, minibatch_size, hidden_dim)\n",
    "        num = 2 if self.bidirectional else 1    # bidirectionalのとき2\n",
    "        h0 = torch.zeros(num, self.batch_size, self.hidden_dim).to(self.device)\n",
    "        c0 = torch.zeros(num, self.batch_size, self.hidden_dim).to(self.device)\n",
    "        return (h0, c0)"
   ]
  },
  {
   "cell_type": "code",
   "execution_count": 4,
   "metadata": {},
   "outputs": [],
   "source": [
    "def confusion2score(confusion):\n",
    "    tp, fn, fp, tn = confusion.ravel()\n",
    "    if tp == None:\n",
    "        tp = 0\n",
    "    if fn == None:\n",
    "        fn = 0\n",
    "    if fp == None:\n",
    "        fp = 0\n",
    "    if tn == None:\n",
    "        tn = 0\n",
    "    acc = (tp + tn) / (tp + fn + fp + tn)\n",
    "    if (tp+fp) == 0:\n",
    "        pre=0\n",
    "    else:\n",
    "        pre = tp / (tp + fp)\n",
    "    if (tp+fn) == 0:\n",
    "        rec=0\n",
    "    else:\n",
    "        rec = tp / (tp + fn)\n",
    "    if (2*tp+fp+fn) == 0:\n",
    "        f1=0\n",
    "    else:\n",
    "        f1  = (2 * tp) / (2*tp + fp + fn)\n",
    "    return (acc, pre, rec, f1)\n",
    "\n",
    "def training(net, train_loader, valid_loader, epoch_num):\n",
    "    \n",
    "    for epoch in range(epoch_num):\n",
    "\n",
    "        train_loss = 0.0\n",
    "        train_acc  = 0.0\n",
    "\n",
    "        # train====================\n",
    "        net.train()\n",
    "        for xx, yy in train_loader:\n",
    "            net.batch_size = len(yy)\n",
    "            net.hidden = net.init_hidden()\n",
    "\n",
    "            optimizer.zero_grad()    # 勾配の初期化\n",
    "\n",
    "            output, att = net(xx)\n",
    "            loss   = criterion(output, yy)\n",
    "\n",
    "            train_loss += loss.item()\n",
    "            train_acc += (output.max(1)[1] == yy).sum().item()\n",
    "\n",
    "            loss.backward(retain_graph=True)     # 逆伝播の計算\n",
    "            optimizer.step()    # 勾配の更新\n",
    "\n",
    "def test(net, test_loader, y_test):\n",
    "    net.eval()\n",
    "    y_pred = y_pred = np.zeros((1,2))\n",
    "    with torch.no_grad():\n",
    "        for xx, yy in test_loader:\n",
    "            net.batch_size = len(yy)\n",
    "            net.hidden = net.init_hidden()\n",
    "\n",
    "            output, att = net(xx)\n",
    "            \n",
    "            y_pred = np.concatenate([y_pred, output.to('cpu').numpy()], axis=0)\n",
    "\n",
    "    confusion = confusion_matrix(y_test, np.argmax(y_pred[1:,], axis=1).tolist())\n",
    "    scores = confusion2score(confusion)\n",
    "    auc = roc_auc_score(y_test, np.argmax(y_pred[1:,], axis=1).tolist())\n",
    "    return confusion, [scores[0], scores[1], scores[2], scores[3], auc]"
   ]
  },
  {
   "cell_type": "markdown",
   "metadata": {},
   "source": [
    "## Prepare Data"
   ]
  },
  {
   "cell_type": "code",
   "execution_count": 5,
   "metadata": {},
   "outputs": [],
   "source": [
    "spacy_en = spacy.load('en')\n",
    "def tokenizer(text):\n",
    "    soup = BeautifulSoup(text)\n",
    "    clean_txt = soup.get_text()\n",
    "    words = []\n",
    "    for tok in spacy_en.tokenizer(clean_txt):\n",
    "        if tok.text not in \"[],.();:<>{}|*-~\":\n",
    "            words.append(tok.lemma_)\n",
    "    return words\n",
    "\n",
    "def df2indexseq(df, vocab_idx):\n",
    "    data = []\n",
    "    for text in df.values:\n",
    "        words = tokenizer(text)\n",
    "        data.append([vocab_idx[word]+1 for word in words if word in vocab_idx.keys()])\n",
    "    return data\n",
    "\n",
    "def padding(data):\n",
    "    # npに変換し、0埋めを行う\n",
    "    max_length = max([len(d) for d in data])\n",
    "    padded_data = np.zeros((len(data), max_length))  # 0で埋める\n",
    "    for i, d1 in enumerate(data):\n",
    "        for j, d2 in enumerate(d1):\n",
    "            padded_data[i][j] = d2\n",
    "    return padded_data\n",
    "\n",
    "class MyDataset(torch.utils.data.Dataset):\n",
    "    def __init__(self, data, tags):\n",
    "        super(MyDataset, self).__init__()\n",
    "        assert len(data) == len(tags)\n",
    "        self.data = data\n",
    "        self.tags = tags\n",
    "        \n",
    "    def __len__(self):\n",
    "        return len(self.tags)\n",
    "    \n",
    "    def __getitem__(self, index):\n",
    "        return self.data[index], self.tags[index]"
   ]
  },
  {
   "cell_type": "code",
   "execution_count": 6,
   "metadata": {},
   "outputs": [
    {
     "name": "stdout",
     "output_type": "stream",
     "text": [
      "vocabulaly size: 16619\n"
     ]
    }
   ],
   "source": [
    "train_df = pd.read_csv('/home/b2018yniki/data/semeval2010task8/train_original.tsv', sep='\\t')\n",
    "train_df = train_df.assign(causal_flag = [0 if 'Cause-Effect' in relation else 1 for relation in train_df.relation.values]).drop(['relation', 'comment'], axis=1)\n",
    "train_df.body = [text.replace('\"', '') for text in train_df.body.values]\n",
    "test_df = pd.read_csv('/home/b2018yniki/data/semeval2010task8/test_original.tsv', sep='\\t')\n",
    "test_df = test_df.assign(causal_flag = [0 if 'Cause-Effect' in relation else 1 for relation in test_df.relation.values]).drop(['relation', 'comment'], axis=1)\n",
    "test_df.body = [text.replace('\"', '') for text in test_df.body.values]\n",
    "    \n",
    "vocab = []\n",
    "for text in train_df.body.values:\n",
    "    vocab.extend(tokenizer(text))\n",
    "vocab = list(set(vocab))\n",
    "print('vocabulaly size: {}'.format(len(vocab)))\n",
    "vocab_idx = dict(zip(vocab, range(len(vocab))))\n",
    "del vocab\n",
    "   \n",
    "X_train = torch.LongTensor(padding(df2indexseq(train_df.body, vocab_idx))).to(device)\n",
    "y_train = torch.LongTensor(train_df.causal_flag.values).to(device)\n",
    "X_test  = torch.LongTensor(padding(df2indexseq(test_df.body, vocab_idx))).to(device)\n",
    "y_test  = torch.LongTensor(test_df.causal_flag.values).to(device)\n",
    "\n",
    "train_ds = MyDataset(X_train, y_train)\n",
    "test_ds  = MyDataset(X_test, y_test)\n",
    "del X_train, X_test, y_train"
   ]
  },
  {
   "cell_type": "markdown",
   "metadata": {},
   "source": [
    "### 精度確認"
   ]
  },
  {
   "cell_type": "code",
   "execution_count": 7,
   "metadata": {},
   "outputs": [
    {
     "name": "stderr",
     "output_type": "stream",
     "text": [
      "/home/b2018yniki/.pyenv/versions/3.7.1/lib/python3.7/site-packages/ipykernel_launcher.py:47: UserWarning: Implicit dimension choice for log_softmax has been deprecated. Change the call to include dim=X as an argument.\n"
     ]
    },
    {
     "name": "stdout",
     "output_type": "stream",
     "text": [
      "[[ 270   58]\n",
      " [  47 2342]]\n",
      "Accuracy: 0.9613544350386456, Precision: 0.8517350157728707, Recall: 0.823170731707317, F1: 0.8372093023255814, AUC: 0.9017486140746717\n"
     ]
    }
   ],
   "source": [
    "np.random.seed(2019)\n",
    "np.random.RandomState(2019)\n",
    "torch.manual_seed(2019)\n",
    "\n",
    "# hyperparameter\n",
    "epoch      = 300\n",
    "batch_size = 64\n",
    "vocab_size = len(vocab_idx)+1\n",
    "emb_dim    = 200\n",
    "hidden_dim = 100\n",
    "activate   = 'relu'\n",
    "drop_rate  = 0.0\n",
    "lr = 0.1\n",
    "l2 = 0.001\n",
    "\n",
    "train_loader = DataLoader(train_ds, batch_size=batch_size, shuffle=True)\n",
    "test_loader  = DataLoader(test_ds, batch_size=batch_size, shuffle=False)\n",
    "\n",
    "np.random.seed(2019)\n",
    "np.random.RandomState(2019)\n",
    "torch.manual_seed(2019)\n",
    "\n",
    "net = LSTM(batch_size, vocab_size, emb_dim, hidden_dim, drop_rate, activate, bidirectional=True, device=device).to(device)\n",
    "\n",
    "criterion = nn.NLLLoss()\n",
    "optimizer = optim.SGD(net.parameters(), lr=lr, weight_decay=l2)\n",
    "\n",
    "training(net, train_loader, test_loader, epoch)\n",
    "conf, result = test(net, test_loader, y_test.to('cpu').numpy().tolist())\n",
    "print(conf)\n",
    "print('Accuracy: {}, Precision: {}, Recall: {}, F1: {}, AUC: {}'.format(result[0], result[1], result[2], result[3], result[4]))"
   ]
  },
  {
   "cell_type": "markdown",
   "metadata": {},
   "source": [
    "## func. to visualize"
   ]
  },
  {
   "cell_type": "code",
   "execution_count": 8,
   "metadata": {},
   "outputs": [],
   "source": [
    "def highlight(word, attn):\n",
    "    html_color = '#%02X%02X%02X' % (255, int(255*(1 - attn)), int(255*(1 - attn)))\n",
    "    return '<span style=\"background-color: {}\">{}</span>'.format(html_color, word)\n",
    "\n",
    "def mk_html(sequence, attns):\n",
    "    html = \"\"\n",
    "    sentence = \"\"\n",
    "    for w_id, attn in zip(sequence, attns):\n",
    "        if w_id == 0:\n",
    "            break\n",
    "        word = get_keys_from_value(vocab_idx, w_id-1)\n",
    "        sentence += ' ' + word\n",
    "        html += ' ' + highlight(\n",
    "            word,\n",
    "            attn\n",
    "        )\n",
    "    return sentence, (html + \"<br><br>\\n\")"
   ]
  },
  {
   "cell_type": "code",
   "execution_count": 9,
   "metadata": {},
   "outputs": [],
   "source": [
    "def get_keys_from_value(d, val):\n",
    "    return [k for k, v in d.items() if v == val][0]"
   ]
  },
  {
   "cell_type": "code",
   "execution_count": 10,
   "metadata": {},
   "outputs": [
    {
     "name": "stderr",
     "output_type": "stream",
     "text": [
      "/home/b2018yniki/.pyenv/versions/3.7.1/lib/python3.7/site-packages/ipykernel_launcher.py:47: UserWarning: Implicit dimension choice for log_softmax has been deprecated. Change the call to include dim=X as an argument.\n"
     ]
    }
   ],
   "source": [
    "output_df = pd.DataFrame()\n",
    "\n",
    "net.eval()\n",
    "with torch.no_grad():\n",
    "    for xx, yy in test_loader:\n",
    "        net.batch_size = len(yy)\n",
    "        net.hidden = net.init_hidden()\n",
    "        output, att = net(xx)\n",
    "\n",
    "        for i in range(len(yy)):\n",
    "            sentence, html = mk_html(xx[i].to('cpu').numpy().tolist(), att[i,:,0].to('cpu').numpy().tolist())\n",
    "            output_df = pd.concat([\n",
    "                output_df, \n",
    "                pd.DataFrame([yy[i].to('cpu').numpy(), np.argmax(output[i].to('cpu').numpy()), sentence, html])\n",
    "            ], axis=1)"
   ]
  },
  {
   "cell_type": "code",
   "execution_count": 12,
   "metadata": {},
   "outputs": [
    {
     "data": {
      "text/html": [
       "<div>\n",
       "<style scoped>\n",
       "    .dataframe tbody tr th:only-of-type {\n",
       "        vertical-align: middle;\n",
       "    }\n",
       "\n",
       "    .dataframe tbody tr th {\n",
       "        vertical-align: top;\n",
       "    }\n",
       "\n",
       "    .dataframe thead th {\n",
       "        text-align: right;\n",
       "    }\n",
       "</style>\n",
       "<table border=\"1\" class=\"dataframe\">\n",
       "  <thead>\n",
       "    <tr style=\"text-align: right;\">\n",
       "      <th></th>\n",
       "      <th>y_true</th>\n",
       "      <th>y_pred</th>\n",
       "      <th>sentence</th>\n",
       "      <th>html</th>\n",
       "    </tr>\n",
       "  </thead>\n",
       "  <tbody>\n",
       "    <tr>\n",
       "      <th>0</th>\n",
       "      <td>1</td>\n",
       "      <td>1</td>\n",
       "      <td>The much common audit be about waste and recycle</td>\n",
       "      <td>&lt;span style=\"background-color: #FFBCBC\"&gt;The&lt;/...</td>\n",
       "    </tr>\n",
       "    <tr>\n",
       "      <th>1</th>\n",
       "      <td>1</td>\n",
       "      <td>1</td>\n",
       "      <td>The company fabricate plastic chair</td>\n",
       "      <td>&lt;span style=\"background-color: #FFECEC\"&gt;The&lt;/...</td>\n",
       "    </tr>\n",
       "    <tr>\n",
       "      <th>2</th>\n",
       "      <td>1</td>\n",
       "      <td>1</td>\n",
       "      <td>The school master teach the lesson with a stick</td>\n",
       "      <td>&lt;span style=\"background-color: #FFDFDF\"&gt;The&lt;/...</td>\n",
       "    </tr>\n",
       "    <tr>\n",
       "      <th>3</th>\n",
       "      <td>1</td>\n",
       "      <td>1</td>\n",
       "      <td>The suspect dump the dead body into a local r...</td>\n",
       "      <td>&lt;span style=\"background-color: #FFE2E2\"&gt;The&lt;/...</td>\n",
       "    </tr>\n",
       "    <tr>\n",
       "      <th>4</th>\n",
       "      <td>0</td>\n",
       "      <td>0</td>\n",
       "      <td>influenza be a infectious disease of bird cau...</td>\n",
       "      <td>&lt;span style=\"background-color: #FFDBDB\"&gt;influ...</td>\n",
       "    </tr>\n",
       "  </tbody>\n",
       "</table>\n",
       "</div>"
      ],
      "text/plain": [
       "  y_true y_pred                                           sentence  \\\n",
       "0      1      1   The much common audit be about waste and recycle   \n",
       "1      1      1                The company fabricate plastic chair   \n",
       "2      1      1    The school master teach the lesson with a stick   \n",
       "3      1      1   The suspect dump the dead body into a local r...   \n",
       "4      0      0   influenza be a infectious disease of bird cau...   \n",
       "\n",
       "                                                html  \n",
       "0   <span style=\"background-color: #FFBCBC\">The</...  \n",
       "1   <span style=\"background-color: #FFECEC\">The</...  \n",
       "2   <span style=\"background-color: #FFDFDF\">The</...  \n",
       "3   <span style=\"background-color: #FFE2E2\">The</...  \n",
       "4   <span style=\"background-color: #FFDBDB\">influ...  "
      ]
     },
     "execution_count": 12,
     "metadata": {},
     "output_type": "execute_result"
    }
   ],
   "source": [
    "output_df.index = ['y_true', 'y_pred', 'sentence', 'html']\n",
    "output_df = output_df.T.reset_index(drop=True)\n",
    "output_df.head()"
   ]
  },
  {
   "cell_type": "code",
   "execution_count": 13,
   "metadata": {},
   "outputs": [
    {
     "data": {
      "text/plain": [
       "array([[ 270,   58],\n",
       "       [  47, 2342]])"
      ]
     },
     "execution_count": 13,
     "metadata": {},
     "output_type": "execute_result"
    }
   ],
   "source": [
    "# 念のため確認\n",
    "confusion_matrix(output_df.y_true.values.tolist(), output_df.y_pred.values.tolist())"
   ]
  },
  {
   "cell_type": "code",
   "execution_count": 14,
   "metadata": {},
   "outputs": [
    {
     "data": {
      "text/html": [
       " <span style=\"background-color: #FFBCBC\">The</span> <span style=\"background-color: #FFE6E6\">much</span> <span style=\"background-color: #FFEEEE\">common</span> <span style=\"background-color: #FFFAFA\">audit</span> <span style=\"background-color: #FFFCFC\">be</span> <span style=\"background-color: #FFFBFB\">about</span> <span style=\"background-color: #FFFCFC\">waste</span> <span style=\"background-color: #FFFCFC\">and</span> <span style=\"background-color: #FFFCFC\">recycle</span><br><br>\n"
      ],
      "text/plain": [
       "<IPython.core.display.HTML object>"
      ]
     },
     "execution_count": 14,
     "metadata": {},
     "output_type": "execute_result"
    }
   ],
   "source": [
    "HTML(output_df.head(1)[\"html\"].values[0])"
   ]
  },
  {
   "cell_type": "markdown",
   "metadata": {},
   "source": [
    "### 因果ありを正解"
   ]
  },
  {
   "cell_type": "code",
   "execution_count": 44,
   "metadata": {},
   "outputs": [
    {
     "name": "stdout",
     "output_type": "stream",
     "text": [
      "(270, 4)\n"
     ]
    },
    {
     "data": {
      "text/html": [
       "<div>\n",
       "<style scoped>\n",
       "    .dataframe tbody tr th:only-of-type {\n",
       "        vertical-align: middle;\n",
       "    }\n",
       "\n",
       "    .dataframe tbody tr th {\n",
       "        vertical-align: top;\n",
       "    }\n",
       "\n",
       "    .dataframe thead th {\n",
       "        text-align: right;\n",
       "    }\n",
       "</style>\n",
       "<table border=\"1\" class=\"dataframe\">\n",
       "  <thead>\n",
       "    <tr style=\"text-align: right;\">\n",
       "      <th></th>\n",
       "      <th>y_true</th>\n",
       "      <th>y_pred</th>\n",
       "      <th>sentence</th>\n",
       "      <th>html</th>\n",
       "    </tr>\n",
       "  </thead>\n",
       "  <tbody>\n",
       "    <tr>\n",
       "      <th>0</th>\n",
       "      <td>0</td>\n",
       "      <td>0</td>\n",
       "      <td>influenza be a infectious disease of bird cau...</td>\n",
       "      <td>&lt;span style=\"background-color: #FFDBDB\"&gt;influ...</td>\n",
       "    </tr>\n",
       "    <tr>\n",
       "      <th>1</th>\n",
       "      <td>0</td>\n",
       "      <td>0</td>\n",
       "      <td>Of the hundred of strain of avian influenza A...</td>\n",
       "      <td>&lt;span style=\"background-color: #FFFBFB\"&gt;Of&lt;/s...</td>\n",
       "    </tr>\n",
       "    <tr>\n",
       "      <th>2</th>\n",
       "      <td>0</td>\n",
       "      <td>0</td>\n",
       "      <td>In South Africa which have one of the well po...</td>\n",
       "      <td>&lt;span style=\"background-color: #FFFAFA\"&gt;In&lt;/s...</td>\n",
       "    </tr>\n",
       "    <tr>\n",
       "      <th>3</th>\n",
       "      <td>0</td>\n",
       "      <td>0</td>\n",
       "      <td>Traffic vibration on the street outside have ...</td>\n",
       "      <td>&lt;span style=\"background-color: #FFDFDF\"&gt;Traff...</td>\n",
       "    </tr>\n",
       "    <tr>\n",
       "      <th>4</th>\n",
       "      <td>0</td>\n",
       "      <td>0</td>\n",
       "      <td>The slide which be trigger by a avalanche con...</td>\n",
       "      <td>&lt;span style=\"background-color: #FF9797\"&gt;The&lt;/...</td>\n",
       "    </tr>\n",
       "  </tbody>\n",
       "</table>\n",
       "</div>"
      ],
      "text/plain": [
       "  y_true y_pred                                           sentence  \\\n",
       "0      0      0   influenza be a infectious disease of bird cau...   \n",
       "1      0      0   Of the hundred of strain of avian influenza A...   \n",
       "2      0      0   In South Africa which have one of the well po...   \n",
       "3      0      0   Traffic vibration on the street outside have ...   \n",
       "4      0      0   The slide which be trigger by a avalanche con...   \n",
       "\n",
       "                                                html  \n",
       "0   <span style=\"background-color: #FFDBDB\">influ...  \n",
       "1   <span style=\"background-color: #FFFBFB\">Of</s...  \n",
       "2   <span style=\"background-color: #FFFAFA\">In</s...  \n",
       "3   <span style=\"background-color: #FFDFDF\">Traff...  \n",
       "4   <span style=\"background-color: #FF9797\">The</...  "
      ]
     },
     "execution_count": 44,
     "metadata": {},
     "output_type": "execute_result"
    }
   ],
   "source": [
    "tp_df = output_df[output_df.y_true == '0']\n",
    "tp_df = tp_df[tp_df.y_pred == '0']\n",
    "tp_df.reset_index(drop=True, inplace=True)\n",
    "print(tp_df.shape)\n",
    "tp_df.head()"
   ]
  },
  {
   "cell_type": "code",
   "execution_count": 45,
   "metadata": {},
   "outputs": [
    {
     "name": "stdout",
     "output_type": "stream",
     "text": [
      " influenza be a infectious disease of bird cause by type A strain of the influenza virus\n"
     ]
    },
    {
     "data": {
      "text/html": [
       " <span style=\"background-color: #FFDBDB\">influenza</span> <span style=\"background-color: #FFEBEB\">be</span> <span style=\"background-color: #FFE2E2\">a</span> <span style=\"background-color: #FFE4E4\">infectious</span> <span style=\"background-color: #FFDDDD\">disease</span> <span style=\"background-color: #FFDFDF\">of</span> <span style=\"background-color: #FFE9E9\">bird</span> <span style=\"background-color: #FFDEDE\">cause</span> <span style=\"background-color: #FFFDFD\">by</span> <span style=\"background-color: #FFFEFE\">type</span> <span style=\"background-color: #FFFEFE\">A</span> <span style=\"background-color: #FFFDFD\">strain</span> <span style=\"background-color: #FFFEFE\">of</span> <span style=\"background-color: #FFFEFE\">the</span> <span style=\"background-color: #FFFEFE\">influenza</span> <span style=\"background-color: #FFFEFE\">virus</span><br><br>\n"
      ],
      "text/plain": [
       "<IPython.core.display.HTML object>"
      ]
     },
     "execution_count": 45,
     "metadata": {},
     "output_type": "execute_result"
    }
   ],
   "source": [
    "print(tp_df[tp_df.index == 0].sentence.values[0])\n",
    "HTML(tp_df[tp_df.index == 0].html.values[0])"
   ]
  },
  {
   "cell_type": "code",
   "execution_count": 46,
   "metadata": {},
   "outputs": [
    {
     "name": "stdout",
     "output_type": "stream",
     "text": [
      " Of the hundred of strain of avian influenza A virus only four have cause human infection H5N1 and\n"
     ]
    },
    {
     "data": {
      "text/html": [
       " <span style=\"background-color: #FFFBFB\">Of</span> <span style=\"background-color: #FFFCFC\">the</span> <span style=\"background-color: #FFFCFC\">hundred</span> <span style=\"background-color: #FFFCFC\">of</span> <span style=\"background-color: #FFFCFC\">strain</span> <span style=\"background-color: #FFFBFB\">of</span> <span style=\"background-color: #FFF9F9\">avian</span> <span style=\"background-color: #FFF6F6\">influenza</span> <span style=\"background-color: #FFF4F4\">A</span> <span style=\"background-color: #FFE2E2\">virus</span> <span style=\"background-color: #FFE0E0\">only</span> <span style=\"background-color: #FFD7D7\">four</span> <span style=\"background-color: #FFD7D7\">have</span> <span style=\"background-color: #FFCECE\">cause</span> <span style=\"background-color: #FFFCFC\">human</span> <span style=\"background-color: #FFFCFC\">infection</span> <span style=\"background-color: #FFFEFE\">H5N1</span> <span style=\"background-color: #FFFEFE\">and</span><br><br>\n"
      ],
      "text/plain": [
       "<IPython.core.display.HTML object>"
      ]
     },
     "execution_count": 46,
     "metadata": {},
     "output_type": "execute_result"
    }
   ],
   "source": [
    "print(tp_df[tp_df.index == 1].sentence.values[0])\n",
    "HTML(tp_df[tp_df.index == 1].html.values[0])"
   ]
  },
  {
   "cell_type": "code",
   "execution_count": 47,
   "metadata": {},
   "outputs": [
    {
     "name": "stdout",
     "output_type": "stream",
     "text": [
      " In South Africa which have one of the well police to public ratio on the continent the share of murder that result in a be about 18 % compare to % in the US and % in the UK\n"
     ]
    },
    {
     "data": {
      "text/html": [
       " <span style=\"background-color: #FFFAFA\">In</span> <span style=\"background-color: #FFFDFD\">South</span> <span style=\"background-color: #FFFEFE\">Africa</span> <span style=\"background-color: #FFFEFE\">which</span> <span style=\"background-color: #FFFEFE\">have</span> <span style=\"background-color: #FFFEFE\">one</span> <span style=\"background-color: #FFFEFE\">of</span> <span style=\"background-color: #FFFEFE\">the</span> <span style=\"background-color: #FFFEFE\">well</span> <span style=\"background-color: #FFFEFE\">police</span> <span style=\"background-color: #FFFEFE\">to</span> <span style=\"background-color: #FFFEFE\">public</span> <span style=\"background-color: #FFFDFD\">ratio</span> <span style=\"background-color: #FFFCFC\">on</span> <span style=\"background-color: #FFF8F8\">the</span> <span style=\"background-color: #FFF3F3\">continent</span> <span style=\"background-color: #FFEBEB\">the</span> <span style=\"background-color: #FFE4E4\">share</span> <span style=\"background-color: #FFDDDD\">of</span> <span style=\"background-color: #FFD7D7\">murder</span> <span style=\"background-color: #FFE7E7\">that</span> <span style=\"background-color: #FFE9E9\">result</span> <span style=\"background-color: #FFFAFA\">in</span> <span style=\"background-color: #FFFAFA\">a</span> <span style=\"background-color: #FFFAFA\">be</span> <span style=\"background-color: #FFF8F8\">about</span> <span style=\"background-color: #FFF9F9\">18</span> <span style=\"background-color: #FFFAFA\">%</span> <span style=\"background-color: #FFFAFA\">compare</span> <span style=\"background-color: #FFFDFD\">to</span> <span style=\"background-color: #FFFDFD\">%</span> <span style=\"background-color: #FFFDFD\">in</span> <span style=\"background-color: #FFFDFD\">the</span> <span style=\"background-color: #FFFEFE\">US</span> <span style=\"background-color: #FFFDFD\">and</span> <span style=\"background-color: #FFFEFE\">%</span> <span style=\"background-color: #FFFEFE\">in</span> <span style=\"background-color: #FFFEFE\">the</span> <span style=\"background-color: #FFFEFE\">UK</span><br><br>\n"
      ],
      "text/plain": [
       "<IPython.core.display.HTML object>"
      ]
     },
     "execution_count": 47,
     "metadata": {},
     "output_type": "execute_result"
    }
   ],
   "source": [
    "print(tp_df[tp_df.index == 2].sentence.values[0])\n",
    "HTML(tp_df[tp_df.index == 2].html.values[0])"
   ]
  },
  {
   "cell_type": "markdown",
   "metadata": {},
   "source": [
    "### 因果なしを因果ありと予測した例を可視化"
   ]
  },
  {
   "cell_type": "code",
   "execution_count": 19,
   "metadata": {},
   "outputs": [
    {
     "name": "stdout",
     "output_type": "stream",
     "text": [
      "<class 'pandas.core.frame.DataFrame'>\n",
      "RangeIndex: 2717 entries, 0 to 2716\n",
      "Data columns (total 4 columns):\n",
      "y_true      2717 non-null object\n",
      "y_pred      2717 non-null object\n",
      "sentence    2717 non-null object\n",
      "html        2717 non-null object\n",
      "dtypes: object(4)\n",
      "memory usage: 85.0+ KB\n"
     ]
    }
   ],
   "source": [
    "output_df.info()"
   ]
  },
  {
   "cell_type": "code",
   "execution_count": 22,
   "metadata": {},
   "outputs": [
    {
     "data": {
      "text/html": [
       "<div>\n",
       "<style scoped>\n",
       "    .dataframe tbody tr th:only-of-type {\n",
       "        vertical-align: middle;\n",
       "    }\n",
       "\n",
       "    .dataframe tbody tr th {\n",
       "        vertical-align: top;\n",
       "    }\n",
       "\n",
       "    .dataframe thead th {\n",
       "        text-align: right;\n",
       "    }\n",
       "</style>\n",
       "<table border=\"1\" class=\"dataframe\">\n",
       "  <thead>\n",
       "    <tr style=\"text-align: right;\">\n",
       "      <th></th>\n",
       "      <th>y_true</th>\n",
       "      <th>y_pred</th>\n",
       "      <th>sentence</th>\n",
       "      <th>html</th>\n",
       "    </tr>\n",
       "  </thead>\n",
       "  <tbody>\n",
       "    <tr>\n",
       "      <th>0</th>\n",
       "      <td>1</td>\n",
       "      <td>0</td>\n",
       "      <td>oil have a anti bacterial and anti effect</td>\n",
       "      <td>&lt;span style=\"background-color: #FFADAD\"&gt;oil&lt;/...</td>\n",
       "    </tr>\n",
       "    <tr>\n",
       "      <th>1</th>\n",
       "      <td>1</td>\n",
       "      <td>0</td>\n",
       "      <td>the blister that appear in the mouth be cause...</td>\n",
       "      <td>&lt;span style=\"background-color: #FFF2F2\"&gt;the&lt;/...</td>\n",
       "    </tr>\n",
       "    <tr>\n",
       "      <th>2</th>\n",
       "      <td>1</td>\n",
       "      <td>0</td>\n",
       "      <td>or be cause by a intestinal parasite call</td>\n",
       "      <td>&lt;span style=\"background-color: #FF5353\"&gt;or&lt;/s...</td>\n",
       "    </tr>\n",
       "    <tr>\n",
       "      <th>3</th>\n",
       "      <td>1</td>\n",
       "      <td>0</td>\n",
       "      <td>The monitor station receive the signal throug...</td>\n",
       "      <td>&lt;span style=\"background-color: #FFEFEF\"&gt;The&lt;/...</td>\n",
       "    </tr>\n",
       "    <tr>\n",
       "      <th>4</th>\n",
       "      <td>1</td>\n",
       "      <td>0</td>\n",
       "      <td>-PRON- have the lead and have a sound that ca...</td>\n",
       "      <td>&lt;span style=\"background-color: #FF9696\"&gt;-PRON...</td>\n",
       "    </tr>\n",
       "  </tbody>\n",
       "</table>\n",
       "</div>"
      ],
      "text/plain": [
       "  y_true y_pred                                           sentence  \\\n",
       "0      1      0          oil have a anti bacterial and anti effect   \n",
       "1      1      0   the blister that appear in the mouth be cause...   \n",
       "2      1      0          or be cause by a intestinal parasite call   \n",
       "3      1      0   The monitor station receive the signal throug...   \n",
       "4      1      0   -PRON- have the lead and have a sound that ca...   \n",
       "\n",
       "                                                html  \n",
       "0   <span style=\"background-color: #FFADAD\">oil</...  \n",
       "1   <span style=\"background-color: #FFF2F2\">the</...  \n",
       "2   <span style=\"background-color: #FF5353\">or</s...  \n",
       "3   <span style=\"background-color: #FFEFEF\">The</...  \n",
       "4   <span style=\"background-color: #FF9696\">-PRON...  "
      ]
     },
     "execution_count": 22,
     "metadata": {},
     "output_type": "execute_result"
    }
   ],
   "source": [
    "fp_df = output_df[output_df.y_true == '1']\n",
    "fp_df = fp_df[fp_df.y_pred == '0']\n",
    "fp_df.reset_index(drop=True, inplace=True)\n",
    "fp_df.head()"
   ]
  },
  {
   "cell_type": "code",
   "execution_count": 23,
   "metadata": {},
   "outputs": [
    {
     "name": "stdout",
     "output_type": "stream",
     "text": [
      " oil have a anti bacterial and anti effect\n"
     ]
    },
    {
     "data": {
      "text/html": [
       " <span style=\"background-color: #FFADAD\">oil</span> <span style=\"background-color: #FFC6C6\">have</span> <span style=\"background-color: #FFD9D9\">a</span> <span style=\"background-color: #FFE2E2\">anti</span> <span style=\"background-color: #FFF6F6\">bacterial</span> <span style=\"background-color: #FFF8F8\">and</span> <span style=\"background-color: #FFFAFA\">anti</span> <span style=\"background-color: #FFFDFD\">effect</span><br><br>\n"
      ],
      "text/plain": [
       "<IPython.core.display.HTML object>"
      ]
     },
     "execution_count": 23,
     "metadata": {},
     "output_type": "execute_result"
    }
   ],
   "source": [
    "print(fp_df[fp_df.index == 0].sentence.values[0])\n",
    "HTML(fp_df[fp_df.index == 0].html.values[0])"
   ]
  },
  {
   "cell_type": "code",
   "execution_count": 24,
   "metadata": {},
   "outputs": [
    {
     "name": "stdout",
     "output_type": "stream",
     "text": [
      " the blister that appear in the mouth be cause by the herpes simplex virus type 1 for short\n"
     ]
    },
    {
     "data": {
      "text/html": [
       " <span style=\"background-color: #FFF2F2\">the</span> <span style=\"background-color: #FFF7F7\">blister</span> <span style=\"background-color: #FFDFDF\">that</span> <span style=\"background-color: #FFE4E4\">appear</span> <span style=\"background-color: #FFE1E1\">in</span> <span style=\"background-color: #FFE3E3\">the</span> <span style=\"background-color: #FFE7E7\">mouth</span> <span style=\"background-color: #FFE5E5\">be</span> <span style=\"background-color: #FFD5D5\">cause</span> <span style=\"background-color: #FFFDFD\">by</span> <span style=\"background-color: #FFFDFD\">the</span> <span style=\"background-color: #FFFEFE\">herpes</span> <span style=\"background-color: #FFFEFE\">simplex</span> <span style=\"background-color: #FFFEFE\">virus</span> <span style=\"background-color: #FFFEFE\">type</span> <span style=\"background-color: #FFFEFE\">1</span> <span style=\"background-color: #FFFEFE\">for</span> <span style=\"background-color: #FFFEFE\">short</span><br><br>\n"
      ],
      "text/plain": [
       "<IPython.core.display.HTML object>"
      ]
     },
     "execution_count": 24,
     "metadata": {},
     "output_type": "execute_result"
    }
   ],
   "source": [
    "print(fp_df[fp_df.index == 1].sentence.values[0])\n",
    "HTML(fp_df[fp_df.index == 1].html.values[0])"
   ]
  },
  {
   "cell_type": "code",
   "execution_count": 25,
   "metadata": {},
   "outputs": [
    {
     "name": "stdout",
     "output_type": "stream",
     "text": [
      " or be cause by a intestinal parasite call\n"
     ]
    },
    {
     "data": {
      "text/html": [
       " <span style=\"background-color: #FF5353\">or</span> <span style=\"background-color: #FFDBDB\">be</span> <span style=\"background-color: #FFDCDC\">cause</span> <span style=\"background-color: #FFFDFD\">by</span> <span style=\"background-color: #FFFEFE\">a</span> <span style=\"background-color: #FFFEFE\">intestinal</span> <span style=\"background-color: #FFFEFE\">parasite</span> <span style=\"background-color: #FFFEFE\">call</span><br><br>\n"
      ],
      "text/plain": [
       "<IPython.core.display.HTML object>"
      ]
     },
     "execution_count": 25,
     "metadata": {},
     "output_type": "execute_result"
    }
   ],
   "source": [
    "print(fp_df[fp_df.index == 2].sentence.values[0])\n",
    "HTML(fp_df[fp_df.index == 2].html.values[0])"
   ]
  },
  {
   "cell_type": "code",
   "execution_count": 26,
   "metadata": {},
   "outputs": [
    {
     "name": "stdout",
     "output_type": "stream",
     "text": [
      " The monitor station receive the signal through a communication device and the combine signal be process to retrieve GPS datum\n"
     ]
    },
    {
     "data": {
      "text/html": [
       " <span style=\"background-color: #FFEFEF\">The</span> <span style=\"background-color: #FFF2F2\">monitor</span> <span style=\"background-color: #FFEFEF\">station</span> <span style=\"background-color: #FFE6E6\">receive</span> <span style=\"background-color: #FFD0D0\">the</span> <span style=\"background-color: #FFC8C8\">signal</span> <span style=\"background-color: #FFF0F0\">through</span> <span style=\"background-color: #FFF6F6\">a</span> <span style=\"background-color: #FFF5F5\">communication</span> <span style=\"background-color: #FFF5F5\">device</span> <span style=\"background-color: #FFF6F6\">and</span> <span style=\"background-color: #FFF9F9\">the</span> <span style=\"background-color: #FFFBFB\">combine</span> <span style=\"background-color: #FFFCFC\">signal</span> <span style=\"background-color: #FFFEFE\">be</span> <span style=\"background-color: #FFFEFE\">process</span> <span style=\"background-color: #FFFEFE\">to</span> <span style=\"background-color: #FFFEFE\">retrieve</span> <span style=\"background-color: #FFFEFE\">GPS</span> <span style=\"background-color: #FFFEFE\">datum</span><br><br>\n"
      ],
      "text/plain": [
       "<IPython.core.display.HTML object>"
      ]
     },
     "execution_count": 26,
     "metadata": {},
     "output_type": "execute_result"
    }
   ],
   "source": [
    "print(fp_df[fp_df.index == 3].sentence.values[0])\n",
    "HTML(fp_df[fp_df.index == 3].html.values[0])"
   ]
  },
  {
   "cell_type": "code",
   "execution_count": 27,
   "metadata": {},
   "outputs": [
    {
     "name": "stdout",
     "output_type": "stream",
     "text": [
      " -PRON- have the lead and have a sound that capture the with a combination of a British / Scandinavian accent that have not lose in the mix\n"
     ]
    },
    {
     "data": {
      "text/html": [
       " <span style=\"background-color: #FF9696\">-PRON-</span> <span style=\"background-color: #FFC7C7\">have</span> <span style=\"background-color: #FFDBDB\">the</span> <span style=\"background-color: #FFE1E1\">lead</span> <span style=\"background-color: #FFF9F9\">and</span> <span style=\"background-color: #FFFBFB\">have</span> <span style=\"background-color: #FFFBFB\">a</span> <span style=\"background-color: #FFFCFC\">sound</span> <span style=\"background-color: #FFFEFE\">that</span> <span style=\"background-color: #FFFEFE\">capture</span> <span style=\"background-color: #FFFEFE\">the</span> <span style=\"background-color: #FFFEFE\">with</span> <span style=\"background-color: #FFFEFE\">a</span> <span style=\"background-color: #FFFEFE\">combination</span> <span style=\"background-color: #FFFEFE\">of</span> <span style=\"background-color: #FFFEFE\">a</span> <span style=\"background-color: #FFFEFE\">British</span> <span style=\"background-color: #FFFEFE\">/</span> <span style=\"background-color: #FFFEFE\">Scandinavian</span> <span style=\"background-color: #FFFEFE\">accent</span> <span style=\"background-color: #FFFEFE\">that</span> <span style=\"background-color: #FFFEFE\">have</span> <span style=\"background-color: #FFFEFE\">not</span> <span style=\"background-color: #FFFEFE\">lose</span> <span style=\"background-color: #FFFEFE\">in</span> <span style=\"background-color: #FFFEFE\">the</span> <span style=\"background-color: #FFFEFE\">mix</span><br><br>\n"
      ],
      "text/plain": [
       "<IPython.core.display.HTML object>"
      ]
     },
     "execution_count": 27,
     "metadata": {},
     "output_type": "execute_result"
    }
   ],
   "source": [
    "print(fp_df[fp_df.index == 4].sentence.values[0])\n",
    "HTML(fp_df[fp_df.index == 4].html.values[0])"
   ]
  },
  {
   "cell_type": "code",
   "execution_count": 28,
   "metadata": {},
   "outputs": [
    {
     "name": "stdout",
     "output_type": "stream",
     "text": [
      " on the cause behind the below capacity production of ethanol by the sugar factory in the state figure in the Council on Tuesday\n"
     ]
    },
    {
     "data": {
      "text/html": [
       " <span style=\"background-color: #FF7A7A\">on</span> <span style=\"background-color: #FFC5C5\">the</span> <span style=\"background-color: #FFD7D7\">cause</span> <span style=\"background-color: #FFFEFE\">behind</span> <span style=\"background-color: #FFFEFE\">the</span> <span style=\"background-color: #FFFEFE\">below</span> <span style=\"background-color: #FFFEFE\">capacity</span> <span style=\"background-color: #FFFEFE\">production</span> <span style=\"background-color: #FFFEFE\">of</span> <span style=\"background-color: #FFFEFE\">ethanol</span> <span style=\"background-color: #FFFEFE\">by</span> <span style=\"background-color: #FFFEFE\">the</span> <span style=\"background-color: #FFFEFE\">sugar</span> <span style=\"background-color: #FFFEFE\">factory</span> <span style=\"background-color: #FFFEFE\">in</span> <span style=\"background-color: #FFFEFE\">the</span> <span style=\"background-color: #FFFEFE\">state</span> <span style=\"background-color: #FFFEFE\">figure</span> <span style=\"background-color: #FFFEFE\">in</span> <span style=\"background-color: #FFFEFE\">the</span> <span style=\"background-color: #FFFEFE\">Council</span> <span style=\"background-color: #FFFEFE\">on</span> <span style=\"background-color: #FFFEFE\">Tuesday</span><br><br>\n"
      ],
      "text/plain": [
       "<IPython.core.display.HTML object>"
      ]
     },
     "execution_count": 28,
     "metadata": {},
     "output_type": "execute_result"
    }
   ],
   "source": [
    "print(fp_df[fp_df.index == 5].sentence.values[0])\n",
    "HTML(fp_df[fp_df.index == 5].html.values[0])"
   ]
  },
  {
   "cell_type": "code",
   "execution_count": 29,
   "metadata": {},
   "outputs": [
    {
     "name": "stdout",
     "output_type": "stream",
     "text": [
      " The time machine itself be a plain gray box with a distinctive electronic hum create by the sound of a mechanical and a car engine rather than a process digital effect\n"
     ]
    },
    {
     "data": {
      "text/html": [
       " <span style=\"background-color: #FFFCFC\">The</span> <span style=\"background-color: #FFFEFE\">time</span> <span style=\"background-color: #FFFEFE\">machine</span> <span style=\"background-color: #FFFEFE\">itself</span> <span style=\"background-color: #FFFEFE\">be</span> <span style=\"background-color: #FFFEFE\">a</span> <span style=\"background-color: #FFFEFE\">plain</span> <span style=\"background-color: #FFFEFE\">gray</span> <span style=\"background-color: #FFFEFE\">box</span> <span style=\"background-color: #FFFDFD\">with</span> <span style=\"background-color: #FFFCFC\">a</span> <span style=\"background-color: #FFF9F9\">distinctive</span> <span style=\"background-color: #FFF6F6\">electronic</span> <span style=\"background-color: #FFF0F0\">hum</span> <span style=\"background-color: #FFEDED\">create</span> <span style=\"background-color: #FFF2F2\">by</span> <span style=\"background-color: #FFF4F4\">the</span> <span style=\"background-color: #FFEDED\">sound</span> <span style=\"background-color: #FFF8F8\">of</span> <span style=\"background-color: #FFF4F4\">a</span> <span style=\"background-color: #FFF0F0\">mechanical</span> <span style=\"background-color: #FFE8E8\">and</span> <span style=\"background-color: #FFE8E8\">a</span> <span style=\"background-color: #FFE8E8\">car</span> <span style=\"background-color: #FFEAEA\">engine</span> <span style=\"background-color: #FFF4F4\">rather</span> <span style=\"background-color: #FFF8F8\">than</span> <span style=\"background-color: #FFFCFC\">a</span> <span style=\"background-color: #FFFCFC\">process</span> <span style=\"background-color: #FFFDFD\">digital</span> <span style=\"background-color: #FFFDFD\">effect</span><br><br>\n"
      ],
      "text/plain": [
       "<IPython.core.display.HTML object>"
      ]
     },
     "execution_count": 29,
     "metadata": {},
     "output_type": "execute_result"
    }
   ],
   "source": [
    "print(fp_df[fp_df.index == 6].sentence.values[0])\n",
    "HTML(fp_df[fp_df.index == 6].html.values[0])"
   ]
  },
  {
   "cell_type": "code",
   "execution_count": 30,
   "metadata": {},
   "outputs": [
    {
     "name": "stdout",
     "output_type": "stream",
     "text": [
      " Although he initially return to his wife and child when they return from evacuation after the war now see his wife a and\n"
     ]
    },
    {
     "data": {
      "text/html": [
       " <span style=\"background-color: #FFFDFD\">Although</span> <span style=\"background-color: #FFFEFE\">he</span> <span style=\"background-color: #FFFEFE\">initially</span> <span style=\"background-color: #FFFEFE\">return</span> <span style=\"background-color: #FFFDFD\">to</span> <span style=\"background-color: #FFFCFC\">his</span> <span style=\"background-color: #FFFAFA\">wife</span> <span style=\"background-color: #FFF2F2\">and</span> <span style=\"background-color: #FFEEEE\">child</span> <span style=\"background-color: #FFE0E0\">when</span> <span style=\"background-color: #FFD6D6\">they</span> <span style=\"background-color: #FFD6D6\">return</span> <span style=\"background-color: #FFCDCD\">from</span> <span style=\"background-color: #FFE9E9\">evacuation</span> <span style=\"background-color: #FFF5F5\">after</span> <span style=\"background-color: #FFFCFC\">the</span> <span style=\"background-color: #FFFDFD\">war</span> <span style=\"background-color: #FFFEFE\">now</span> <span style=\"background-color: #FFFEFE\">see</span> <span style=\"background-color: #FFFEFE\">his</span> <span style=\"background-color: #FFFEFE\">wife</span> <span style=\"background-color: #FFFEFE\">a</span> <span style=\"background-color: #FFFEFE\">and</span><br><br>\n"
      ],
      "text/plain": [
       "<IPython.core.display.HTML object>"
      ]
     },
     "execution_count": 30,
     "metadata": {},
     "output_type": "execute_result"
    }
   ],
   "source": [
    "print(fp_df[fp_df.index == 7].sentence.values[0])\n",
    "HTML(fp_df[fp_df.index == 7].html.values[0])"
   ]
  },
  {
   "cell_type": "code",
   "execution_count": 32,
   "metadata": {},
   "outputs": [
    {
     "name": "stdout",
     "output_type": "stream",
     "text": [
      " a adjective the word be derive from a noun mean force power or cause\n"
     ]
    },
    {
     "data": {
      "text/html": [
       " <span style=\"background-color: #FFFBFB\">a</span> <span style=\"background-color: #FFFDFD\">adjective</span> <span style=\"background-color: #FFFCFC\">the</span> <span style=\"background-color: #FFFCFC\">word</span> <span style=\"background-color: #FFF9F9\">be</span> <span style=\"background-color: #FFF1F1\">derive</span> <span style=\"background-color: #FFD9D9\">from</span> <span style=\"background-color: #FFEAEA\">a</span> <span style=\"background-color: #FFE5E5\">noun</span> <span style=\"background-color: #FFDDDD\">mean</span> <span style=\"background-color: #FFEDED\">force</span> <span style=\"background-color: #FFE1E1\">power</span> <span style=\"background-color: #FFE8E8\">or</span> <span style=\"background-color: #FFECEC\">cause</span><br><br>\n"
      ],
      "text/plain": [
       "<IPython.core.display.HTML object>"
      ]
     },
     "execution_count": 32,
     "metadata": {},
     "output_type": "execute_result"
    }
   ],
   "source": [
    "print(fp_df[fp_df.index == 8].sentence.values[0])\n",
    "HTML(fp_df[fp_df.index == 8].html.values[0])"
   ]
  },
  {
   "cell_type": "code",
   "execution_count": 33,
   "metadata": {},
   "outputs": [
    {
     "name": "stdout",
     "output_type": "stream",
     "text": [
      " The produce signal depart from a ideal a the input angle approach the extreme of the range\n"
     ]
    },
    {
     "data": {
      "text/html": [
       " <span style=\"background-color: #FF5656\">The</span> <span style=\"background-color: #FFC4C4\">produce</span> <span style=\"background-color: #FFF3F3\">signal</span> <span style=\"background-color: #FFFDFD\">depart</span> <span style=\"background-color: #FFFDFD\">from</span> <span style=\"background-color: #FFFEFE\">a</span> <span style=\"background-color: #FFFEFE\">ideal</span> <span style=\"background-color: #FFFEFE\">a</span> <span style=\"background-color: #FFFEFE\">the</span> <span style=\"background-color: #FFFEFE\">input</span> <span style=\"background-color: #FFFEFE\">angle</span> <span style=\"background-color: #FFFEFE\">approach</span> <span style=\"background-color: #FFFEFE\">the</span> <span style=\"background-color: #FFFEFE\">extreme</span> <span style=\"background-color: #FFFEFE\">of</span> <span style=\"background-color: #FFFEFE\">the</span> <span style=\"background-color: #FFFEFE\">range</span><br><br>\n"
      ],
      "text/plain": [
       "<IPython.core.display.HTML object>"
      ]
     },
     "execution_count": 33,
     "metadata": {},
     "output_type": "execute_result"
    }
   ],
   "source": [
    "print(fp_df[fp_df.index == 9].sentence.values[0])\n",
    "HTML(fp_df[fp_df.index == 9].html.values[0])"
   ]
  },
  {
   "cell_type": "markdown",
   "metadata": {},
   "source": [
    "### 因果ありを因果なしと予測した例"
   ]
  },
  {
   "cell_type": "code",
   "execution_count": 31,
   "metadata": {},
   "outputs": [
    {
     "name": "stdout",
     "output_type": "stream",
     "text": [
      "(58, 4)\n"
     ]
    },
    {
     "data": {
      "text/html": [
       "<div>\n",
       "<style scoped>\n",
       "    .dataframe tbody tr th:only-of-type {\n",
       "        vertical-align: middle;\n",
       "    }\n",
       "\n",
       "    .dataframe tbody tr th {\n",
       "        vertical-align: top;\n",
       "    }\n",
       "\n",
       "    .dataframe thead th {\n",
       "        text-align: right;\n",
       "    }\n",
       "</style>\n",
       "<table border=\"1\" class=\"dataframe\">\n",
       "  <thead>\n",
       "    <tr style=\"text-align: right;\">\n",
       "      <th></th>\n",
       "      <th>y_true</th>\n",
       "      <th>y_pred</th>\n",
       "      <th>sentence</th>\n",
       "      <th>html</th>\n",
       "    </tr>\n",
       "  </thead>\n",
       "  <tbody>\n",
       "    <tr>\n",
       "      <th>0</th>\n",
       "      <td>0</td>\n",
       "      <td>1</td>\n",
       "      <td>The same effect be achieve the traditional wa...</td>\n",
       "      <td>&lt;span style=\"background-color: #FFBBBB\"&gt;The&lt;/...</td>\n",
       "    </tr>\n",
       "    <tr>\n",
       "      <th>1</th>\n",
       "      <td>0</td>\n",
       "      <td>1</td>\n",
       "      <td>The subject of be the source of a implication...</td>\n",
       "      <td>&lt;span style=\"background-color: #FFDEDE\"&gt;The&lt;/...</td>\n",
       "    </tr>\n",
       "    <tr>\n",
       "      <th>2</th>\n",
       "      <td>0</td>\n",
       "      <td>1</td>\n",
       "      <td>The treaty establish a double majority rule f...</td>\n",
       "      <td>&lt;span style=\"background-color: #FFBFBF\"&gt;The&lt;/...</td>\n",
       "    </tr>\n",
       "    <tr>\n",
       "      <th>3</th>\n",
       "      <td>0</td>\n",
       "      <td>1</td>\n",
       "      <td>The receiver be output the same tone to my 5</td>\n",
       "      <td>&lt;span style=\"background-color: #FFCBCB\"&gt;The&lt;/...</td>\n",
       "    </tr>\n",
       "    <tr>\n",
       "      <th>4</th>\n",
       "      <td>0</td>\n",
       "      <td>1</td>\n",
       "      <td>These type of script help visually impair ind...</td>\n",
       "      <td>&lt;span style=\"background-color: #FFE2E2\"&gt;These...</td>\n",
       "    </tr>\n",
       "  </tbody>\n",
       "</table>\n",
       "</div>"
      ],
      "text/plain": [
       "  y_true y_pred                                           sentence  \\\n",
       "0      0      1   The same effect be achieve the traditional wa...   \n",
       "1      0      1   The subject of be the source of a implication...   \n",
       "2      0      1   The treaty establish a double majority rule f...   \n",
       "3      0      1       The receiver be output the same tone to my 5   \n",
       "4      0      1   These type of script help visually impair ind...   \n",
       "\n",
       "                                                html  \n",
       "0   <span style=\"background-color: #FFBBBB\">The</...  \n",
       "1   <span style=\"background-color: #FFDEDE\">The</...  \n",
       "2   <span style=\"background-color: #FFBFBF\">The</...  \n",
       "3   <span style=\"background-color: #FFCBCB\">The</...  \n",
       "4   <span style=\"background-color: #FFE2E2\">These...  "
      ]
     },
     "execution_count": 31,
     "metadata": {},
     "output_type": "execute_result"
    }
   ],
   "source": [
    "fn_df = output_df[output_df.y_true == '0']\n",
    "fn_df = fn_df[fn_df.y_pred == '1']\n",
    "fn_df.reset_index(drop=True, inplace=True)\n",
    "print(fn_df.shape)\n",
    "fn_df.head()"
   ]
  },
  {
   "cell_type": "code",
   "execution_count": 34,
   "metadata": {},
   "outputs": [
    {
     "name": "stdout",
     "output_type": "stream",
     "text": [
      " The same effect be achieve the traditional way with a team of worker like\n"
     ]
    },
    {
     "data": {
      "text/html": [
       " <span style=\"background-color: #FFBBBB\">The</span> <span style=\"background-color: #FFE5E5\">same</span> <span style=\"background-color: #FFF0F0\">effect</span> <span style=\"background-color: #FFFBFB\">be</span> <span style=\"background-color: #FFFBFB\">achieve</span> <span style=\"background-color: #FFFCFC\">the</span> <span style=\"background-color: #FFFCFC\">traditional</span> <span style=\"background-color: #FFFCFC\">way</span> <span style=\"background-color: #FFFCFC\">with</span> <span style=\"background-color: #FFFDFD\">a</span> <span style=\"background-color: #FFFDFD\">team</span> <span style=\"background-color: #FFFDFD\">of</span> <span style=\"background-color: #FFFDFD\">worker</span> <span style=\"background-color: #FFFCFC\">like</span><br><br>\n"
      ],
      "text/plain": [
       "<IPython.core.display.HTML object>"
      ]
     },
     "execution_count": 34,
     "metadata": {},
     "output_type": "execute_result"
    }
   ],
   "source": [
    "print(fn_df[fn_df.index == 0].sentence.values[0])\n",
    "HTML(fn_df[fn_df.index == 0].html.values[0])"
   ]
  },
  {
   "cell_type": "code",
   "execution_count": 35,
   "metadata": {},
   "outputs": [
    {
     "name": "stdout",
     "output_type": "stream",
     "text": [
      " The subject of be the source of a implication while the subject of be the recipient of a implication\n"
     ]
    },
    {
     "data": {
      "text/html": [
       " <span style=\"background-color: #FFDEDE\">The</span> <span style=\"background-color: #FFF1F1\">subject</span> <span style=\"background-color: #FFF6F6\">of</span> <span style=\"background-color: #FFF9F9\">be</span> <span style=\"background-color: #FFF8F8\">the</span> <span style=\"background-color: #FFF9F9\">source</span> <span style=\"background-color: #FFFAFA\">of</span> <span style=\"background-color: #FFFAFA\">a</span> <span style=\"background-color: #FFFAFA\">implication</span> <span style=\"background-color: #FFFBFB\">while</span> <span style=\"background-color: #FFFBFB\">the</span> <span style=\"background-color: #FFFBFB\">subject</span> <span style=\"background-color: #FFFBFB\">of</span> <span style=\"background-color: #FFFBFB\">be</span> <span style=\"background-color: #FFFBFB\">the</span> <span style=\"background-color: #FFFBFB\">recipient</span> <span style=\"background-color: #FFFBFB\">of</span> <span style=\"background-color: #FFFBFB\">a</span> <span style=\"background-color: #FFFBFB\">implication</span><br><br>\n"
      ],
      "text/plain": [
       "<IPython.core.display.HTML object>"
      ]
     },
     "execution_count": 35,
     "metadata": {},
     "output_type": "execute_result"
    }
   ],
   "source": [
    "print(fn_df[fn_df.index == 1].sentence.values[0])\n",
    "HTML(fn_df[fn_df.index == 1].html.values[0])"
   ]
  },
  {
   "cell_type": "code",
   "execution_count": 36,
   "metadata": {},
   "outputs": [
    {
     "name": "stdout",
     "output_type": "stream",
     "text": [
      " The treaty establish a double majority rule for Council decision\n"
     ]
    },
    {
     "data": {
      "text/html": [
       " <span style=\"background-color: #FFBFBF\">The</span> <span style=\"background-color: #FFE6E6\">treaty</span> <span style=\"background-color: #FFF0F0\">establish</span> <span style=\"background-color: #FFFAFA\">a</span> <span style=\"background-color: #FFFBFB\">double</span> <span style=\"background-color: #FFFBFB\">majority</span> <span style=\"background-color: #FFFCFC\">rule</span> <span style=\"background-color: #FFFBFB\">for</span> <span style=\"background-color: #FFFCFC\">Council</span> <span style=\"background-color: #FFFCFC\">decision</span><br><br>\n"
      ],
      "text/plain": [
       "<IPython.core.display.HTML object>"
      ]
     },
     "execution_count": 36,
     "metadata": {},
     "output_type": "execute_result"
    }
   ],
   "source": [
    "print(fn_df[fn_df.index == 2].sentence.values[0])\n",
    "HTML(fn_df[fn_df.index == 2].html.values[0])"
   ]
  },
  {
   "cell_type": "code",
   "execution_count": 37,
   "metadata": {},
   "outputs": [
    {
     "name": "stdout",
     "output_type": "stream",
     "text": [
      " The receiver be output the same tone to my 5\n"
     ]
    },
    {
     "data": {
      "text/html": [
       " <span style=\"background-color: #FFCBCB\">The</span> <span style=\"background-color: #FFE5E5\">receiver</span> <span style=\"background-color: #FFEDED\">be</span> <span style=\"background-color: #FFECEC\">output</span> <span style=\"background-color: #FFF3F3\">the</span> <span style=\"background-color: #FFF6F6\">same</span> <span style=\"background-color: #FFF6F6\">tone</span> <span style=\"background-color: #FFFCFC\">to</span> <span style=\"background-color: #FFFCFC\">my</span> <span style=\"background-color: #FFFCFC\">5</span><br><br>\n"
      ],
      "text/plain": [
       "<IPython.core.display.HTML object>"
      ]
     },
     "execution_count": 37,
     "metadata": {},
     "output_type": "execute_result"
    }
   ],
   "source": [
    "print(fn_df[fn_df.index == 3].sentence.values[0])\n",
    "HTML(fn_df[fn_df.index == 3].html.values[0])"
   ]
  },
  {
   "cell_type": "code",
   "execution_count": 38,
   "metadata": {},
   "outputs": [
    {
     "name": "stdout",
     "output_type": "stream",
     "text": [
      " These type of script help visually impair individual to get much enjoyment from programme because the action on screen be describe for them\n"
     ]
    },
    {
     "data": {
      "text/html": [
       " <span style=\"background-color: #FFE2E2\">These</span> <span style=\"background-color: #FFEEEE\">type</span> <span style=\"background-color: #FFF1F1\">of</span> <span style=\"background-color: #FFF3F3\">script</span> <span style=\"background-color: #FFF0F0\">help</span> <span style=\"background-color: #FFF6F6\">visually</span> <span style=\"background-color: #FFF3F3\">impair</span> <span style=\"background-color: #FFF4F4\">individual</span> <span style=\"background-color: #FFF5F5\">to</span> <span style=\"background-color: #FFF5F5\">get</span> <span style=\"background-color: #FFF8F8\">much</span> <span style=\"background-color: #FFF8F8\">enjoyment</span> <span style=\"background-color: #FFFAFA\">from</span> <span style=\"background-color: #FFFDFD\">programme</span> <span style=\"background-color: #FFFDFD\">because</span> <span style=\"background-color: #FFFDFD\">the</span> <span style=\"background-color: #FFFDFD\">action</span> <span style=\"background-color: #FFFDFD\">on</span> <span style=\"background-color: #FFFDFD\">screen</span> <span style=\"background-color: #FFFDFD\">be</span> <span style=\"background-color: #FFFDFD\">describe</span> <span style=\"background-color: #FFFDFD\">for</span> <span style=\"background-color: #FFFDFD\">them</span><br><br>\n"
      ],
      "text/plain": [
       "<IPython.core.display.HTML object>"
      ]
     },
     "execution_count": 38,
     "metadata": {},
     "output_type": "execute_result"
    }
   ],
   "source": [
    "print(fn_df[fn_df.index == 4].sentence.values[0])\n",
    "HTML(fn_df[fn_df.index == 4].html.values[0])"
   ]
  },
  {
   "cell_type": "code",
   "execution_count": 39,
   "metadata": {},
   "outputs": [
    {
     "name": "stdout",
     "output_type": "stream",
     "text": [
      " I will not tell you how much music mean now in this time when you be battle depression from unemployment\n"
     ]
    },
    {
     "data": {
      "text/html": [
       " <span style=\"background-color: #FFF3F3\">I</span> <span style=\"background-color: #FFFAFA\">will</span> <span style=\"background-color: #FFFCFC\">not</span> <span style=\"background-color: #FFFBFB\">tell</span> <span style=\"background-color: #FFFBFB\">you</span> <span style=\"background-color: #FFFAFA\">how</span> <span style=\"background-color: #FFFCFC\">much</span> <span style=\"background-color: #FFFBFB\">music</span> <span style=\"background-color: #FFFAFA\">mean</span> <span style=\"background-color: #FFFCFC\">now</span> <span style=\"background-color: #FFFBFB\">in</span> <span style=\"background-color: #FFFAFA\">this</span> <span style=\"background-color: #FFF9F9\">time</span> <span style=\"background-color: #FFF3F3\">when</span> <span style=\"background-color: #FFEEEE\">you</span> <span style=\"background-color: #FFEDED\">be</span> <span style=\"background-color: #FFE6E6\">battle</span> <span style=\"background-color: #FFE4E4\">depression</span> <span style=\"background-color: #FFF0F0\">from</span> <span style=\"background-color: #FFFAFA\">unemployment</span><br><br>\n"
      ],
      "text/plain": [
       "<IPython.core.display.HTML object>"
      ]
     },
     "execution_count": 39,
     "metadata": {},
     "output_type": "execute_result"
    }
   ],
   "source": [
    "print(fn_df[fn_df.index == 5].sentence.values[0])\n",
    "HTML(fn_df[fn_df.index == 5].html.values[0])"
   ]
  },
  {
   "cell_type": "code",
   "execution_count": 40,
   "metadata": {},
   "outputs": [
    {
     "name": "stdout",
     "output_type": "stream",
     "text": [
      " The dust from the set off the alarm\n"
     ]
    },
    {
     "data": {
      "text/html": [
       " <span style=\"background-color: #FF9A9A\">The</span> <span style=\"background-color: #FFD8D8\">dust</span> <span style=\"background-color: #FFF3F3\">from</span> <span style=\"background-color: #FFFCFC\">the</span> <span style=\"background-color: #FFFDFD\">set</span> <span style=\"background-color: #FFFDFD\">off</span> <span style=\"background-color: #FFFDFD\">the</span> <span style=\"background-color: #FFFDFD\">alarm</span><br><br>\n"
      ],
      "text/plain": [
       "<IPython.core.display.HTML object>"
      ]
     },
     "execution_count": 40,
     "metadata": {},
     "output_type": "execute_result"
    }
   ],
   "source": [
    "print(fn_df[fn_df.index == 6].sentence.values[0])\n",
    "HTML(fn_df[fn_df.index == 6].html.values[0])"
   ]
  },
  {
   "cell_type": "code",
   "execution_count": 41,
   "metadata": {},
   "outputs": [
    {
     "name": "stdout",
     "output_type": "stream",
     "text": [
      " The drug have a low half life that make it ideal for kill of the susceptible bacterium responsible for sleep sickness\n"
     ]
    },
    {
     "data": {
      "text/html": [
       " <span style=\"background-color: #FFC1C1\">The</span> <span style=\"background-color: #FFE0E0\">drug</span> <span style=\"background-color: #FFEFEF\">have</span> <span style=\"background-color: #FFF3F3\">a</span> <span style=\"background-color: #FFF6F6\">low</span> <span style=\"background-color: #FFF9F9\">half</span> <span style=\"background-color: #FFFCFC\">life</span> <span style=\"background-color: #FFFCFC\">that</span> <span style=\"background-color: #FFFCFC\">make</span> <span style=\"background-color: #FFFCFC\">it</span> <span style=\"background-color: #FFFCFC\">ideal</span> <span style=\"background-color: #FFFBFB\">for</span> <span style=\"background-color: #FFFCFC\">kill</span> <span style=\"background-color: #FFF9F9\">of</span> <span style=\"background-color: #FFF9F9\">the</span> <span style=\"background-color: #FFF8F8\">susceptible</span> <span style=\"background-color: #FFF9F9\">bacterium</span> <span style=\"background-color: #FFF7F7\">responsible</span> <span style=\"background-color: #FFFAFA\">for</span> <span style=\"background-color: #FFFBFB\">sleep</span> <span style=\"background-color: #FFFCFC\">sickness</span><br><br>\n"
      ],
      "text/plain": [
       "<IPython.core.display.HTML object>"
      ]
     },
     "execution_count": 41,
     "metadata": {},
     "output_type": "execute_result"
    }
   ],
   "source": [
    "print(fn_df[fn_df.index == 7].sentence.values[0])\n",
    "HTML(fn_df[fn_df.index == 7].html.values[0])"
   ]
  },
  {
   "cell_type": "code",
   "execution_count": 42,
   "metadata": {},
   "outputs": [
    {
     "name": "stdout",
     "output_type": "stream",
     "text": [
      " I still shiver a I remember try to page through economics text by the flicker from candle while clothe in and little knit glove with the fingertip cut off in the 4 p.m.\n"
     ]
    },
    {
     "data": {
      "text/html": [
       " <span style=\"background-color: #FFF7F7\">I</span> <span style=\"background-color: #FFFCFC\">still</span> <span style=\"background-color: #FFFCFC\">shiver</span> <span style=\"background-color: #FFFCFC\">a</span> <span style=\"background-color: #FFFCFC\">I</span> <span style=\"background-color: #FFFCFC\">remember</span> <span style=\"background-color: #FFFBFB\">try</span> <span style=\"background-color: #FFF7F7\">to</span> <span style=\"background-color: #FFF3F3\">page</span> <span style=\"background-color: #FFE8E8\">through</span> <span style=\"background-color: #FFEFEF\">economics</span> <span style=\"background-color: #FFECEC\">text</span> <span style=\"background-color: #FFE3E3\">by</span> <span style=\"background-color: #FFF0F0\">the</span> <span style=\"background-color: #FFF2F2\">flicker</span> <span style=\"background-color: #FFF1F1\">from</span> <span style=\"background-color: #FFFBFB\">candle</span> <span style=\"background-color: #FFFDFD\">while</span> <span style=\"background-color: #FFFDFD\">clothe</span> <span style=\"background-color: #FFFCFC\">in</span> <span style=\"background-color: #FFFDFD\">and</span> <span style=\"background-color: #FFFDFD\">little</span> <span style=\"background-color: #FFFDFD\">knit</span> <span style=\"background-color: #FFFDFD\">glove</span> <span style=\"background-color: #FFFDFD\">with</span> <span style=\"background-color: #FFFDFD\">the</span> <span style=\"background-color: #FFFDFD\">fingertip</span> <span style=\"background-color: #FFFEFE\">cut</span> <span style=\"background-color: #FFFDFD\">off</span> <span style=\"background-color: #FFFDFD\">in</span> <span style=\"background-color: #FFFDFD\">the</span> <span style=\"background-color: #FFFDFD\">4</span> <span style=\"background-color: #FFFDFD\">p.m.</span><br><br>\n"
      ],
      "text/plain": [
       "<IPython.core.display.HTML object>"
      ]
     },
     "execution_count": 42,
     "metadata": {},
     "output_type": "execute_result"
    }
   ],
   "source": [
    "print(fn_df[fn_df.index == 8].sentence.values[0])\n",
    "HTML(fn_df[fn_df.index == 8].html.values[0])"
   ]
  },
  {
   "cell_type": "code",
   "execution_count": 43,
   "metadata": {},
   "outputs": [
    {
     "name": "stdout",
     "output_type": "stream",
     "text": [
      " In the last couple of year I have be work with my fear from darkness\n"
     ]
    },
    {
     "data": {
      "text/html": [
       " <span style=\"background-color: #FFFBFB\">In</span> <span style=\"background-color: #FFFDFD\">the</span> <span style=\"background-color: #FFFEFE\">last</span> <span style=\"background-color: #FFFDFD\">couple</span> <span style=\"background-color: #FFFDFD\">of</span> <span style=\"background-color: #FFFCFC\">year</span> <span style=\"background-color: #FFF7F7\">I</span> <span style=\"background-color: #FFF3F3\">have</span> <span style=\"background-color: #FFEFEF\">be</span> <span style=\"background-color: #FFE4E4\">work</span> <span style=\"background-color: #FFD1D1\">with</span> <span style=\"background-color: #FFDDDD\">my</span> <span style=\"background-color: #FFDCDC\">fear</span> <span style=\"background-color: #FFF5F5\">from</span> <span style=\"background-color: #FFFCFC\">darkness</span><br><br>\n"
      ],
      "text/plain": [
       "<IPython.core.display.HTML object>"
      ]
     },
     "execution_count": 43,
     "metadata": {},
     "output_type": "execute_result"
    }
   ],
   "source": [
    "print(fn_df[fn_df.index == 9].sentence.values[0])\n",
    "HTML(fn_df[fn_df.index == 9].html.values[0])"
   ]
  },
  {
   "cell_type": "markdown",
   "metadata": {},
   "source": [
    "### 因果無しを正解"
   ]
  },
  {
   "cell_type": "code",
   "execution_count": 49,
   "metadata": {},
   "outputs": [
    {
     "name": "stdout",
     "output_type": "stream",
     "text": [
      "(2342, 4)\n"
     ]
    },
    {
     "data": {
      "text/html": [
       "<div>\n",
       "<style scoped>\n",
       "    .dataframe tbody tr th:only-of-type {\n",
       "        vertical-align: middle;\n",
       "    }\n",
       "\n",
       "    .dataframe tbody tr th {\n",
       "        vertical-align: top;\n",
       "    }\n",
       "\n",
       "    .dataframe thead th {\n",
       "        text-align: right;\n",
       "    }\n",
       "</style>\n",
       "<table border=\"1\" class=\"dataframe\">\n",
       "  <thead>\n",
       "    <tr style=\"text-align: right;\">\n",
       "      <th></th>\n",
       "      <th>y_true</th>\n",
       "      <th>y_pred</th>\n",
       "      <th>sentence</th>\n",
       "      <th>html</th>\n",
       "    </tr>\n",
       "  </thead>\n",
       "  <tbody>\n",
       "    <tr>\n",
       "      <th>0</th>\n",
       "      <td>1</td>\n",
       "      <td>1</td>\n",
       "      <td>The much common audit be about waste and recycle</td>\n",
       "      <td>&lt;span style=\"background-color: #FFBCBC\"&gt;The&lt;/...</td>\n",
       "    </tr>\n",
       "    <tr>\n",
       "      <th>1</th>\n",
       "      <td>1</td>\n",
       "      <td>1</td>\n",
       "      <td>The company fabricate plastic chair</td>\n",
       "      <td>&lt;span style=\"background-color: #FFECEC\"&gt;The&lt;/...</td>\n",
       "    </tr>\n",
       "    <tr>\n",
       "      <th>2</th>\n",
       "      <td>1</td>\n",
       "      <td>1</td>\n",
       "      <td>The school master teach the lesson with a stick</td>\n",
       "      <td>&lt;span style=\"background-color: #FFDFDF\"&gt;The&lt;/...</td>\n",
       "    </tr>\n",
       "    <tr>\n",
       "      <th>3</th>\n",
       "      <td>1</td>\n",
       "      <td>1</td>\n",
       "      <td>The suspect dump the dead body into a local r...</td>\n",
       "      <td>&lt;span style=\"background-color: #FFE2E2\"&gt;The&lt;/...</td>\n",
       "    </tr>\n",
       "    <tr>\n",
       "      <th>4</th>\n",
       "      <td>1</td>\n",
       "      <td>1</td>\n",
       "      <td>The ear of the African elephant be significan...</td>\n",
       "      <td>&lt;span style=\"background-color: #FFD6D6\"&gt;The&lt;/...</td>\n",
       "    </tr>\n",
       "  </tbody>\n",
       "</table>\n",
       "</div>"
      ],
      "text/plain": [
       "  y_true y_pred                                           sentence  \\\n",
       "0      1      1   The much common audit be about waste and recycle   \n",
       "1      1      1                The company fabricate plastic chair   \n",
       "2      1      1    The school master teach the lesson with a stick   \n",
       "3      1      1   The suspect dump the dead body into a local r...   \n",
       "4      1      1   The ear of the African elephant be significan...   \n",
       "\n",
       "                                                html  \n",
       "0   <span style=\"background-color: #FFBCBC\">The</...  \n",
       "1   <span style=\"background-color: #FFECEC\">The</...  \n",
       "2   <span style=\"background-color: #FFDFDF\">The</...  \n",
       "3   <span style=\"background-color: #FFE2E2\">The</...  \n",
       "4   <span style=\"background-color: #FFD6D6\">The</...  "
      ]
     },
     "execution_count": 49,
     "metadata": {},
     "output_type": "execute_result"
    }
   ],
   "source": [
    "tn_df = output_df[output_df.y_true == '1']\n",
    "tn_df = tn_df[tn_df.y_pred == '1']\n",
    "tn_df.reset_index(drop=True, inplace=True)\n",
    "print(tn_df.shape)\n",
    "tn_df.head()"
   ]
  },
  {
   "cell_type": "code",
   "execution_count": 50,
   "metadata": {},
   "outputs": [
    {
     "name": "stdout",
     "output_type": "stream",
     "text": [
      " The much common audit be about waste and recycle\n"
     ]
    },
    {
     "data": {
      "text/html": [
       " <span style=\"background-color: #FFBCBC\">The</span> <span style=\"background-color: #FFE6E6\">much</span> <span style=\"background-color: #FFEEEE\">common</span> <span style=\"background-color: #FFFAFA\">audit</span> <span style=\"background-color: #FFFCFC\">be</span> <span style=\"background-color: #FFFBFB\">about</span> <span style=\"background-color: #FFFCFC\">waste</span> <span style=\"background-color: #FFFCFC\">and</span> <span style=\"background-color: #FFFCFC\">recycle</span><br><br>\n"
      ],
      "text/plain": [
       "<IPython.core.display.HTML object>"
      ]
     },
     "execution_count": 50,
     "metadata": {},
     "output_type": "execute_result"
    }
   ],
   "source": [
    "print(tn_df[tn_df.index == 0].sentence.values[0])\n",
    "HTML(tn_df[tn_df.index == 0].html.values[0])"
   ]
  },
  {
   "cell_type": "code",
   "execution_count": null,
   "metadata": {},
   "outputs": [],
   "source": []
  }
 ],
 "metadata": {
  "kernelspec": {
   "display_name": "Python 3",
   "language": "python",
   "name": "python3"
  },
  "language_info": {
   "codemirror_mode": {
    "name": "ipython",
    "version": 3
   },
   "file_extension": ".py",
   "mimetype": "text/x-python",
   "name": "python",
   "nbconvert_exporter": "python",
   "pygments_lexer": "ipython3",
   "version": "3.7.1"
  }
 },
 "nbformat": 4,
 "nbformat_minor": 4
}
