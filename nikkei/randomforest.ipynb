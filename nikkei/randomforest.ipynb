{
 "cells": [
  {
   "cell_type": "markdown",
   "metadata": {},
   "source": [
    "# Settings"
   ]
  },
  {
   "cell_type": "code",
   "execution_count": 1,
   "metadata": {},
   "outputs": [],
   "source": [
    "import os\n",
    "import numpy as np\n",
    "import pandas as pd\n",
    "\n",
    "import matplotlib\n",
    "import matplotlib.pyplot as plt\n",
    "from matplotlib.font_manager import FontProperties\n",
    "font_path = '/home/b2018yniki/local/lib/font/TakaoPGothic.ttf'  #DLしたパスを指定. /font以下でなくても良い\n",
    "font_prop = FontProperties(fname=font_path)\n",
    "plt.rcParams['font.family'] = font_prop.get_name()\n",
    "import seaborn as sns\n",
    "\n",
    "import optuna\n",
    "\n",
    "from sklearn.model_selection import train_test_split\n",
    "from sklearn.feature_extraction.text import CountVectorizer\n",
    "from sklearn.metrics import confusion_matrix, roc_auc_score\n",
    "from sklearn.ensemble import RandomForestClassifier\n",
    "\n",
    "def confusion2score(confusion):\n",
    "    tp, fn, fp, tn = confusion.ravel()\n",
    "    if tp == None:\n",
    "        tp = 0\n",
    "    if fn == None:\n",
    "        fn = 0\n",
    "    if fp == None:\n",
    "        fp = 0\n",
    "    if tn == None:\n",
    "        tn = 0\n",
    "    acc = (tp + tn) / (tp + fn + fp + tn)\n",
    "    if (tp+fp) == 0:\n",
    "        pre=0\n",
    "    else:\n",
    "        pre = tp / (tp + fp)\n",
    "    if (tp+fn) == 0:\n",
    "        rec=0\n",
    "    else:\n",
    "        rec = tp / (tp + fn)\n",
    "    if (2*tp+fp+fn) == 0:\n",
    "        f1=0\n",
    "    else:\n",
    "        f1  = (2 * tp) / (2*tp + fp + fn)\n",
    "    return (acc, pre, rec, f1)\n",
    "\n",
    "import MeCab\n",
    "# dict_path = '-d /usr/lib/x86_64-linux-gnu/mecab/dic/mecab-ipadic-neologd'    # path of sparrow\n",
    "dict_path = '-d /home/b2018yniki/local/lib/mecab/dic/mecab-ipadic-neologd/'    # path of hpc\n",
    "\n",
    "def get_tango(sen):\n",
    "    word_list = []\n",
    "    tagger = MeCab.Tagger(dict_path)\n",
    "    for word_line in tagger.parse(sen).split(\"\\n\"):\n",
    "        if word_line.strip() == \"EOS\":\n",
    "            break\n",
    "        (word, temp) = word_line.split(\"\\t\")\n",
    "        temps = temp.split(',')\n",
    "        if \"記号\" == temps[0]:\n",
    "            continue\n",
    "        if \"数\" == temps[1]:\n",
    "            continue\n",
    "        word_list.append(word)\n",
    "    return u\" \".join(word_list)"
   ]
  },
  {
   "cell_type": "markdown",
   "metadata": {},
   "source": [
    "# Random Forest"
   ]
  },
  {
   "cell_type": "markdown",
   "metadata": {},
   "source": [
    "### without feature engineering"
   ]
  },
  {
   "cell_type": "code",
   "execution_count": 23,
   "metadata": {},
   "outputs": [
    {
     "name": "stdout",
     "output_type": "stream",
     "text": [
      "Number of features: 463\n",
      "X_train shape:  (1500, 463)\n",
      "X_test shape:  (501, 463)\n",
      "Confusion Matrix: \n",
      "[[112 102]\n",
      " [ 17 270]]\n",
      "scores:  (0.7624750499001997, 0.8682170542635659, 0.5233644859813084, 0.6530612244897959)\n",
      "AUC:  0.7320655182519783\n"
     ]
    }
   ],
   "source": [
    "train_df = pd.read_csv('/home/b2018yniki/data/nikkei/train.txt', sep='\\t', header=None, names=['target', 'time', 'body']).drop('time', axis=1)\n",
    "test_df  = pd.read_csv('/home/b2018yniki/data/nikkei/test.txt', sep='\\t', header=None, names=['target', 'time', 'body']).drop('time', axis=1)\n",
    "total_df = pd.concat([train_df, test_df], ignore_index=True).drop_duplicates()\n",
    "\n",
    "X = total_df.body\n",
    "y = total_df.target.apply(lambda x: 0 if x==1 else 1)\n",
    "\n",
    "X_train, X_test, y_train, y_test = train_test_split(X, y, test_size=0.25, random_state=2019)\n",
    "del train_df, test_df, total_df, X, y\n",
    "\n",
    "X_train = [get_tango(text) for text in X_train.values]\n",
    "X_test  = [get_tango(text) for text in X_test.values]\n",
    "\n",
    "vect = CountVectorizer(min_df=10, ngram_range=(1,3))\n",
    "vect.fit(X_train)\n",
    "X_train = vect.transform(X_train)\n",
    "X_test  = vect.transform(X_test)\n",
    "\n",
    "feature_names = vect.get_feature_names()\n",
    "print(\"Number of features: {}\".format(len(feature_names)))\n",
    "X_train = pd.DataFrame(X_train.toarray(), columns=feature_names)\n",
    "X_test  = pd.DataFrame(X_test.toarray(), columns=feature_names)\n",
    "\n",
    "print('X_train shape: ', X_train.shape)\n",
    "print('X_test shape: ', X_test.shape)\n",
    "\n",
    "rf_model = RandomForestClassifier(n_estimators=100, max_depth=5, random_state=2019)\n",
    "rf_model.fit(X_train, y_train)\n",
    "y_pred = rf_model.predict(X_test)\n",
    "\n",
    "confusion = confusion_matrix(y_test, y_pred)\n",
    "scores    = confusion2score(confusion)\n",
    "auc       = roc_auc_score(y_test, y_pred)\n",
    "print('Confusion Matrix: ')\n",
    "print(confusion)\n",
    "print('scores: ', scores)\n",
    "print('AUC: ', auc)"
   ]
  },
  {
   "cell_type": "code",
   "execution_count": 2,
   "metadata": {},
   "outputs": [
    {
     "data": {
      "text/plain": [
       "(0.7624750499001997,\n",
       " 0.8682170542635659,\n",
       " 0.5233644859813084,\n",
       " 0.6530612244897959)"
      ]
     },
     "execution_count": 2,
     "metadata": {},
     "output_type": "execute_result"
    }
   ],
   "source": [
    "def create_model_pred(X, y, n_gram, min_df, n_estimators, max_depth):\n",
    "    X_train, X_test, y_train, y_test = train_test_split(X, y, test_size=0.25, random_state=2019)\n",
    "    X_train = [get_tango(text) for text in X_train.values]\n",
    "    X_test  = [get_tango(text) for text in X_test.values]\n",
    "    \n",
    "    vect = CountVectorizer(min_df=min_df, ngram_range=(1,n_gram))\n",
    "    vect.fit(X_train)\n",
    "    X_train = vect.transform(X_train)\n",
    "    X_test  = vect.transform(X_test)\n",
    "    \n",
    "    rf_model = RandomForestClassifier(n_estimators=n_estimators, max_depth=max_depth, random_state=2019)\n",
    "    rf_model.fit(X_train, y_train)\n",
    "    y_pred = rf_model.predict(X_test)\n",
    "    \n",
    "    confusion = confusion_matrix(y_test, y_pred)\n",
    "    scores    = confusion2score(confusion)\n",
    "    return scores\n",
    "\n",
    "train_df = pd.read_csv('/home/b2018yniki/data/nikkei/train.txt', sep='\\t', header=None, names=['target', 'time', 'body']).drop('time', axis=1)\n",
    "test_df  = pd.read_csv('/home/b2018yniki/data/nikkei/test.txt', sep='\\t', header=None, names=['target', 'time', 'body']).drop('time', axis=1)\n",
    "total_df = pd.concat([train_df, test_df], ignore_index=True).drop_duplicates()\n",
    "\n",
    "X = total_df.body\n",
    "y = total_df.target.apply(lambda x: 0 if x==1 else 1)\n",
    "\n",
    "del train_df, test_df, total_df\n",
    "\n",
    "create_model_pred(X, y, n_gram=3, min_df=10, n_estimators=100, max_depth=5)"
   ]
  },
  {
   "cell_type": "markdown",
   "metadata": {},
   "source": [
    "## with feature engineering"
   ]
  },
  {
   "cell_type": "code",
   "execution_count": 29,
   "metadata": {},
   "outputs": [
    {
     "name": "stdout",
     "output_type": "stream",
     "text": [
      "Number of features: 463\n",
      "X_train shape:  (1500, 463)\n",
      "X_test shape:  (501, 463)\n",
      "# of use columns:  316\n",
      "Confusion Matrix: \n",
      "[[112 102]\n",
      " [ 18 269]]\n",
      "scores:  (0.7604790419161677, 0.8615384615384616, 0.5233644859813084, 0.6511627906976745)\n",
      "AUC:  0.7303233579732327\n"
     ]
    }
   ],
   "source": [
    "train_df = pd.read_csv('/home/b2018yniki/data/nikkei/train.txt', sep='\\t', header=None, names=['target', 'time', 'body']).drop('time', axis=1)\n",
    "test_df  = pd.read_csv('/home/b2018yniki/data/nikkei/test.txt', sep='\\t', header=None, names=['target', 'time', 'body']).drop('time', axis=1)\n",
    "total_df = pd.concat([train_df, test_df], ignore_index=True).drop_duplicates()\n",
    "\n",
    "X = total_df.body\n",
    "y = total_df.target.apply(lambda x: 0 if x==1 else 1)\n",
    "\n",
    "X_train, X_test, y_train, y_test = train_test_split(X, y, test_size=0.25, random_state=2019)\n",
    "del train_df, test_df, total_df, X, y\n",
    "\n",
    "X_train = [get_tango(text) for text in X_train.values]\n",
    "X_test  = [get_tango(text) for text in X_test.values]\n",
    "\n",
    "vect = CountVectorizer(min_df=10, ngram_range=(1,3))\n",
    "vect.fit(X_train)\n",
    "X_train = vect.transform(X_train)\n",
    "X_test  = vect.transform(X_test)\n",
    "\n",
    "feature_names = vect.get_feature_names()\n",
    "print(\"Number of features: {}\".format(len(feature_names)))\n",
    "X_train = pd.DataFrame(X_train.toarray(), columns=feature_names)\n",
    "X_test  = pd.DataFrame(X_test.toarray(), columns=feature_names)\n",
    "\n",
    "print('X_train shape: ', X_train.shape)\n",
    "print('X_test shape: ', X_test.shape)\n",
    "\n",
    "rf_model = RandomForestClassifier(n_estimators=100, max_depth=5, random_state=2019)\n",
    "rf_model.fit(X_train, y_train)\n",
    "\n",
    "fi_df = pd.DataFrame(rf_model.feature_importances_, index=feature_names)\n",
    "use_cols = fi_df[fi_df[0] > 0.0].index.values\n",
    "\n",
    "print('# of use columns: ', len(use_cols))\n",
    "X_train = X_train[use_cols]\n",
    "X_test  = X_test[use_cols]\n",
    "\n",
    "rf_model = RandomForestClassifier(n_estimators=100, max_depth=5, random_state=2019)\n",
    "rf_model.fit(X_train, y_train)\n",
    "y_pred = rf_model.predict(X_test)\n",
    "\n",
    "confusion = confusion_matrix(y_test, y_pred)\n",
    "scores    = confusion2score(confusion)\n",
    "auc       = roc_auc_score(y_test, y_pred)\n",
    "print('Confusion Matrix: ')\n",
    "print(confusion)\n",
    "print('scores: ', scores)\n",
    "print('AUC: ', auc)"
   ]
  },
  {
   "cell_type": "code",
   "execution_count": 2,
   "metadata": {},
   "outputs": [
    {
     "data": {
      "text/plain": [
       "(0.7604790419161677,\n",
       " 0.8615384615384616,\n",
       " 0.5233644859813084,\n",
       " 0.6511627906976745)"
      ]
     },
     "execution_count": 2,
     "metadata": {},
     "output_type": "execute_result"
    }
   ],
   "source": [
    "def create_model_pred2(X, y, n_gram, min_df, n_estimators, max_depth, feat_eng=False):\n",
    "    X_train, X_test, y_train, y_test = train_test_split(X, y, test_size=0.25, random_state=2019)\n",
    "    X_train = [get_tango(text) for text in X_train.values]\n",
    "    X_test  = [get_tango(text) for text in X_test.values]\n",
    "    \n",
    "    vect = CountVectorizer(min_df=min_df, ngram_range=(1,n_gram))\n",
    "    vect.fit(X_train)\n",
    "    X_train = vect.transform(X_train)\n",
    "    X_test  = vect.transform(X_test)\n",
    "    \n",
    "    rf_model = RandomForestClassifier(n_estimators=n_estimators, max_depth=max_depth, random_state=2019)\n",
    "    rf_model.fit(X_train, y_train)\n",
    "    if feat_eng:\n",
    "        feature_names = vect.get_feature_names()\n",
    "        X_train = pd.DataFrame(X_train.toarray(), columns=feature_names)\n",
    "        X_test  = pd.DataFrame(X_test.toarray(), columns=feature_names)\n",
    "        fi_df = pd.DataFrame(rf_model.feature_importances_, index=feature_names)\n",
    "        use_cols = fi_df[fi_df[0] > 0.0].index.values\n",
    "        X_train = X_train[use_cols]\n",
    "        X_test  = X_test[use_cols]\n",
    "        rf_model = RandomForestClassifier(n_estimators=n_estimators, max_depth=max_depth, random_state=2019)\n",
    "        rf_model.fit(X_train, y_train)\n",
    "    y_pred = rf_model.predict(X_test)\n",
    "    \n",
    "    confusion = confusion_matrix(y_test, y_pred)\n",
    "    scores    = confusion2score(confusion)\n",
    "    return scores\n",
    "\n",
    "train_df = pd.read_csv('/home/b2018yniki/data/nikkei/train.txt', sep='\\t', header=None, names=['target', 'time', 'body']).drop('time', axis=1)\n",
    "test_df  = pd.read_csv('/home/b2018yniki/data/nikkei/test.txt', sep='\\t', header=None, names=['target', 'time', 'body']).drop('time', axis=1)\n",
    "total_df = pd.concat([train_df, test_df], ignore_index=True).drop_duplicates()\n",
    "\n",
    "X = total_df.body\n",
    "y = total_df.target.apply(lambda x: 0 if x==1 else 1)\n",
    "\n",
    "del train_df, test_df, total_df\n",
    "\n",
    "create_model_pred(X, y, n_gram=3, min_df=10, n_estimators=100, max_depth=5, feat_eng=True)"
   ]
  },
  {
   "cell_type": "markdown",
   "metadata": {},
   "source": [
    "# Hyperparameter Search by Optuna"
   ]
  },
  {
   "cell_type": "markdown",
   "metadata": {},
   "source": [
    "### without feature engineering"
   ]
  },
  {
   "cell_type": "code",
   "execution_count": 3,
   "metadata": {},
   "outputs": [
    {
     "name": "stderr",
     "output_type": "stream",
     "text": [
      "[I 2019-08-04 11:20:52,558] Finished trial#0 resulted in value: 0.3550295857988166. Current best value is 0.3550295857988166 with parameters: {'n_gram': 2, 'min_df': 15.0, 'n_estimators': 1000.0, 'max_depth': 5}.\n",
      "[I 2019-08-04 11:20:55,073] Finished trial#1 resulted in value: 0.32763532763532766. Current best value is 0.32763532763532766 with parameters: {'n_gram': 3, 'min_df': 20.0, 'n_estimators': 1000.0, 'max_depth': 5}.\n",
      "[I 2019-08-04 11:20:57,607] Finished trial#2 resulted in value: 0.3183098591549296. Current best value is 0.3183098591549296 with parameters: {'n_gram': 4, 'min_df': 15.0, 'n_estimators': 700.0, 'max_depth': 6}.\n",
      "[I 2019-08-04 11:21:00,449] Finished trial#3 resulted in value: 0.29315068493150687. Current best value is 0.29315068493150687 with parameters: {'n_gram': 4, 'min_df': 5.0, 'n_estimators': 1000.0, 'max_depth': 10}.\n",
      "[I 2019-08-04 11:21:02,702] Finished trial#4 resulted in value: 0.3111111111111111. Current best value is 0.29315068493150687 with parameters: {'n_gram': 4, 'min_df': 5.0, 'n_estimators': 1000.0, 'max_depth': 10}.\n",
      "[I 2019-08-04 11:21:04,664] Finished trial#5 resulted in value: 0.3841269841269841. Current best value is 0.29315068493150687 with parameters: {'n_gram': 4, 'min_df': 5.0, 'n_estimators': 1000.0, 'max_depth': 10}.\n",
      "[I 2019-08-04 11:21:07,092] Finished trial#6 resulted in value: 0.2654155495978552. Current best value is 0.2654155495978552 with parameters: {'n_gram': 2, 'min_df': 10.0, 'n_estimators': 700.0, 'max_depth': 10}.\n",
      "[I 2019-08-04 11:21:09,068] Finished trial#7 resulted in value: 0.3841269841269841. Current best value is 0.2654155495978552 with parameters: {'n_gram': 2, 'min_df': 10.0, 'n_estimators': 700.0, 'max_depth': 10}.\n",
      "[I 2019-08-04 11:21:11,020] Finished trial#8 resulted in value: 0.267379679144385. Current best value is 0.2654155495978552 with parameters: {'n_gram': 2, 'min_df': 10.0, 'n_estimators': 700.0, 'max_depth': 10}.\n",
      "[I 2019-08-04 11:21:13,543] Finished trial#9 resulted in value: 0.3183098591549296. Current best value is 0.2654155495978552 with parameters: {'n_gram': 2, 'min_df': 10.0, 'n_estimators': 700.0, 'max_depth': 10}.\n",
      "[I 2019-08-04 11:21:15,842] Finished trial#10 resulted in value: 0.3112947658402204. Current best value is 0.2654155495978552 with parameters: {'n_gram': 2, 'min_df': 10.0, 'n_estimators': 700.0, 'max_depth': 10}.\n",
      "[I 2019-08-04 11:21:18,203] Finished trial#11 resulted in value: 0.30410958904109586. Current best value is 0.2654155495978552 with parameters: {'n_gram': 2, 'min_df': 10.0, 'n_estimators': 700.0, 'max_depth': 10}.\n",
      "[I 2019-08-04 11:21:20,356] Finished trial#12 resulted in value: 0.33333333333333337. Current best value is 0.2654155495978552 with parameters: {'n_gram': 2, 'min_df': 10.0, 'n_estimators': 700.0, 'max_depth': 10}.\n",
      "[I 2019-08-04 11:21:22,728] Finished trial#13 resulted in value: 0.30410958904109586. Current best value is 0.2654155495978552 with parameters: {'n_gram': 2, 'min_df': 10.0, 'n_estimators': 700.0, 'max_depth': 10}.\n",
      "[I 2019-08-04 11:21:24,873] Finished trial#14 resulted in value: 0.30919220055710306. Current best value is 0.2654155495978552 with parameters: {'n_gram': 2, 'min_df': 10.0, 'n_estimators': 700.0, 'max_depth': 10}.\n",
      "[I 2019-08-04 11:21:27,760] Finished trial#15 resulted in value: 0.3055555555555556. Current best value is 0.2654155495978552 with parameters: {'n_gram': 2, 'min_df': 10.0, 'n_estimators': 700.0, 'max_depth': 10}.\n",
      "[I 2019-08-04 11:21:30,098] Finished trial#16 resulted in value: 0.3202247191011236. Current best value is 0.2654155495978552 with parameters: {'n_gram': 2, 'min_df': 10.0, 'n_estimators': 700.0, 'max_depth': 10}.\n",
      "[I 2019-08-04 11:21:32,049] Finished trial#17 resulted in value: 0.26881720430107525. Current best value is 0.2654155495978552 with parameters: {'n_gram': 2, 'min_df': 10.0, 'n_estimators': 700.0, 'max_depth': 10}.\n",
      "[I 2019-08-04 11:21:33,945] Finished trial#18 resulted in value: 0.26881720430107525. Current best value is 0.2654155495978552 with parameters: {'n_gram': 2, 'min_df': 10.0, 'n_estimators': 700.0, 'max_depth': 10}.\n",
      "[I 2019-08-04 11:21:36,094] Finished trial#19 resulted in value: 0.264. Current best value is 0.264 with parameters: {'n_gram': 2, 'min_df': 15.0, 'n_estimators': 400.0, 'max_depth': 9}.\n",
      "[I 2019-08-04 11:21:38,351] Finished trial#20 resulted in value: 0.25668449197860965. Current best value is 0.25668449197860965 with parameters: {'n_gram': 3, 'min_df': 15.0, 'n_estimators': 400.0, 'max_depth': 9}.\n",
      "[I 2019-08-04 11:21:40,550] Finished trial#21 resulted in value: 0.32011331444759206. Current best value is 0.25668449197860965 with parameters: {'n_gram': 3, 'min_df': 15.0, 'n_estimators': 400.0, 'max_depth': 9}.\n",
      "[I 2019-08-04 11:21:42,869] Finished trial#22 resulted in value: 0.3055555555555556. Current best value is 0.25668449197860965 with parameters: {'n_gram': 3, 'min_df': 15.0, 'n_estimators': 400.0, 'max_depth': 9}.\n",
      "[I 2019-08-04 11:21:45,055] Finished trial#23 resulted in value: 0.2912087912087912. Current best value is 0.25668449197860965 with parameters: {'n_gram': 3, 'min_df': 15.0, 'n_estimators': 400.0, 'max_depth': 9}.\n",
      "[I 2019-08-04 11:21:47,379] Finished trial#24 resulted in value: 0.3055555555555556. Current best value is 0.25668449197860965 with parameters: {'n_gram': 3, 'min_df': 15.0, 'n_estimators': 400.0, 'max_depth': 9}.\n",
      "[I 2019-08-04 11:21:49,610] Finished trial#25 resulted in value: 0.32011331444759206. Current best value is 0.25668449197860965 with parameters: {'n_gram': 3, 'min_df': 15.0, 'n_estimators': 400.0, 'max_depth': 9}.\n",
      "[I 2019-08-04 11:21:51,736] Finished trial#26 resulted in value: 0.30219780219780223. Current best value is 0.25668449197860965 with parameters: {'n_gram': 3, 'min_df': 15.0, 'n_estimators': 400.0, 'max_depth': 9}.\n",
      "[I 2019-08-04 11:21:54,086] Finished trial#27 resulted in value: 0.30193905817174516. Current best value is 0.25668449197860965 with parameters: {'n_gram': 3, 'min_df': 15.0, 'n_estimators': 400.0, 'max_depth': 9}.\n",
      "[I 2019-08-04 11:21:56,073] Finished trial#28 resulted in value: 0.3162393162393162. Current best value is 0.25668449197860965 with parameters: {'n_gram': 3, 'min_df': 15.0, 'n_estimators': 400.0, 'max_depth': 9}.\n",
      "[I 2019-08-04 11:21:58,286] Finished trial#29 resulted in value: 0.264. Current best value is 0.25668449197860965 with parameters: {'n_gram': 3, 'min_df': 15.0, 'n_estimators': 400.0, 'max_depth': 9}.\n",
      "[I 2019-08-04 11:22:01,060] Finished trial#30 resulted in value: 0.27913279132791324. Current best value is 0.25668449197860965 with parameters: {'n_gram': 3, 'min_df': 15.0, 'n_estimators': 400.0, 'max_depth': 9}.\n",
      "[I 2019-08-04 11:22:03,527] Finished trial#31 resulted in value: 0.33527696793002915. Current best value is 0.25668449197860965 with parameters: {'n_gram': 3, 'min_df': 15.0, 'n_estimators': 400.0, 'max_depth': 9}.\n",
      "[I 2019-08-04 11:22:06,043] Finished trial#32 resulted in value: 0.3072625698324022. Current best value is 0.25668449197860965 with parameters: {'n_gram': 3, 'min_df': 15.0, 'n_estimators': 400.0, 'max_depth': 9}.\n",
      "[I 2019-08-04 11:22:08,325] Finished trial#33 resulted in value: 0.28260869565217395. Current best value is 0.25668449197860965 with parameters: {'n_gram': 3, 'min_df': 15.0, 'n_estimators': 400.0, 'max_depth': 9}.\n",
      "[I 2019-08-04 11:22:10,940] Finished trial#34 resulted in value: 0.31999999999999995. Current best value is 0.25668449197860965 with parameters: {'n_gram': 3, 'min_df': 15.0, 'n_estimators': 400.0, 'max_depth': 9}.\n",
      "[I 2019-08-04 11:22:13,005] Finished trial#35 resulted in value: 0.31232091690544417. Current best value is 0.25668449197860965 with parameters: {'n_gram': 3, 'min_df': 15.0, 'n_estimators': 400.0, 'max_depth': 9}.\n",
      "[I 2019-08-04 11:22:15,144] Finished trial#36 resulted in value: 0.43137254901960786. Current best value is 0.25668449197860965 with parameters: {'n_gram': 3, 'min_df': 15.0, 'n_estimators': 400.0, 'max_depth': 9}.\n",
      "[I 2019-08-04 11:22:17,542] Finished trial#37 resulted in value: 0.2845528455284553. Current best value is 0.25668449197860965 with parameters: {'n_gram': 3, 'min_df': 15.0, 'n_estimators': 400.0, 'max_depth': 9}.\n",
      "[I 2019-08-04 11:22:19,521] Finished trial#38 resulted in value: 0.33913043478260874. Current best value is 0.25668449197860965 with parameters: {'n_gram': 3, 'min_df': 15.0, 'n_estimators': 400.0, 'max_depth': 9}.\n",
      "[I 2019-08-04 11:22:21,803] Finished trial#39 resulted in value: 0.3036211699164345. Current best value is 0.25668449197860965 with parameters: {'n_gram': 3, 'min_df': 15.0, 'n_estimators': 400.0, 'max_depth': 9}.\n",
      "[I 2019-08-04 11:22:24,282] Finished trial#40 resulted in value: 0.30386740331491713. Current best value is 0.25668449197860965 with parameters: {'n_gram': 3, 'min_df': 15.0, 'n_estimators': 400.0, 'max_depth': 9}.\n",
      "[I 2019-08-04 11:22:26,850] Finished trial#41 resulted in value: 0.2668463611859838. Current best value is 0.25668449197860965 with parameters: {'n_gram': 3, 'min_df': 15.0, 'n_estimators': 400.0, 'max_depth': 9}.\n",
      "[I 2019-08-04 11:22:29,186] Finished trial#42 resulted in value: 0.30410958904109586. Current best value is 0.25668449197860965 with parameters: {'n_gram': 3, 'min_df': 15.0, 'n_estimators': 400.0, 'max_depth': 9}.\n",
      "[I 2019-08-04 11:22:31,305] Finished trial#43 resulted in value: 0.33333333333333337. Current best value is 0.25668449197860965 with parameters: {'n_gram': 3, 'min_df': 15.0, 'n_estimators': 400.0, 'max_depth': 9}.\n",
      "[I 2019-08-04 11:22:33,508] Finished trial#44 resulted in value: 0.30919220055710306. Current best value is 0.25668449197860965 with parameters: {'n_gram': 3, 'min_df': 15.0, 'n_estimators': 400.0, 'max_depth': 9}.\n",
      "[I 2019-08-04 11:22:36,164] Finished trial#45 resulted in value: 0.2668463611859838. Current best value is 0.25668449197860965 with parameters: {'n_gram': 3, 'min_df': 15.0, 'n_estimators': 400.0, 'max_depth': 9}.\n",
      "[I 2019-08-04 11:22:38,587] Finished trial#46 resulted in value: 0.2845528455284553. Current best value is 0.25668449197860965 with parameters: {'n_gram': 3, 'min_df': 15.0, 'n_estimators': 400.0, 'max_depth': 9}.\n",
      "[I 2019-08-04 11:22:40,719] Finished trial#47 resulted in value: 0.3055555555555556. Current best value is 0.25668449197860965 with parameters: {'n_gram': 3, 'min_df': 15.0, 'n_estimators': 400.0, 'max_depth': 9}.\n",
      "[I 2019-08-04 11:22:43,242] Finished trial#48 resulted in value: 0.260053619302949. Current best value is 0.25668449197860965 with parameters: {'n_gram': 3, 'min_df': 15.0, 'n_estimators': 400.0, 'max_depth': 9}.\n",
      "[I 2019-08-04 11:22:45,924] Finished trial#49 resulted in value: 0.3220338983050848. Current best value is 0.25668449197860965 with parameters: {'n_gram': 3, 'min_df': 15.0, 'n_estimators': 400.0, 'max_depth': 9}.\n",
      "[I 2019-08-04 11:22:48,861] Finished trial#50 resulted in value: 0.2654155495978552. Current best value is 0.25668449197860965 with parameters: {'n_gram': 3, 'min_df': 15.0, 'n_estimators': 400.0, 'max_depth': 9}.\n",
      "[I 2019-08-04 11:22:51,377] Finished trial#51 resulted in value: 0.2668463611859838. Current best value is 0.25668449197860965 with parameters: {'n_gram': 3, 'min_df': 15.0, 'n_estimators': 400.0, 'max_depth': 9}.\n",
      "[I 2019-08-04 11:22:54,067] Finished trial#52 resulted in value: 0.3275862068965517. Current best value is 0.25668449197860965 with parameters: {'n_gram': 3, 'min_df': 15.0, 'n_estimators': 400.0, 'max_depth': 9}.\n",
      "[I 2019-08-04 11:22:56,489] Finished trial#53 resulted in value: 0.3294460641399417. Current best value is 0.25668449197860965 with parameters: {'n_gram': 3, 'min_df': 15.0, 'n_estimators': 400.0, 'max_depth': 9}.\n",
      "[I 2019-08-04 11:22:59,155] Finished trial#54 resulted in value: 0.2983425414364641. Current best value is 0.25668449197860965 with parameters: {'n_gram': 3, 'min_df': 15.0, 'n_estimators': 400.0, 'max_depth': 9}.\n",
      "[I 2019-08-04 11:23:01,786] Finished trial#55 resulted in value: 0.260053619302949. Current best value is 0.25668449197860965 with parameters: {'n_gram': 3, 'min_df': 15.0, 'n_estimators': 400.0, 'max_depth': 9}.\n",
      "[I 2019-08-04 11:23:03,843] Finished trial#56 resulted in value: 0.3513513513513513. Current best value is 0.25668449197860965 with parameters: {'n_gram': 3, 'min_df': 15.0, 'n_estimators': 400.0, 'max_depth': 9}.\n",
      "[I 2019-08-04 11:23:06,233] Finished trial#57 resulted in value: 0.2810810810810811. Current best value is 0.25668449197860965 with parameters: {'n_gram': 3, 'min_df': 15.0, 'n_estimators': 400.0, 'max_depth': 9}.\n",
      "[I 2019-08-04 11:23:08,983] Finished trial#58 resulted in value: 0.3016759776536313. Current best value is 0.25668449197860965 with parameters: {'n_gram': 3, 'min_df': 15.0, 'n_estimators': 400.0, 'max_depth': 9}.\n",
      "[I 2019-08-04 11:23:10,971] Finished trial#59 resulted in value: 0.30410958904109586. Current best value is 0.25668449197860965 with parameters: {'n_gram': 3, 'min_df': 15.0, 'n_estimators': 400.0, 'max_depth': 9}.\n",
      "[I 2019-08-04 11:23:13,312] Finished trial#60 resulted in value: 0.32763532763532766. Current best value is 0.25668449197860965 with parameters: {'n_gram': 3, 'min_df': 15.0, 'n_estimators': 400.0, 'max_depth': 9}.\n",
      "[I 2019-08-04 11:23:15,912] Finished trial#61 resulted in value: 0.2668463611859838. Current best value is 0.25668449197860965 with parameters: {'n_gram': 3, 'min_df': 15.0, 'n_estimators': 400.0, 'max_depth': 9}.\n",
      "[I 2019-08-04 11:23:18,600] Finished trial#62 resulted in value: 0.264. Current best value is 0.25668449197860965 with parameters: {'n_gram': 3, 'min_df': 15.0, 'n_estimators': 400.0, 'max_depth': 9}.\n",
      "[I 2019-08-04 11:23:20,779] Finished trial#63 resulted in value: 0.26881720430107525. Current best value is 0.25668449197860965 with parameters: {'n_gram': 3, 'min_df': 15.0, 'n_estimators': 400.0, 'max_depth': 9}.\n",
      "[I 2019-08-04 11:23:23,288] Finished trial#64 resulted in value: 0.34925373134328364. Current best value is 0.25668449197860965 with parameters: {'n_gram': 3, 'min_df': 15.0, 'n_estimators': 400.0, 'max_depth': 9}.\n",
      "[I 2019-08-04 11:23:25,939] Finished trial#65 resulted in value: 0.260053619302949. Current best value is 0.25668449197860965 with parameters: {'n_gram': 3, 'min_df': 15.0, 'n_estimators': 400.0, 'max_depth': 9}.\n",
      "[I 2019-08-04 11:23:28,635] Finished trial#66 resulted in value: 0.260053619302949. Current best value is 0.25668449197860965 with parameters: {'n_gram': 3, 'min_df': 15.0, 'n_estimators': 400.0, 'max_depth': 9}.\n",
      "[I 2019-08-04 11:23:31,291] Finished trial#67 resulted in value: 0.260053619302949. Current best value is 0.25668449197860965 with parameters: {'n_gram': 3, 'min_df': 15.0, 'n_estimators': 400.0, 'max_depth': 9}.\n",
      "[I 2019-08-04 11:23:33,728] Finished trial#68 resulted in value: 0.264. Current best value is 0.25668449197860965 with parameters: {'n_gram': 3, 'min_df': 15.0, 'n_estimators': 400.0, 'max_depth': 9}.\n",
      "[I 2019-08-04 11:23:36,426] Finished trial#69 resulted in value: 0.260053619302949. Current best value is 0.25668449197860965 with parameters: {'n_gram': 3, 'min_df': 15.0, 'n_estimators': 400.0, 'max_depth': 9}.\n",
      "[I 2019-08-04 11:23:39,178] Finished trial#70 resulted in value: 0.27913279132791324. Current best value is 0.25668449197860965 with parameters: {'n_gram': 3, 'min_df': 15.0, 'n_estimators': 400.0, 'max_depth': 9}.\n",
      "[I 2019-08-04 11:23:41,947] Finished trial#71 resulted in value: 0.25668449197860965. Current best value is 0.25668449197860965 with parameters: {'n_gram': 3, 'min_df': 15.0, 'n_estimators': 400.0, 'max_depth': 9}.\n",
      "[I 2019-08-04 11:23:44,612] Finished trial#72 resulted in value: 0.264. Current best value is 0.25668449197860965 with parameters: {'n_gram': 3, 'min_df': 15.0, 'n_estimators': 400.0, 'max_depth': 9}.\n",
      "[I 2019-08-04 11:23:46,900] Finished trial#73 resulted in value: 0.25668449197860965. Current best value is 0.25668449197860965 with parameters: {'n_gram': 3, 'min_df': 15.0, 'n_estimators': 400.0, 'max_depth': 9}.\n",
      "[I 2019-08-04 11:23:49,091] Finished trial#74 resulted in value: 0.267379679144385. Current best value is 0.25668449197860965 with parameters: {'n_gram': 3, 'min_df': 15.0, 'n_estimators': 400.0, 'max_depth': 9}.\n",
      "[I 2019-08-04 11:23:51,459] Finished trial#75 resulted in value: 0.2668463611859838. Current best value is 0.25668449197860965 with parameters: {'n_gram': 3, 'min_df': 15.0, 'n_estimators': 400.0, 'max_depth': 9}.\n",
      "[I 2019-08-04 11:23:53,710] Finished trial#76 resulted in value: 0.25668449197860965. Current best value is 0.25668449197860965 with parameters: {'n_gram': 3, 'min_df': 15.0, 'n_estimators': 400.0, 'max_depth': 9}.\n",
      "[I 2019-08-04 11:23:55,973] Finished trial#77 resulted in value: 0.25668449197860965. Current best value is 0.25668449197860965 with parameters: {'n_gram': 3, 'min_df': 15.0, 'n_estimators': 400.0, 'max_depth': 9}.\n",
      "[I 2019-08-04 11:23:58,120] Finished trial#78 resulted in value: 0.267379679144385. Current best value is 0.25668449197860965 with parameters: {'n_gram': 3, 'min_df': 15.0, 'n_estimators': 400.0, 'max_depth': 9}.\n",
      "[I 2019-08-04 11:24:00,209] Finished trial#79 resulted in value: 0.26344086021505375. Current best value is 0.25668449197860965 with parameters: {'n_gram': 3, 'min_df': 15.0, 'n_estimators': 400.0, 'max_depth': 9}.\n",
      "[I 2019-08-04 11:24:02,431] Finished trial#80 resulted in value: 0.28415300546448086. Current best value is 0.25668449197860965 with parameters: {'n_gram': 3, 'min_df': 15.0, 'n_estimators': 400.0, 'max_depth': 9}.\n",
      "[I 2019-08-04 11:24:04,520] Finished trial#81 resulted in value: 0.2625994694960212. Current best value is 0.25668449197860965 with parameters: {'n_gram': 3, 'min_df': 15.0, 'n_estimators': 400.0, 'max_depth': 9}.\n",
      "[I 2019-08-04 11:24:06,717] Finished trial#82 resulted in value: 0.264. Current best value is 0.25668449197860965 with parameters: {'n_gram': 3, 'min_df': 15.0, 'n_estimators': 400.0, 'max_depth': 9}.\n",
      "[I 2019-08-04 11:24:09,054] Finished trial#83 resulted in value: 0.2668463611859838. Current best value is 0.25668449197860965 with parameters: {'n_gram': 3, 'min_df': 15.0, 'n_estimators': 400.0, 'max_depth': 9}.\n",
      "[I 2019-08-04 11:24:11,570] Finished trial#84 resulted in value: 0.260053619302949. Current best value is 0.25668449197860965 with parameters: {'n_gram': 3, 'min_df': 15.0, 'n_estimators': 400.0, 'max_depth': 9}.\n",
      "[I 2019-08-04 11:24:13,974] Finished trial#85 resulted in value: 0.267379679144385. Current best value is 0.25668449197860965 with parameters: {'n_gram': 3, 'min_df': 15.0, 'n_estimators': 400.0, 'max_depth': 9}.\n",
      "[I 2019-08-04 11:24:16,452] Finished trial#86 resulted in value: 0.25668449197860965. Current best value is 0.25668449197860965 with parameters: {'n_gram': 3, 'min_df': 15.0, 'n_estimators': 400.0, 'max_depth': 9}.\n",
      "[I 2019-08-04 11:24:18,887] Finished trial#87 resulted in value: 0.3294460641399417. Current best value is 0.25668449197860965 with parameters: {'n_gram': 3, 'min_df': 15.0, 'n_estimators': 400.0, 'max_depth': 9}.\n",
      "[I 2019-08-04 11:24:20,808] Finished trial#88 resulted in value: 0.28767123287671237. Current best value is 0.25668449197860965 with parameters: {'n_gram': 3, 'min_df': 15.0, 'n_estimators': 400.0, 'max_depth': 9}.\n",
      "[I 2019-08-04 11:24:23,343] Finished trial#89 resulted in value: 0.25668449197860965. Current best value is 0.25668449197860965 with parameters: {'n_gram': 3, 'min_df': 15.0, 'n_estimators': 400.0, 'max_depth': 9}.\n",
      "[I 2019-08-04 11:24:25,908] Finished trial#90 resulted in value: 0.26344086021505375. Current best value is 0.25668449197860965 with parameters: {'n_gram': 3, 'min_df': 15.0, 'n_estimators': 400.0, 'max_depth': 9}.\n",
      "[I 2019-08-04 11:24:28,287] Finished trial#91 resulted in value: 0.2746666666666666. Current best value is 0.25668449197860965 with parameters: {'n_gram': 3, 'min_df': 15.0, 'n_estimators': 400.0, 'max_depth': 9}.\n",
      "[I 2019-08-04 11:24:30,926] Finished trial#92 resulted in value: 0.26344086021505375. Current best value is 0.25668449197860965 with parameters: {'n_gram': 3, 'min_df': 15.0, 'n_estimators': 400.0, 'max_depth': 9}.\n",
      "[I 2019-08-04 11:24:33,435] Finished trial#93 resulted in value: 0.25668449197860965. Current best value is 0.25668449197860965 with parameters: {'n_gram': 3, 'min_df': 15.0, 'n_estimators': 400.0, 'max_depth': 9}.\n",
      "[I 2019-08-04 11:24:35,631] Finished trial#94 resulted in value: 0.31666666666666665. Current best value is 0.25668449197860965 with parameters: {'n_gram': 3, 'min_df': 15.0, 'n_estimators': 400.0, 'max_depth': 9}.\n",
      "[I 2019-08-04 11:24:37,847] Finished trial#95 resulted in value: 0.264. Current best value is 0.25668449197860965 with parameters: {'n_gram': 3, 'min_df': 15.0, 'n_estimators': 400.0, 'max_depth': 9}.\n",
      "[I 2019-08-04 11:24:39,925] Finished trial#96 resulted in value: 0.26344086021505375. Current best value is 0.25668449197860965 with parameters: {'n_gram': 3, 'min_df': 15.0, 'n_estimators': 400.0, 'max_depth': 9}.\n",
      "[I 2019-08-04 11:24:42,164] Finished trial#97 resulted in value: 0.2912087912087912. Current best value is 0.25668449197860965 with parameters: {'n_gram': 3, 'min_df': 15.0, 'n_estimators': 400.0, 'max_depth': 9}.\n",
      "[I 2019-08-04 11:24:44,630] Finished trial#98 resulted in value: 0.25668449197860965. Current best value is 0.25668449197860965 with parameters: {'n_gram': 3, 'min_df': 15.0, 'n_estimators': 400.0, 'max_depth': 9}.\n",
      "[I 2019-08-04 11:24:47,179] Finished trial#99 resulted in value: 0.2717391304347826. Current best value is 0.25668449197860965 with parameters: {'n_gram': 3, 'min_df': 15.0, 'n_estimators': 400.0, 'max_depth': 9}.\n"
     ]
    }
   ],
   "source": [
    "train_df = pd.read_csv('/home/b2018yniki/data/nikkei/train.txt', sep='\\t', header=None, names=['target', 'time', 'body']).drop('time', axis=1)\n",
    "test_df  = pd.read_csv('/home/b2018yniki/data/nikkei/test.txt', sep='\\t', header=None, names=['target', 'time', 'body']).drop('time', axis=1)\n",
    "total_df = pd.concat([train_df, test_df], ignore_index=True).drop_duplicates()\n",
    "\n",
    "X = total_df.body\n",
    "y = total_df.target.apply(lambda x: 0 if x==1 else 1)\n",
    "\n",
    "def objective(trial):\n",
    "    n_gram       = trial.suggest_int('n_gram', 1, 5)\n",
    "    min_df       = int(trial.suggest_discrete_uniform('min_df', 5, 20, 5))\n",
    "    n_estimators = int(trial.suggest_discrete_uniform('n_estimators', 100, 1000, 300))\n",
    "    max_depth    = trial.suggest_int('max_depth', 5, 10)\n",
    "    \n",
    "    scores = create_model_pred(X, y, n_gram, min_df, n_estimators, max_depth)\n",
    "    \n",
    "    return 1 - scores[3]\n",
    "\n",
    "study = optuna.create_study()\n",
    "study.optimize(objective, n_trials=100)"
   ]
  },
  {
   "cell_type": "code",
   "execution_count": 4,
   "metadata": {},
   "outputs": [
    {
     "name": "stdout",
     "output_type": "stream",
     "text": [
      "best parameters:  {'n_gram': 3, 'min_df': 15.0, 'n_estimators': 400.0, 'max_depth': 9}\n",
      "best f1 score: 0.7433155080213903\n"
     ]
    }
   ],
   "source": [
    "print('best parameters: ', study.best_params)\n",
    "print('best f1 score: {}'.format(1-study.best_value))"
   ]
  },
  {
   "cell_type": "markdown",
   "metadata": {},
   "source": [
    "#### scores of best parameters"
   ]
  },
  {
   "cell_type": "code",
   "execution_count": 5,
   "metadata": {},
   "outputs": [
    {
     "name": "stdout",
     "output_type": "stream",
     "text": [
      "Number of features: 255\n",
      "X_train shape:  (1500, 255)\n",
      "X_test shape:  (501, 255)\n",
      "Confusion Matrix: \n",
      "[[139  75]\n",
      " [ 21 266]]\n",
      "scores:  (0.8083832335329342, 0.86875, 0.6495327102803738, 0.7433155080213903)\n",
      "AUC:  0.7881809892865284\n"
     ]
    }
   ],
   "source": [
    "train_df = pd.read_csv('/home/b2018yniki/data/nikkei/train.txt', sep='\\t', header=None, names=['target', 'time', 'body']).drop('time', axis=1)\n",
    "test_df  = pd.read_csv('/home/b2018yniki/data/nikkei/test.txt', sep='\\t', header=None, names=['target', 'time', 'body']).drop('time', axis=1)\n",
    "total_df = pd.concat([train_df, test_df], ignore_index=True).drop_duplicates()\n",
    "\n",
    "X = total_df.body\n",
    "y = total_df.target.apply(lambda x: 0 if x==1 else 1)\n",
    "\n",
    "X_train, X_test, y_train, y_test = train_test_split(X, y, test_size=0.25, random_state=2019)\n",
    "del train_df, test_df, total_df, X, y\n",
    "\n",
    "X_train = [get_tango(text) for text in X_train.values]\n",
    "X_test  = [get_tango(text) for text in X_test.values]\n",
    "\n",
    "vect = CountVectorizer(min_df=15, ngram_range=(1,3))\n",
    "vect.fit(X_train)\n",
    "X_train = vect.transform(X_train)\n",
    "X_test  = vect.transform(X_test)\n",
    "\n",
    "feature_names = vect.get_feature_names()\n",
    "print(\"Number of features: {}\".format(len(feature_names)))\n",
    "X_train = pd.DataFrame(X_train.toarray(), columns=feature_names)\n",
    "X_test  = pd.DataFrame(X_test.toarray(), columns=feature_names)\n",
    "\n",
    "print('X_train shape: ', X_train.shape)\n",
    "print('X_test shape: ', X_test.shape)\n",
    "\n",
    "rf_model = RandomForestClassifier(n_estimators=400, max_depth=9, random_state=2019)\n",
    "rf_model.fit(X_train, y_train)\n",
    "y_pred = rf_model.predict(X_test)\n",
    "\n",
    "confusion = confusion_matrix(y_test, y_pred)\n",
    "scores    = confusion2score(confusion)\n",
    "auc       = roc_auc_score(y_test, y_pred)\n",
    "print('Confusion Matrix: ')\n",
    "print(confusion)\n",
    "print('scores: ', scores)\n",
    "print('AUC: ', auc)"
   ]
  },
  {
   "cell_type": "markdown",
   "metadata": {},
   "source": [
    "### with feature engineering"
   ]
  },
  {
   "cell_type": "code",
   "execution_count": 3,
   "metadata": {},
   "outputs": [
    {
     "name": "stderr",
     "output_type": "stream",
     "text": [
      "[I 2019-07-30 13:36:35,397] Finished trial#0 resulted in value: 0.323943661971831. Current best value is 0.323943661971831 with parameters: {'n_gram': 2, 'min_df': 10.0, 'n_estimators': 1000.0, 'max_depth': 6, 'feat_eng': True}.\n",
      "[I 2019-07-30 13:36:37,819] Finished trial#1 resulted in value: 0.28648648648648645. Current best value is 0.28648648648648645 with parameters: {'n_gram': 1, 'min_df': 15.0, 'n_estimators': 400.0, 'max_depth': 8, 'feat_eng': True}.\n",
      "[I 2019-07-30 13:36:39,773] Finished trial#2 resulted in value: 0.2572944297082228. Current best value is 0.2572944297082228 with parameters: {'n_gram': 2, 'min_df': 15.0, 'n_estimators': 100.0, 'max_depth': 9, 'feat_eng': True}.\n",
      "[I 2019-07-30 13:36:41,755] Finished trial#3 resulted in value: 0.27077747989276135. Current best value is 0.2572944297082228 with parameters: {'n_gram': 2, 'min_df': 15.0, 'n_estimators': 100.0, 'max_depth': 9, 'feat_eng': True}.\n",
      "[I 2019-07-30 13:36:44,013] Finished trial#4 resulted in value: 0.2722371967654986. Current best value is 0.2572944297082228 with parameters: {'n_gram': 2, 'min_df': 15.0, 'n_estimators': 100.0, 'max_depth': 9, 'feat_eng': True}.\n",
      "[I 2019-07-30 13:36:46,303] Finished trial#5 resulted in value: 0.28767123287671237. Current best value is 0.2572944297082228 with parameters: {'n_gram': 2, 'min_df': 15.0, 'n_estimators': 100.0, 'max_depth': 9, 'feat_eng': True}.\n",
      "[I 2019-07-30 13:36:48,726] Finished trial#6 resulted in value: 0.32183908045977017. Current best value is 0.2572944297082228 with parameters: {'n_gram': 2, 'min_df': 15.0, 'n_estimators': 100.0, 'max_depth': 9, 'feat_eng': True}.\n",
      "[I 2019-07-30 13:36:51,173] Finished trial#7 resulted in value: 0.3294460641399417. Current best value is 0.2572944297082228 with parameters: {'n_gram': 2, 'min_df': 15.0, 'n_estimators': 100.0, 'max_depth': 9, 'feat_eng': True}.\n",
      "[I 2019-07-30 13:36:54,916] Finished trial#8 resulted in value: 0.3595166163141994. Current best value is 0.2572944297082228 with parameters: {'n_gram': 2, 'min_df': 15.0, 'n_estimators': 100.0, 'max_depth': 9, 'feat_eng': True}.\n",
      "[I 2019-07-30 13:36:57,648] Finished trial#9 resulted in value: 0.343108504398827. Current best value is 0.2572944297082228 with parameters: {'n_gram': 2, 'min_df': 15.0, 'n_estimators': 100.0, 'max_depth': 9, 'feat_eng': True}.\n",
      "[I 2019-07-30 13:36:59,600] Finished trial#10 resulted in value: 0.2810810810810811. Current best value is 0.2572944297082228 with parameters: {'n_gram': 2, 'min_df': 15.0, 'n_estimators': 100.0, 'max_depth': 9, 'feat_eng': True}.\n",
      "[I 2019-07-30 13:37:01,677] Finished trial#11 resulted in value: 0.2928176795580111. Current best value is 0.2572944297082228 with parameters: {'n_gram': 2, 'min_df': 15.0, 'n_estimators': 100.0, 'max_depth': 9, 'feat_eng': True}.\n",
      "[I 2019-07-30 13:37:03,669] Finished trial#12 resulted in value: 0.3114754098360656. Current best value is 0.2572944297082228 with parameters: {'n_gram': 2, 'min_df': 15.0, 'n_estimators': 100.0, 'max_depth': 9, 'feat_eng': True}.\n",
      "[I 2019-07-30 13:37:05,678] Finished trial#13 resulted in value: 0.31999999999999995. Current best value is 0.2572944297082228 with parameters: {'n_gram': 2, 'min_df': 15.0, 'n_estimators': 100.0, 'max_depth': 9, 'feat_eng': True}.\n",
      "[I 2019-07-30 13:37:07,777] Finished trial#14 resulted in value: 0.27472527472527475. Current best value is 0.2572944297082228 with parameters: {'n_gram': 2, 'min_df': 15.0, 'n_estimators': 100.0, 'max_depth': 9, 'feat_eng': True}.\n",
      "[I 2019-07-30 13:37:10,750] Finished trial#15 resulted in value: 0.30919220055710306. Current best value is 0.2572944297082228 with parameters: {'n_gram': 2, 'min_df': 15.0, 'n_estimators': 100.0, 'max_depth': 9, 'feat_eng': True}.\n",
      "[I 2019-07-30 13:37:12,650] Finished trial#16 resulted in value: 0.34705882352941175. Current best value is 0.2572944297082228 with parameters: {'n_gram': 2, 'min_df': 15.0, 'n_estimators': 100.0, 'max_depth': 9, 'feat_eng': True}.\n",
      "[I 2019-07-30 13:37:14,700] Finished trial#17 resulted in value: 0.27077747989276135. Current best value is 0.2572944297082228 with parameters: {'n_gram': 2, 'min_df': 15.0, 'n_estimators': 100.0, 'max_depth': 9, 'feat_eng': True}.\n",
      "[I 2019-07-30 13:37:16,711] Finished trial#18 resulted in value: 0.27077747989276135. Current best value is 0.2572944297082228 with parameters: {'n_gram': 2, 'min_df': 15.0, 'n_estimators': 100.0, 'max_depth': 9, 'feat_eng': True}.\n",
      "[I 2019-07-30 13:37:19,022] Finished trial#19 resulted in value: 0.2693333333333333. Current best value is 0.2572944297082228 with parameters: {'n_gram': 2, 'min_df': 15.0, 'n_estimators': 100.0, 'max_depth': 9, 'feat_eng': True}.\n",
      "[I 2019-07-30 13:37:21,559] Finished trial#20 resulted in value: 0.267379679144385. Current best value is 0.2572944297082228 with parameters: {'n_gram': 2, 'min_df': 15.0, 'n_estimators': 100.0, 'max_depth': 9, 'feat_eng': True}.\n",
      "[I 2019-07-30 13:37:24,112] Finished trial#21 resulted in value: 0.27419354838709675. Current best value is 0.2572944297082228 with parameters: {'n_gram': 2, 'min_df': 15.0, 'n_estimators': 100.0, 'max_depth': 9, 'feat_eng': True}.\n",
      "[I 2019-07-30 13:37:26,514] Finished trial#22 resulted in value: 0.267379679144385. Current best value is 0.2572944297082228 with parameters: {'n_gram': 2, 'min_df': 15.0, 'n_estimators': 100.0, 'max_depth': 9, 'feat_eng': True}.\n",
      "[I 2019-07-30 13:37:28,928] Finished trial#23 resulted in value: 0.2845528455284553. Current best value is 0.2572944297082228 with parameters: {'n_gram': 2, 'min_df': 15.0, 'n_estimators': 100.0, 'max_depth': 9, 'feat_eng': True}.\n",
      "[I 2019-07-30 13:37:32,341] Finished trial#24 resulted in value: 0.27419354838709675. Current best value is 0.2572944297082228 with parameters: {'n_gram': 2, 'min_df': 15.0, 'n_estimators': 100.0, 'max_depth': 9, 'feat_eng': True}.\n",
      "[I 2019-07-30 13:37:34,930] Finished trial#25 resulted in value: 0.267379679144385. Current best value is 0.2572944297082228 with parameters: {'n_gram': 2, 'min_df': 15.0, 'n_estimators': 100.0, 'max_depth': 9, 'feat_eng': True}.\n",
      "[I 2019-07-30 13:37:37,283] Finished trial#26 resulted in value: 0.2606382978723404. Current best value is 0.2572944297082228 with parameters: {'n_gram': 2, 'min_df': 15.0, 'n_estimators': 100.0, 'max_depth': 9, 'feat_eng': True}.\n",
      "[I 2019-07-30 13:37:39,751] Finished trial#27 resulted in value: 0.28342245989304815. Current best value is 0.2572944297082228 with parameters: {'n_gram': 2, 'min_df': 15.0, 'n_estimators': 100.0, 'max_depth': 9, 'feat_eng': True}.\n",
      "[I 2019-07-30 13:37:43,012] Finished trial#28 resulted in value: 0.3036211699164345. Current best value is 0.2572944297082228 with parameters: {'n_gram': 2, 'min_df': 15.0, 'n_estimators': 100.0, 'max_depth': 9, 'feat_eng': True}.\n",
      "[I 2019-07-30 13:37:45,710] Finished trial#29 resulted in value: 0.2606382978723404. Current best value is 0.2572944297082228 with parameters: {'n_gram': 2, 'min_df': 15.0, 'n_estimators': 100.0, 'max_depth': 9, 'feat_eng': True}.\n",
      "[I 2019-07-30 13:37:48,128] Finished trial#30 resulted in value: 0.29569892473118276. Current best value is 0.2572944297082228 with parameters: {'n_gram': 2, 'min_df': 15.0, 'n_estimators': 100.0, 'max_depth': 9, 'feat_eng': True}.\n",
      "[I 2019-07-30 13:37:51,253] Finished trial#31 resulted in value: 0.2606382978723404. Current best value is 0.2572944297082228 with parameters: {'n_gram': 2, 'min_df': 15.0, 'n_estimators': 100.0, 'max_depth': 9, 'feat_eng': True}.\n",
      "[I 2019-07-30 13:37:53,640] Finished trial#32 resulted in value: 0.3027027027027027. Current best value is 0.2572944297082228 with parameters: {'n_gram': 2, 'min_df': 15.0, 'n_estimators': 100.0, 'max_depth': 9, 'feat_eng': True}.\n",
      "[I 2019-07-30 13:37:56,247] Finished trial#33 resulted in value: 0.26881720430107525. Current best value is 0.2572944297082228 with parameters: {'n_gram': 2, 'min_df': 15.0, 'n_estimators': 100.0, 'max_depth': 9, 'feat_eng': True}.\n",
      "[I 2019-07-30 13:37:58,650] Finished trial#34 resulted in value: 0.2606382978723404. Current best value is 0.2572944297082228 with parameters: {'n_gram': 2, 'min_df': 15.0, 'n_estimators': 100.0, 'max_depth': 9, 'feat_eng': True}.\n",
      "[I 2019-07-30 13:38:00,836] Finished trial#35 resulted in value: 0.264. Current best value is 0.2572944297082228 with parameters: {'n_gram': 2, 'min_df': 15.0, 'n_estimators': 100.0, 'max_depth': 9, 'feat_eng': True}.\n",
      "[I 2019-07-30 13:38:03,704] Finished trial#36 resulted in value: 0.29569892473118276. Current best value is 0.2572944297082228 with parameters: {'n_gram': 2, 'min_df': 15.0, 'n_estimators': 100.0, 'max_depth': 9, 'feat_eng': True}.\n",
      "[I 2019-07-30 13:38:05,990] Finished trial#37 resulted in value: 0.29508196721311475. Current best value is 0.2572944297082228 with parameters: {'n_gram': 2, 'min_df': 15.0, 'n_estimators': 100.0, 'max_depth': 9, 'feat_eng': True}.\n",
      "[I 2019-07-30 13:38:09,086] Finished trial#38 resulted in value: 0.26455026455026454. Current best value is 0.2572944297082228 with parameters: {'n_gram': 2, 'min_df': 15.0, 'n_estimators': 100.0, 'max_depth': 9, 'feat_eng': True}.\n",
      "[I 2019-07-30 13:38:11,636] Finished trial#39 resulted in value: 0.3036211699164345. Current best value is 0.2572944297082228 with parameters: {'n_gram': 2, 'min_df': 15.0, 'n_estimators': 100.0, 'max_depth': 9, 'feat_eng': True}.\n",
      "[I 2019-07-30 13:38:13,455] Finished trial#40 resulted in value: 0.2845528455284553. Current best value is 0.2572944297082228 with parameters: {'n_gram': 2, 'min_df': 15.0, 'n_estimators': 100.0, 'max_depth': 9, 'feat_eng': True}.\n",
      "[I 2019-07-30 13:38:15,975] Finished trial#41 resulted in value: 0.2722371967654986. Current best value is 0.2572944297082228 with parameters: {'n_gram': 2, 'min_df': 15.0, 'n_estimators': 100.0, 'max_depth': 9, 'feat_eng': True}.\n",
      "[I 2019-07-30 13:38:19,049] Finished trial#42 resulted in value: 0.2606382978723404. Current best value is 0.2572944297082228 with parameters: {'n_gram': 2, 'min_df': 15.0, 'n_estimators': 100.0, 'max_depth': 9, 'feat_eng': True}.\n",
      "[I 2019-07-30 13:38:22,600] Finished trial#43 resulted in value: 0.267379679144385. Current best value is 0.2572944297082228 with parameters: {'n_gram': 2, 'min_df': 15.0, 'n_estimators': 100.0, 'max_depth': 9, 'feat_eng': True}.\n",
      "[I 2019-07-30 13:38:24,686] Finished trial#44 resulted in value: 0.3529411764705882. Current best value is 0.2572944297082228 with parameters: {'n_gram': 2, 'min_df': 15.0, 'n_estimators': 100.0, 'max_depth': 9, 'feat_eng': True}.\n",
      "[I 2019-07-30 13:38:26,958] Finished trial#45 resulted in value: 0.29569892473118276. Current best value is 0.2572944297082228 with parameters: {'n_gram': 2, 'min_df': 15.0, 'n_estimators': 100.0, 'max_depth': 9, 'feat_eng': True}.\n",
      "[I 2019-07-30 13:38:29,441] Finished trial#46 resulted in value: 0.29639889196675895. Current best value is 0.2572944297082228 with parameters: {'n_gram': 2, 'min_df': 15.0, 'n_estimators': 100.0, 'max_depth': 9, 'feat_eng': True}.\n",
      "[I 2019-07-30 13:38:31,392] Finished trial#47 resulted in value: 0.27077747989276135. Current best value is 0.2572944297082228 with parameters: {'n_gram': 2, 'min_df': 15.0, 'n_estimators': 100.0, 'max_depth': 9, 'feat_eng': True}.\n",
      "[I 2019-07-30 13:38:33,503] Finished trial#48 resulted in value: 0.29032258064516125. Current best value is 0.2572944297082228 with parameters: {'n_gram': 2, 'min_df': 15.0, 'n_estimators': 100.0, 'max_depth': 9, 'feat_eng': True}.\n",
      "[I 2019-07-30 13:38:35,486] Finished trial#49 resulted in value: 0.273209549071618. Current best value is 0.2572944297082228 with parameters: {'n_gram': 2, 'min_df': 15.0, 'n_estimators': 100.0, 'max_depth': 9, 'feat_eng': True}.\n",
      "[I 2019-07-30 13:38:38,241] Finished trial#50 resulted in value: 0.26455026455026454. Current best value is 0.2572944297082228 with parameters: {'n_gram': 2, 'min_df': 15.0, 'n_estimators': 100.0, 'max_depth': 9, 'feat_eng': True}.\n",
      "[I 2019-07-30 13:38:41,236] Finished trial#51 resulted in value: 0.2722371967654986. Current best value is 0.2572944297082228 with parameters: {'n_gram': 2, 'min_df': 15.0, 'n_estimators': 100.0, 'max_depth': 9, 'feat_eng': True}.\n",
      "[I 2019-07-30 13:38:43,393] Finished trial#52 resulted in value: 0.3111111111111111. Current best value is 0.2572944297082228 with parameters: {'n_gram': 2, 'min_df': 15.0, 'n_estimators': 100.0, 'max_depth': 9, 'feat_eng': True}.\n",
      "[I 2019-07-30 13:38:46,554] Finished trial#53 resulted in value: 0.267379679144385. Current best value is 0.2572944297082228 with parameters: {'n_gram': 2, 'min_df': 15.0, 'n_estimators': 100.0, 'max_depth': 9, 'feat_eng': True}.\n",
      "[I 2019-07-30 13:38:48,379] Finished trial#54 resulted in value: 0.2845528455284553. Current best value is 0.2572944297082228 with parameters: {'n_gram': 2, 'min_df': 15.0, 'n_estimators': 100.0, 'max_depth': 9, 'feat_eng': True}.\n",
      "[I 2019-07-30 13:38:50,390] Finished trial#55 resulted in value: 0.27077747989276135. Current best value is 0.2572944297082228 with parameters: {'n_gram': 2, 'min_df': 15.0, 'n_estimators': 100.0, 'max_depth': 9, 'feat_eng': True}.\n",
      "[I 2019-07-30 13:38:52,388] Finished trial#56 resulted in value: 0.27762803234501343. Current best value is 0.2572944297082228 with parameters: {'n_gram': 2, 'min_df': 15.0, 'n_estimators': 100.0, 'max_depth': 9, 'feat_eng': True}.\n",
      "[I 2019-07-30 13:38:55,984] Finished trial#57 resulted in value: 0.27807486631016043. Current best value is 0.2572944297082228 with parameters: {'n_gram': 2, 'min_df': 15.0, 'n_estimators': 100.0, 'max_depth': 9, 'feat_eng': True}.\n",
      "[I 2019-07-30 13:38:58,089] Finished trial#58 resulted in value: 0.3202247191011236. Current best value is 0.2572944297082228 with parameters: {'n_gram': 2, 'min_df': 15.0, 'n_estimators': 100.0, 'max_depth': 9, 'feat_eng': True}.\n",
      "[I 2019-07-30 13:39:00,051] Finished trial#59 resulted in value: 0.3045822102425876. Current best value is 0.2572944297082228 with parameters: {'n_gram': 2, 'min_df': 15.0, 'n_estimators': 100.0, 'max_depth': 9, 'feat_eng': True}.\n",
      "[I 2019-07-30 13:39:02,283] Finished trial#60 resulted in value: 0.2693333333333333. Current best value is 0.2572944297082228 with parameters: {'n_gram': 2, 'min_df': 15.0, 'n_estimators': 100.0, 'max_depth': 9, 'feat_eng': True}.\n",
      "[I 2019-07-30 13:39:05,655] Finished trial#61 resulted in value: 0.26455026455026454. Current best value is 0.2572944297082228 with parameters: {'n_gram': 2, 'min_df': 15.0, 'n_estimators': 100.0, 'max_depth': 9, 'feat_eng': True}.\n",
      "[I 2019-07-30 13:39:09,233] Finished trial#62 resulted in value: 0.3550295857988166. Current best value is 0.2572944297082228 with parameters: {'n_gram': 2, 'min_df': 15.0, 'n_estimators': 100.0, 'max_depth': 9, 'feat_eng': True}.\n",
      "[I 2019-07-30 13:39:12,945] Finished trial#63 resulted in value: 0.3165266106442577. Current best value is 0.2572944297082228 with parameters: {'n_gram': 2, 'min_df': 15.0, 'n_estimators': 100.0, 'max_depth': 9, 'feat_eng': True}.\n",
      "[I 2019-07-30 13:39:16,438] Finished trial#64 resulted in value: 0.2717391304347826. Current best value is 0.2572944297082228 with parameters: {'n_gram': 2, 'min_df': 15.0, 'n_estimators': 100.0, 'max_depth': 9, 'feat_eng': True}.\n",
      "[I 2019-07-30 13:39:20,329] Finished trial#65 resulted in value: 0.264. Current best value is 0.2572944297082228 with parameters: {'n_gram': 2, 'min_df': 15.0, 'n_estimators': 100.0, 'max_depth': 9, 'feat_eng': True}.\n",
      "[I 2019-07-30 13:39:23,602] Finished trial#66 resulted in value: 0.264. Current best value is 0.2572944297082228 with parameters: {'n_gram': 2, 'min_df': 15.0, 'n_estimators': 100.0, 'max_depth': 9, 'feat_eng': True}.\n",
      "[I 2019-07-30 13:39:26,310] Finished trial#67 resulted in value: 0.26455026455026454. Current best value is 0.2572944297082228 with parameters: {'n_gram': 2, 'min_df': 15.0, 'n_estimators': 100.0, 'max_depth': 9, 'feat_eng': True}.\n",
      "[I 2019-07-30 13:39:29,179] Finished trial#68 resulted in value: 0.25668449197860965. Current best value is 0.25668449197860965 with parameters: {'n_gram': 3, 'min_df': 15.0, 'n_estimators': 1000.0, 'max_depth': 10, 'feat_eng': False}.\n",
      "[I 2019-07-30 13:39:33,065] Finished trial#69 resulted in value: 0.25668449197860965. Current best value is 0.25668449197860965 with parameters: {'n_gram': 3, 'min_df': 15.0, 'n_estimators': 1000.0, 'max_depth': 10, 'feat_eng': False}.\n",
      "[I 2019-07-30 13:39:36,882] Finished trial#70 resulted in value: 0.260053619302949. Current best value is 0.25668449197860965 with parameters: {'n_gram': 3, 'min_df': 15.0, 'n_estimators': 1000.0, 'max_depth': 10, 'feat_eng': False}.\n",
      "[I 2019-07-30 13:39:40,823] Finished trial#71 resulted in value: 0.25668449197860965. Current best value is 0.25668449197860965 with parameters: {'n_gram': 3, 'min_df': 15.0, 'n_estimators': 1000.0, 'max_depth': 10, 'feat_eng': False}.\n",
      "[I 2019-07-30 13:39:44,844] Finished trial#72 resulted in value: 0.2654155495978552. Current best value is 0.25668449197860965 with parameters: {'n_gram': 3, 'min_df': 15.0, 'n_estimators': 1000.0, 'max_depth': 10, 'feat_eng': False}.\n",
      "[I 2019-07-30 13:39:48,870] Finished trial#73 resulted in value: 0.2654155495978552. Current best value is 0.25668449197860965 with parameters: {'n_gram': 3, 'min_df': 15.0, 'n_estimators': 1000.0, 'max_depth': 10, 'feat_eng': False}.\n",
      "[I 2019-07-30 13:39:52,734] Finished trial#74 resulted in value: 0.260053619302949. Current best value is 0.25668449197860965 with parameters: {'n_gram': 3, 'min_df': 15.0, 'n_estimators': 1000.0, 'max_depth': 10, 'feat_eng': False}.\n",
      "[I 2019-07-30 13:39:56,642] Finished trial#75 resulted in value: 0.25668449197860965. Current best value is 0.25668449197860965 with parameters: {'n_gram': 3, 'min_df': 15.0, 'n_estimators': 1000.0, 'max_depth': 10, 'feat_eng': False}.\n",
      "[I 2019-07-30 13:40:00,600] Finished trial#76 resulted in value: 0.26881720430107525. Current best value is 0.25668449197860965 with parameters: {'n_gram': 3, 'min_df': 15.0, 'n_estimators': 1000.0, 'max_depth': 10, 'feat_eng': False}.\n",
      "[I 2019-07-30 13:40:03,564] Finished trial#77 resulted in value: 0.2654155495978552. Current best value is 0.25668449197860965 with parameters: {'n_gram': 3, 'min_df': 15.0, 'n_estimators': 1000.0, 'max_depth': 10, 'feat_eng': False}.\n",
      "[I 2019-07-30 13:40:07,456] Finished trial#78 resulted in value: 0.25668449197860965. Current best value is 0.25668449197860965 with parameters: {'n_gram': 3, 'min_df': 15.0, 'n_estimators': 1000.0, 'max_depth': 10, 'feat_eng': False}.\n",
      "[I 2019-07-30 13:40:11,280] Finished trial#79 resulted in value: 0.260053619302949. Current best value is 0.25668449197860965 with parameters: {'n_gram': 3, 'min_df': 15.0, 'n_estimators': 1000.0, 'max_depth': 10, 'feat_eng': False}.\n",
      "[I 2019-07-30 13:40:14,129] Finished trial#80 resulted in value: 0.27913279132791324. Current best value is 0.25668449197860965 with parameters: {'n_gram': 3, 'min_df': 15.0, 'n_estimators': 1000.0, 'max_depth': 10, 'feat_eng': False}.\n",
      "[I 2019-07-30 13:40:18,023] Finished trial#81 resulted in value: 0.25668449197860965. Current best value is 0.25668449197860965 with parameters: {'n_gram': 3, 'min_df': 15.0, 'n_estimators': 1000.0, 'max_depth': 10, 'feat_eng': False}.\n",
      "[I 2019-07-30 13:40:22,039] Finished trial#82 resulted in value: 0.26881720430107525. Current best value is 0.25668449197860965 with parameters: {'n_gram': 3, 'min_df': 15.0, 'n_estimators': 1000.0, 'max_depth': 10, 'feat_eng': False}.\n",
      "[I 2019-07-30 13:40:24,832] Finished trial#83 resulted in value: 0.29476584022038566. Current best value is 0.25668449197860965 with parameters: {'n_gram': 3, 'min_df': 15.0, 'n_estimators': 1000.0, 'max_depth': 10, 'feat_eng': False}.\n",
      "[I 2019-07-30 13:40:27,744] Finished trial#84 resulted in value: 0.2654155495978552. Current best value is 0.25668449197860965 with parameters: {'n_gram': 3, 'min_df': 15.0, 'n_estimators': 1000.0, 'max_depth': 10, 'feat_eng': False}.\n",
      "[I 2019-07-30 13:40:31,619] Finished trial#85 resulted in value: 0.260053619302949. Current best value is 0.25668449197860965 with parameters: {'n_gram': 3, 'min_df': 15.0, 'n_estimators': 1000.0, 'max_depth': 10, 'feat_eng': False}.\n",
      "[I 2019-07-30 13:40:35,756] Finished trial#86 resulted in value: 0.2654155495978552. Current best value is 0.25668449197860965 with parameters: {'n_gram': 3, 'min_df': 15.0, 'n_estimators': 1000.0, 'max_depth': 10, 'feat_eng': False}.\n",
      "[I 2019-07-30 13:40:38,523] Finished trial#87 resulted in value: 0.2668463611859838. Current best value is 0.25668449197860965 with parameters: {'n_gram': 3, 'min_df': 15.0, 'n_estimators': 1000.0, 'max_depth': 10, 'feat_eng': False}.\n",
      "[I 2019-07-30 13:40:41,950] Finished trial#88 resulted in value: 0.2668463611859838. Current best value is 0.25668449197860965 with parameters: {'n_gram': 3, 'min_df': 15.0, 'n_estimators': 1000.0, 'max_depth': 10, 'feat_eng': False}.\n",
      "[I 2019-07-30 13:40:44,849] Finished trial#89 resulted in value: 0.25668449197860965. Current best value is 0.25668449197860965 with parameters: {'n_gram': 3, 'min_df': 15.0, 'n_estimators': 1000.0, 'max_depth': 10, 'feat_eng': False}.\n",
      "[I 2019-07-30 13:40:47,746] Finished trial#90 resulted in value: 0.26881720430107525. Current best value is 0.25668449197860965 with parameters: {'n_gram': 3, 'min_df': 15.0, 'n_estimators': 1000.0, 'max_depth': 10, 'feat_eng': False}.\n",
      "[I 2019-07-30 13:40:51,046] Finished trial#91 resulted in value: 0.26344086021505375. Current best value is 0.25668449197860965 with parameters: {'n_gram': 3, 'min_df': 15.0, 'n_estimators': 1000.0, 'max_depth': 10, 'feat_eng': False}.\n",
      "[I 2019-07-30 13:40:54,795] Finished trial#92 resulted in value: 0.3220338983050848. Current best value is 0.25668449197860965 with parameters: {'n_gram': 3, 'min_df': 15.0, 'n_estimators': 1000.0, 'max_depth': 10, 'feat_eng': False}.\n",
      "[I 2019-07-30 13:40:57,392] Finished trial#93 resulted in value: 0.25668449197860965. Current best value is 0.25668449197860965 with parameters: {'n_gram': 3, 'min_df': 15.0, 'n_estimators': 1000.0, 'max_depth': 10, 'feat_eng': False}.\n",
      "[I 2019-07-30 13:41:00,488] Finished trial#94 resulted in value: 0.3220338983050848. Current best value is 0.25668449197860965 with parameters: {'n_gram': 3, 'min_df': 15.0, 'n_estimators': 1000.0, 'max_depth': 10, 'feat_eng': False}.\n",
      "[I 2019-07-30 13:41:03,240] Finished trial#95 resulted in value: 0.26344086021505375. Current best value is 0.25668449197860965 with parameters: {'n_gram': 3, 'min_df': 15.0, 'n_estimators': 1000.0, 'max_depth': 10, 'feat_eng': False}.\n",
      "[I 2019-07-30 13:41:06,704] Finished trial#96 resulted in value: 0.26344086021505375. Current best value is 0.25668449197860965 with parameters: {'n_gram': 3, 'min_df': 15.0, 'n_estimators': 1000.0, 'max_depth': 10, 'feat_eng': False}.\n",
      "[I 2019-07-30 13:41:10,594] Finished trial#97 resulted in value: 0.2912087912087912. Current best value is 0.25668449197860965 with parameters: {'n_gram': 3, 'min_df': 15.0, 'n_estimators': 1000.0, 'max_depth': 10, 'feat_eng': False}.\n",
      "[I 2019-07-30 13:41:13,459] Finished trial#98 resulted in value: 0.260053619302949. Current best value is 0.25668449197860965 with parameters: {'n_gram': 3, 'min_df': 15.0, 'n_estimators': 1000.0, 'max_depth': 10, 'feat_eng': False}.\n",
      "[I 2019-07-30 13:41:17,324] Finished trial#99 resulted in value: 0.264. Current best value is 0.25668449197860965 with parameters: {'n_gram': 3, 'min_df': 15.0, 'n_estimators': 1000.0, 'max_depth': 10, 'feat_eng': False}.\n"
     ]
    }
   ],
   "source": [
    "train_df = pd.read_csv('/home/b2018yniki/data/nikkei/train.txt', sep='\\t', header=None, names=['target', 'time', 'body']).drop('time', axis=1)\n",
    "test_df  = pd.read_csv('/home/b2018yniki/data/nikkei/test.txt', sep='\\t', header=None, names=['target', 'time', 'body']).drop('time', axis=1)\n",
    "total_df = pd.concat([train_df, test_df], ignore_index=True).drop_duplicates()\n",
    "\n",
    "X = total_df.body\n",
    "y = total_df.target.apply(lambda x: 0 if x==1 else 1)\n",
    "\n",
    "def objective(trial):\n",
    "    n_gram       = trial.suggest_int('n_gram', 1, 5)\n",
    "    min_df       = int(trial.suggest_discrete_uniform('min_df', 5, 20, 5))\n",
    "    n_estimators = int(trial.suggest_discrete_uniform('n_estimators', 100, 1000, 300))\n",
    "    max_depth    = trial.suggest_int('max_depth', 5, 10)\n",
    "    feat_eng     = trial.suggest_categorical('feat_eng', [True, False])\n",
    "    \n",
    "    scores = create_model_pred2(X, y, n_gram, min_df, n_estimators, max_depth, feat_eng)\n",
    "    \n",
    "    return 1 - scores[3]\n",
    "\n",
    "study = optuna.create_study()\n",
    "study.optimize(objective, n_trials=100)"
   ]
  },
  {
   "cell_type": "markdown",
   "metadata": {},
   "source": [
    "## best parameters"
   ]
  },
  {
   "cell_type": "code",
   "execution_count": 4,
   "metadata": {},
   "outputs": [
    {
     "name": "stdout",
     "output_type": "stream",
     "text": [
      "best parameters:  {'n_gram': 3, 'min_df': 15.0, 'n_estimators': 1000.0, 'max_depth': 10, 'feat_eng': False}\n",
      "best f1 score: 0.7433155080213903\n"
     ]
    }
   ],
   "source": [
    "print('best parameters: ', study.best_params)\n",
    "print('best f1 score: {}'.format(1-study.best_value))"
   ]
  },
  {
   "cell_type": "code",
   "execution_count": 2,
   "metadata": {},
   "outputs": [
    {
     "name": "stdout",
     "output_type": "stream",
     "text": [
      "Number of features: 255\n",
      "X_train shape:  (1500, 255)\n",
      "X_test shape:  (501, 255)\n",
      "Confusion Matrix: \n",
      "[[139  75]\n",
      " [ 21 266]]\n",
      "scores:  (0.8083832335329342, 0.86875, 0.6495327102803738, 0.7433155080213903)\n",
      "AUC:  0.7881809892865284\n"
     ]
    }
   ],
   "source": [
    "train_df = pd.read_csv('/home/b2018yniki/data/nikkei/train.txt', sep='\\t', header=None, names=['target', 'time', 'body']).drop('time', axis=1)\n",
    "test_df  = pd.read_csv('/home/b2018yniki/data/nikkei/test.txt', sep='\\t', header=None, names=['target', 'time', 'body']).drop('time', axis=1)\n",
    "total_df = pd.concat([train_df, test_df], ignore_index=True).drop_duplicates()\n",
    "\n",
    "X = total_df.body\n",
    "y = total_df.target.apply(lambda x: 0 if x==1 else 1)\n",
    "\n",
    "X_train, X_test, y_train, y_test = train_test_split(X, y, test_size=0.25, random_state=2019)\n",
    "del train_df, test_df, total_df, X, y\n",
    "\n",
    "X_train = [get_tango(text) for text in X_train.values]\n",
    "X_test  = [get_tango(text) for text in X_test.values]\n",
    "\n",
    "vect = CountVectorizer(min_df=15, ngram_range=(1,3))\n",
    "vect.fit(X_train)\n",
    "X_train = vect.transform(X_train)\n",
    "X_test  = vect.transform(X_test)\n",
    "\n",
    "feature_names = vect.get_feature_names()\n",
    "print(\"Number of features: {}\".format(len(feature_names)))\n",
    "X_train = pd.DataFrame(X_train.toarray(), columns=feature_names)\n",
    "X_test  = pd.DataFrame(X_test.toarray(), columns=feature_names)\n",
    "\n",
    "print('X_train shape: ', X_train.shape)\n",
    "print('X_test shape: ', X_test.shape)\n",
    "\n",
    "rf_model = RandomForestClassifier(n_estimators=1000, max_depth=10, random_state=2019)\n",
    "rf_model.fit(X_train, y_train)\n",
    "y_pred = rf_model.predict(X_test)\n",
    "\n",
    "confusion = confusion_matrix(y_test, y_pred)\n",
    "scores    = confusion2score(confusion)\n",
    "auc       = roc_auc_score(y_test, y_pred)\n",
    "print('Confusion Matrix: ')\n",
    "print(confusion)\n",
    "print('scores: ', scores)\n",
    "print('AUC: ', auc)"
   ]
  },
  {
   "cell_type": "code",
   "execution_count": 7,
   "metadata": {},
   "outputs": [
    {
     "data": {
      "text/html": [
       "<div>\n",
       "<style scoped>\n",
       "    .dataframe tbody tr th:only-of-type {\n",
       "        vertical-align: middle;\n",
       "    }\n",
       "\n",
       "    .dataframe tbody tr th {\n",
       "        vertical-align: top;\n",
       "    }\n",
       "\n",
       "    .dataframe thead th {\n",
       "        text-align: right;\n",
       "    }\n",
       "</style>\n",
       "<table border=\"1\" class=\"dataframe\">\n",
       "  <thead>\n",
       "    <tr style=\"text-align: right;\">\n",
       "      <th></th>\n",
       "      <th>0</th>\n",
       "    </tr>\n",
       "  </thead>\n",
       "  <tbody>\n",
       "    <tr>\n",
       "      <th>ため</th>\n",
       "      <td>0.133626</td>\n",
       "    </tr>\n",
       "    <tr>\n",
       "      <th>この ため</th>\n",
       "      <td>0.085623</td>\n",
       "    </tr>\n",
       "    <tr>\n",
       "      <th>記者会見</th>\n",
       "      <td>0.085469</td>\n",
       "    </tr>\n",
       "    <tr>\n",
       "      <th>この</th>\n",
       "      <td>0.058276</td>\n",
       "    </tr>\n",
       "    <tr>\n",
       "      <th>事件</th>\n",
       "      <td>0.038965</td>\n",
       "    </tr>\n",
       "    <tr>\n",
       "      <th>影響</th>\n",
       "      <td>0.036063</td>\n",
       "    </tr>\n",
       "    <tr>\n",
       "      <th>について</th>\n",
       "      <td>0.027376</td>\n",
       "    </tr>\n",
       "    <tr>\n",
       "      <th>ある</th>\n",
       "      <td>0.024695</td>\n",
       "    </tr>\n",
       "    <tr>\n",
       "      <th>容疑者</th>\n",
       "      <td>0.023329</td>\n",
       "    </tr>\n",
       "    <tr>\n",
       "      <th>示し</th>\n",
       "      <td>0.020973</td>\n",
       "    </tr>\n",
       "  </tbody>\n",
       "</table>\n",
       "</div>"
      ],
      "text/plain": [
       "              0\n",
       "ため     0.133626\n",
       "この ため  0.085623\n",
       "記者会見   0.085469\n",
       "この     0.058276\n",
       "事件     0.038965\n",
       "影響     0.036063\n",
       "について   0.027376\n",
       "ある     0.024695\n",
       "容疑者    0.023329\n",
       "示し     0.020973"
      ]
     },
     "execution_count": 7,
     "metadata": {},
     "output_type": "execute_result"
    }
   ],
   "source": [
    "fi_df = pd.DataFrame(rf_model.feature_importances_, index=feature_names).sort_values(0, ascending=False)\n",
    "fi_df.head(10)"
   ]
  },
  {
   "cell_type": "code",
   "execution_count": 4,
   "metadata": {},
   "outputs": [
    {
     "name": "stderr",
     "output_type": "stream",
     "text": [
      "findfont: Font family ['TakaoPGothic'] not found. Falling back to DejaVu Sans.\n",
      "/home/b2018yniki/.pyenv/versions/3.7.1/lib/python3.7/site-packages/matplotlib/backends/backend_agg.py:211: RuntimeWarning: Glyph 12383 missing from current font.\n",
      "  font.set_text(s, 0.0, flags=flags)\n",
      "/home/b2018yniki/.pyenv/versions/3.7.1/lib/python3.7/site-packages/matplotlib/backends/backend_agg.py:211: RuntimeWarning: Glyph 12417 missing from current font.\n",
      "  font.set_text(s, 0.0, flags=flags)\n",
      "/home/b2018yniki/.pyenv/versions/3.7.1/lib/python3.7/site-packages/matplotlib/backends/backend_agg.py:211: RuntimeWarning: Glyph 12371 missing from current font.\n",
      "  font.set_text(s, 0.0, flags=flags)\n",
      "/home/b2018yniki/.pyenv/versions/3.7.1/lib/python3.7/site-packages/matplotlib/backends/backend_agg.py:211: RuntimeWarning: Glyph 12398 missing from current font.\n",
      "  font.set_text(s, 0.0, flags=flags)\n",
      "/home/b2018yniki/.pyenv/versions/3.7.1/lib/python3.7/site-packages/matplotlib/backends/backend_agg.py:211: RuntimeWarning: Glyph 35352 missing from current font.\n",
      "  font.set_text(s, 0.0, flags=flags)\n",
      "/home/b2018yniki/.pyenv/versions/3.7.1/lib/python3.7/site-packages/matplotlib/backends/backend_agg.py:211: RuntimeWarning: Glyph 32773 missing from current font.\n",
      "  font.set_text(s, 0.0, flags=flags)\n",
      "/home/b2018yniki/.pyenv/versions/3.7.1/lib/python3.7/site-packages/matplotlib/backends/backend_agg.py:211: RuntimeWarning: Glyph 20250 missing from current font.\n",
      "  font.set_text(s, 0.0, flags=flags)\n",
      "/home/b2018yniki/.pyenv/versions/3.7.1/lib/python3.7/site-packages/matplotlib/backends/backend_agg.py:211: RuntimeWarning: Glyph 35211 missing from current font.\n",
      "  font.set_text(s, 0.0, flags=flags)\n",
      "/home/b2018yniki/.pyenv/versions/3.7.1/lib/python3.7/site-packages/matplotlib/backends/backend_agg.py:211: RuntimeWarning: Glyph 20107 missing from current font.\n",
      "  font.set_text(s, 0.0, flags=flags)\n",
      "/home/b2018yniki/.pyenv/versions/3.7.1/lib/python3.7/site-packages/matplotlib/backends/backend_agg.py:211: RuntimeWarning: Glyph 20214 missing from current font.\n",
      "  font.set_text(s, 0.0, flags=flags)\n",
      "/home/b2018yniki/.pyenv/versions/3.7.1/lib/python3.7/site-packages/matplotlib/backends/backend_agg.py:211: RuntimeWarning: Glyph 24433 missing from current font.\n",
      "  font.set_text(s, 0.0, flags=flags)\n",
      "/home/b2018yniki/.pyenv/versions/3.7.1/lib/python3.7/site-packages/matplotlib/backends/backend_agg.py:211: RuntimeWarning: Glyph 38911 missing from current font.\n",
      "  font.set_text(s, 0.0, flags=flags)\n",
      "/home/b2018yniki/.pyenv/versions/3.7.1/lib/python3.7/site-packages/matplotlib/backends/backend_agg.py:211: RuntimeWarning: Glyph 12395 missing from current font.\n",
      "  font.set_text(s, 0.0, flags=flags)\n",
      "/home/b2018yniki/.pyenv/versions/3.7.1/lib/python3.7/site-packages/matplotlib/backends/backend_agg.py:211: RuntimeWarning: Glyph 12388 missing from current font.\n",
      "  font.set_text(s, 0.0, flags=flags)\n",
      "/home/b2018yniki/.pyenv/versions/3.7.1/lib/python3.7/site-packages/matplotlib/backends/backend_agg.py:211: RuntimeWarning: Glyph 12356 missing from current font.\n",
      "  font.set_text(s, 0.0, flags=flags)\n",
      "/home/b2018yniki/.pyenv/versions/3.7.1/lib/python3.7/site-packages/matplotlib/backends/backend_agg.py:211: RuntimeWarning: Glyph 12390 missing from current font.\n",
      "  font.set_text(s, 0.0, flags=flags)\n",
      "/home/b2018yniki/.pyenv/versions/3.7.1/lib/python3.7/site-packages/matplotlib/backends/backend_agg.py:211: RuntimeWarning: Glyph 12354 missing from current font.\n",
      "  font.set_text(s, 0.0, flags=flags)\n",
      "/home/b2018yniki/.pyenv/versions/3.7.1/lib/python3.7/site-packages/matplotlib/backends/backend_agg.py:211: RuntimeWarning: Glyph 12427 missing from current font.\n",
      "  font.set_text(s, 0.0, flags=flags)\n",
      "/home/b2018yniki/.pyenv/versions/3.7.1/lib/python3.7/site-packages/matplotlib/backends/backend_agg.py:211: RuntimeWarning: Glyph 23481 missing from current font.\n",
      "  font.set_text(s, 0.0, flags=flags)\n",
      "/home/b2018yniki/.pyenv/versions/3.7.1/lib/python3.7/site-packages/matplotlib/backends/backend_agg.py:211: RuntimeWarning: Glyph 30097 missing from current font.\n",
      "  font.set_text(s, 0.0, flags=flags)\n",
      "/home/b2018yniki/.pyenv/versions/3.7.1/lib/python3.7/site-packages/matplotlib/backends/backend_agg.py:211: RuntimeWarning: Glyph 31034 missing from current font.\n",
      "  font.set_text(s, 0.0, flags=flags)\n",
      "/home/b2018yniki/.pyenv/versions/3.7.1/lib/python3.7/site-packages/matplotlib/backends/backend_agg.py:211: RuntimeWarning: Glyph 12375 missing from current font.\n",
      "  font.set_text(s, 0.0, flags=flags)\n",
      "/home/b2018yniki/.pyenv/versions/3.7.1/lib/python3.7/site-packages/matplotlib/backends/backend_agg.py:180: RuntimeWarning: Glyph 12383 missing from current font.\n",
      "  font.set_text(s, 0, flags=flags)\n",
      "/home/b2018yniki/.pyenv/versions/3.7.1/lib/python3.7/site-packages/matplotlib/backends/backend_agg.py:180: RuntimeWarning: Glyph 12417 missing from current font.\n",
      "  font.set_text(s, 0, flags=flags)\n",
      "/home/b2018yniki/.pyenv/versions/3.7.1/lib/python3.7/site-packages/matplotlib/backends/backend_agg.py:180: RuntimeWarning: Glyph 12371 missing from current font.\n",
      "  font.set_text(s, 0, flags=flags)\n",
      "/home/b2018yniki/.pyenv/versions/3.7.1/lib/python3.7/site-packages/matplotlib/backends/backend_agg.py:180: RuntimeWarning: Glyph 12398 missing from current font.\n",
      "  font.set_text(s, 0, flags=flags)\n",
      "/home/b2018yniki/.pyenv/versions/3.7.1/lib/python3.7/site-packages/matplotlib/backends/backend_agg.py:180: RuntimeWarning: Glyph 35352 missing from current font.\n",
      "  font.set_text(s, 0, flags=flags)\n",
      "/home/b2018yniki/.pyenv/versions/3.7.1/lib/python3.7/site-packages/matplotlib/backends/backend_agg.py:180: RuntimeWarning: Glyph 32773 missing from current font.\n",
      "  font.set_text(s, 0, flags=flags)\n",
      "/home/b2018yniki/.pyenv/versions/3.7.1/lib/python3.7/site-packages/matplotlib/backends/backend_agg.py:180: RuntimeWarning: Glyph 20250 missing from current font.\n",
      "  font.set_text(s, 0, flags=flags)\n",
      "/home/b2018yniki/.pyenv/versions/3.7.1/lib/python3.7/site-packages/matplotlib/backends/backend_agg.py:180: RuntimeWarning: Glyph 35211 missing from current font.\n",
      "  font.set_text(s, 0, flags=flags)\n",
      "/home/b2018yniki/.pyenv/versions/3.7.1/lib/python3.7/site-packages/matplotlib/backends/backend_agg.py:180: RuntimeWarning: Glyph 20107 missing from current font.\n",
      "  font.set_text(s, 0, flags=flags)\n",
      "/home/b2018yniki/.pyenv/versions/3.7.1/lib/python3.7/site-packages/matplotlib/backends/backend_agg.py:180: RuntimeWarning: Glyph 20214 missing from current font.\n",
      "  font.set_text(s, 0, flags=flags)\n",
      "/home/b2018yniki/.pyenv/versions/3.7.1/lib/python3.7/site-packages/matplotlib/backends/backend_agg.py:180: RuntimeWarning: Glyph 24433 missing from current font.\n",
      "  font.set_text(s, 0, flags=flags)\n",
      "/home/b2018yniki/.pyenv/versions/3.7.1/lib/python3.7/site-packages/matplotlib/backends/backend_agg.py:180: RuntimeWarning: Glyph 38911 missing from current font.\n",
      "  font.set_text(s, 0, flags=flags)\n",
      "/home/b2018yniki/.pyenv/versions/3.7.1/lib/python3.7/site-packages/matplotlib/backends/backend_agg.py:180: RuntimeWarning: Glyph 12395 missing from current font.\n",
      "  font.set_text(s, 0, flags=flags)\n",
      "/home/b2018yniki/.pyenv/versions/3.7.1/lib/python3.7/site-packages/matplotlib/backends/backend_agg.py:180: RuntimeWarning: Glyph 12388 missing from current font.\n",
      "  font.set_text(s, 0, flags=flags)\n",
      "/home/b2018yniki/.pyenv/versions/3.7.1/lib/python3.7/site-packages/matplotlib/backends/backend_agg.py:180: RuntimeWarning: Glyph 12356 missing from current font.\n",
      "  font.set_text(s, 0, flags=flags)\n",
      "/home/b2018yniki/.pyenv/versions/3.7.1/lib/python3.7/site-packages/matplotlib/backends/backend_agg.py:180: RuntimeWarning: Glyph 12390 missing from current font.\n",
      "  font.set_text(s, 0, flags=flags)\n",
      "/home/b2018yniki/.pyenv/versions/3.7.1/lib/python3.7/site-packages/matplotlib/backends/backend_agg.py:180: RuntimeWarning: Glyph 12354 missing from current font.\n",
      "  font.set_text(s, 0, flags=flags)\n",
      "/home/b2018yniki/.pyenv/versions/3.7.1/lib/python3.7/site-packages/matplotlib/backends/backend_agg.py:180: RuntimeWarning: Glyph 12427 missing from current font.\n",
      "  font.set_text(s, 0, flags=flags)\n",
      "/home/b2018yniki/.pyenv/versions/3.7.1/lib/python3.7/site-packages/matplotlib/backends/backend_agg.py:180: RuntimeWarning: Glyph 23481 missing from current font.\n",
      "  font.set_text(s, 0, flags=flags)\n",
      "/home/b2018yniki/.pyenv/versions/3.7.1/lib/python3.7/site-packages/matplotlib/backends/backend_agg.py:180: RuntimeWarning: Glyph 30097 missing from current font.\n",
      "  font.set_text(s, 0, flags=flags)\n",
      "/home/b2018yniki/.pyenv/versions/3.7.1/lib/python3.7/site-packages/matplotlib/backends/backend_agg.py:180: RuntimeWarning: Glyph 31034 missing from current font.\n",
      "  font.set_text(s, 0, flags=flags)\n",
      "/home/b2018yniki/.pyenv/versions/3.7.1/lib/python3.7/site-packages/matplotlib/backends/backend_agg.py:180: RuntimeWarning: Glyph 12375 missing from current font.\n",
      "  font.set_text(s, 0, flags=flags)\n"
     ]
    },
    {
     "data": {
      "image/png": "[encoded data removed]",
      "text/plain": [
       "<Figure size 432x288 with 1 Axes>"
      ]
     },
     "metadata": {
      "needs_background": "light"
     },
     "output_type": "display_data"
    }
   ],
   "source": [
    "plt.figure()\n",
    "sns.barplot(x=fi_df.head(10)[0].values,y=fi_df.head(10).index.values, data=fi_df.head(10))\n",
    "plt.show()"
   ]
  },
  {
   "cell_type": "code",
   "execution_count": 57,
   "metadata": {},
   "outputs": [
    {
     "data": {
      "text/plain": [
       "'/home/b2018yniki/.pyenv/versions/3.7.1/lib/python3.7/site-packages/matplotlib/mpl-data/matplotlibrc'"
      ]
     },
     "execution_count": 57,
     "metadata": {},
     "output_type": "execute_result"
    }
   ],
   "source": [
    "matplotlib.matplotlib_fname()"
   ]
  },
  {
   "cell_type": "code",
   "execution_count": 58,
   "metadata": {},
   "outputs": [
    {
     "name": "stdout",
     "output_type": "stream",
     "text": [
      "/home/b2018yniki/.config/matplotlib\n"
     ]
    }
   ],
   "source": [
    "print(matplotlib.get_configdir())\n",
    "!ls /home/b2018yniki/.config/matplotlib"
   ]
  },
  {
   "cell_type": "code",
   "execution_count": 5,
   "metadata": {},
   "outputs": [
    {
     "name": "stdout",
     "output_type": "stream",
     "text": [
      "/home/b2018yniki/.cache/matplotlib\n",
      "fontlist-v310.json  tex.cache\n"
     ]
    }
   ],
   "source": [
    "print(matplotlib.get_cachedir())\n",
    "!ls /home/b2018yniki/.cache/matplotlib\n",
    "# !rm ~/.cache/matplotlib/fontlist-v310.json\n",
    "# !ls /home/b2018yniki/.cache/matplotlib"
   ]
  },
  {
   "cell_type": "code",
   "execution_count": null,
   "metadata": {},
   "outputs": [],
   "source": []
  }
 ],
 "metadata": {
  "kernelspec": {
   "display_name": "Python 3",
   "language": "python",
   "name": "python3"
  },
  "language_info": {
   "codemirror_mode": {
    "name": "ipython",
    "version": 3
   },
   "file_extension": ".py",
   "mimetype": "text/x-python",
   "name": "python",
   "nbconvert_exporter": "python",
   "pygments_lexer": "ipython3",
   "version": "3.7.1"
  }
 },
 "nbformat": 4,
 "nbformat_minor": 2
}
